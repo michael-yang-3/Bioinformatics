{
  "nbformat": 4,
  "nbformat_minor": 0,
  "metadata": {
    "colab": {
      "name": "Genomics - Sequence Alignment and Cancer Data Analysis.ipynb",
      "provenance": [],
      "collapsed_sections": [],
      "toc_visible": true
    },
    "kernelspec": {
      "display_name": "Python 3",
      "language": "python",
      "name": "python3"
    },
    "language_info": {
      "codemirror_mode": {
        "name": "ipython",
        "version": 3
      },
      "file_extension": ".py",
      "mimetype": "text/x-python",
      "name": "python",
      "nbconvert_exporter": "python",
      "pygments_lexer": "ipython3",
      "version": "3.6.6"
    },
    "widgets": {
      "application/vnd.jupyter.widget-state+json": {
        "0c04e519a93a46c886e7ae4c35304e0e": {
          "model_module": "ipytree",
          "model_name": "TreeModel",
          "state": {
            "_view_name": "TreeView",
            "selected_nodes": [],
            "_dom_classes": [],
            "_model_name": "TreeModel",
            "_view_module": "ipytree",
            "_model_module_version": "0.1.8",
            "_view_count": null,
            "multiple_selection": true,
            "_view_module_version": "0.1.8",
            "animation": 200,
            "layout": "IPY_MODEL_8efa0a10c38c434baf06a5731326b41e",
            "nodes": [
              "IPY_MODEL_765c476f3b42422394b4274d31f0df89"
            ],
            "_id": "#",
            "_model_module": "ipytree"
          },
          "model_module_version": "0.1.8"
        }
      }
    }
  },
  "cells": [
    {
      "cell_type": "code",
      "metadata": {
        "cellView": "form",
        "id": "GztdoSJiAqF1",
        "colab": {
          "base_uri": "https://localhost:8080/"
        },
        "outputId": "9618e7a2-0d36-4da6-dc1f-49b82f5693c5"
      },
      "source": [
        "#@title Install prerequisite, this will take a while\n",
        "# Install prerequisite, no need to run this if you are running the notebook from\n",
        "# your laptop and you already install the packages in Anaconda \n",
        "\n",
        "!pip install biopython\n",
        "!pip install ipytree\n",
        "!pip install scikit-allel\n",
        "!pip install zarr\n",
        "\n",
        "# install mafft commandline\n",
        "!wget https://mafft.cbrc.jp/alignment/software/mafft_7.471-1_amd64.deb\n",
        "!sudo dpkg -i mafft_7.471-1_amd64.deb\n",
        "#!wget https://mafft.cbrc.jp/alignment/software/mafft-7.471-linux.tgz\n",
        "#!tar -zxvf mafft-7.471-linux.tgz\n",
        "#!ln -s $(pwd)/mafft-linux64/mafftdir/bin/mafft /bin/mafft"
      ],
      "execution_count": null,
      "outputs": [
        {
          "output_type": "stream",
          "text": [
            "Collecting biopython\n",
            "\u001b[?25l  Downloading https://files.pythonhosted.org/packages/3a/cd/0098eaff841850c01da928c7f509b72fd3e1f51d77b772e24de9e2312471/biopython-1.78-cp37-cp37m-manylinux1_x86_64.whl (2.3MB)\n",
            "\u001b[K     |████████████████████████████████| 2.3MB 5.8MB/s \n",
            "\u001b[?25hRequirement already satisfied: numpy in /usr/local/lib/python3.7/dist-packages (from biopython) (1.19.5)\n",
            "Installing collected packages: biopython\n",
            "Successfully installed biopython-1.78\n",
            "Collecting ipytree\n",
            "\u001b[?25l  Downloading https://files.pythonhosted.org/packages/57/a3/67e37560306b4bb72d6d91cca980e972e324357ae50e8a77519bebbc03ea/ipytree-0.2.1-py2.py3-none-any.whl (1.3MB)\n",
            "\u001b[K     |████████████████████████████████| 1.3MB 5.7MB/s \n",
            "\u001b[?25hRequirement already satisfied: ipywidgets<8,>=7.5.0 in /usr/local/lib/python3.7/dist-packages (from ipytree) (7.6.3)\n",
            "Requirement already satisfied: ipykernel>=4.5.1 in /usr/local/lib/python3.7/dist-packages (from ipywidgets<8,>=7.5.0->ipytree) (4.10.1)\n",
            "Requirement already satisfied: widgetsnbextension~=3.5.0 in /usr/local/lib/python3.7/dist-packages (from ipywidgets<8,>=7.5.0->ipytree) (3.5.1)\n",
            "Requirement already satisfied: traitlets>=4.3.1 in /usr/local/lib/python3.7/dist-packages (from ipywidgets<8,>=7.5.0->ipytree) (5.0.5)\n",
            "Requirement already satisfied: jupyterlab-widgets>=1.0.0; python_version >= \"3.6\" in /usr/local/lib/python3.7/dist-packages (from ipywidgets<8,>=7.5.0->ipytree) (1.0.0)\n",
            "Requirement already satisfied: ipython>=4.0.0; python_version >= \"3.3\" in /usr/local/lib/python3.7/dist-packages (from ipywidgets<8,>=7.5.0->ipytree) (5.5.0)\n",
            "Requirement already satisfied: nbformat>=4.2.0 in /usr/local/lib/python3.7/dist-packages (from ipywidgets<8,>=7.5.0->ipytree) (5.1.3)\n",
            "Requirement already satisfied: tornado>=4.0 in /usr/local/lib/python3.7/dist-packages (from ipykernel>=4.5.1->ipywidgets<8,>=7.5.0->ipytree) (5.1.1)\n",
            "Requirement already satisfied: jupyter-client in /usr/local/lib/python3.7/dist-packages (from ipykernel>=4.5.1->ipywidgets<8,>=7.5.0->ipytree) (5.3.5)\n",
            "Requirement already satisfied: notebook>=4.4.1 in /usr/local/lib/python3.7/dist-packages (from widgetsnbextension~=3.5.0->ipywidgets<8,>=7.5.0->ipytree) (5.3.1)\n",
            "Requirement already satisfied: ipython-genutils in /usr/local/lib/python3.7/dist-packages (from traitlets>=4.3.1->ipywidgets<8,>=7.5.0->ipytree) (0.2.0)\n",
            "Requirement already satisfied: prompt-toolkit<2.0.0,>=1.0.4 in /usr/local/lib/python3.7/dist-packages (from ipython>=4.0.0; python_version >= \"3.3\"->ipywidgets<8,>=7.5.0->ipytree) (1.0.18)\n",
            "Requirement already satisfied: decorator in /usr/local/lib/python3.7/dist-packages (from ipython>=4.0.0; python_version >= \"3.3\"->ipywidgets<8,>=7.5.0->ipytree) (4.4.2)\n",
            "Requirement already satisfied: pexpect; sys_platform != \"win32\" in /usr/local/lib/python3.7/dist-packages (from ipython>=4.0.0; python_version >= \"3.3\"->ipywidgets<8,>=7.5.0->ipytree) (4.8.0)\n",
            "Requirement already satisfied: simplegeneric>0.8 in /usr/local/lib/python3.7/dist-packages (from ipython>=4.0.0; python_version >= \"3.3\"->ipywidgets<8,>=7.5.0->ipytree) (0.8.1)\n",
            "Requirement already satisfied: pygments in /usr/local/lib/python3.7/dist-packages (from ipython>=4.0.0; python_version >= \"3.3\"->ipywidgets<8,>=7.5.0->ipytree) (2.6.1)\n",
            "Requirement already satisfied: setuptools>=18.5 in /usr/local/lib/python3.7/dist-packages (from ipython>=4.0.0; python_version >= \"3.3\"->ipywidgets<8,>=7.5.0->ipytree) (56.0.0)\n",
            "Requirement already satisfied: pickleshare in /usr/local/lib/python3.7/dist-packages (from ipython>=4.0.0; python_version >= \"3.3\"->ipywidgets<8,>=7.5.0->ipytree) (0.7.5)\n",
            "Requirement already satisfied: jupyter-core in /usr/local/lib/python3.7/dist-packages (from nbformat>=4.2.0->ipywidgets<8,>=7.5.0->ipytree) (4.7.1)\n",
            "Requirement already satisfied: jsonschema!=2.5.0,>=2.4 in /usr/local/lib/python3.7/dist-packages (from nbformat>=4.2.0->ipywidgets<8,>=7.5.0->ipytree) (2.6.0)\n",
            "Requirement already satisfied: pyzmq>=13 in /usr/local/lib/python3.7/dist-packages (from jupyter-client->ipykernel>=4.5.1->ipywidgets<8,>=7.5.0->ipytree) (22.0.3)\n",
            "Requirement already satisfied: python-dateutil>=2.1 in /usr/local/lib/python3.7/dist-packages (from jupyter-client->ipykernel>=4.5.1->ipywidgets<8,>=7.5.0->ipytree) (2.8.1)\n",
            "Requirement already satisfied: nbconvert in /usr/local/lib/python3.7/dist-packages (from notebook>=4.4.1->widgetsnbextension~=3.5.0->ipywidgets<8,>=7.5.0->ipytree) (5.6.1)\n",
            "Requirement already satisfied: jinja2 in /usr/local/lib/python3.7/dist-packages (from notebook>=4.4.1->widgetsnbextension~=3.5.0->ipywidgets<8,>=7.5.0->ipytree) (2.11.3)\n",
            "Requirement already satisfied: Send2Trash in /usr/local/lib/python3.7/dist-packages (from notebook>=4.4.1->widgetsnbextension~=3.5.0->ipywidgets<8,>=7.5.0->ipytree) (1.5.0)\n",
            "Requirement already satisfied: terminado>=0.8.1 in /usr/local/lib/python3.7/dist-packages (from notebook>=4.4.1->widgetsnbextension~=3.5.0->ipywidgets<8,>=7.5.0->ipytree) (0.9.4)\n",
            "Requirement already satisfied: six>=1.9.0 in /usr/local/lib/python3.7/dist-packages (from prompt-toolkit<2.0.0,>=1.0.4->ipython>=4.0.0; python_version >= \"3.3\"->ipywidgets<8,>=7.5.0->ipytree) (1.15.0)\n",
            "Requirement already satisfied: wcwidth in /usr/local/lib/python3.7/dist-packages (from prompt-toolkit<2.0.0,>=1.0.4->ipython>=4.0.0; python_version >= \"3.3\"->ipywidgets<8,>=7.5.0->ipytree) (0.2.5)\n",
            "Requirement already satisfied: ptyprocess>=0.5 in /usr/local/lib/python3.7/dist-packages (from pexpect; sys_platform != \"win32\"->ipython>=4.0.0; python_version >= \"3.3\"->ipywidgets<8,>=7.5.0->ipytree) (0.7.0)\n",
            "Requirement already satisfied: bleach in /usr/local/lib/python3.7/dist-packages (from nbconvert->notebook>=4.4.1->widgetsnbextension~=3.5.0->ipywidgets<8,>=7.5.0->ipytree) (3.3.0)\n",
            "Requirement already satisfied: testpath in /usr/local/lib/python3.7/dist-packages (from nbconvert->notebook>=4.4.1->widgetsnbextension~=3.5.0->ipywidgets<8,>=7.5.0->ipytree) (0.4.4)\n",
            "Requirement already satisfied: pandocfilters>=1.4.1 in /usr/local/lib/python3.7/dist-packages (from nbconvert->notebook>=4.4.1->widgetsnbextension~=3.5.0->ipywidgets<8,>=7.5.0->ipytree) (1.4.3)\n",
            "Requirement already satisfied: defusedxml in /usr/local/lib/python3.7/dist-packages (from nbconvert->notebook>=4.4.1->widgetsnbextension~=3.5.0->ipywidgets<8,>=7.5.0->ipytree) (0.7.1)\n",
            "Requirement already satisfied: mistune<2,>=0.8.1 in /usr/local/lib/python3.7/dist-packages (from nbconvert->notebook>=4.4.1->widgetsnbextension~=3.5.0->ipywidgets<8,>=7.5.0->ipytree) (0.8.4)\n",
            "Requirement already satisfied: entrypoints>=0.2.2 in /usr/local/lib/python3.7/dist-packages (from nbconvert->notebook>=4.4.1->widgetsnbextension~=3.5.0->ipywidgets<8,>=7.5.0->ipytree) (0.3)\n",
            "Requirement already satisfied: MarkupSafe>=0.23 in /usr/local/lib/python3.7/dist-packages (from jinja2->notebook>=4.4.1->widgetsnbextension~=3.5.0->ipywidgets<8,>=7.5.0->ipytree) (1.1.1)\n",
            "Requirement already satisfied: packaging in /usr/local/lib/python3.7/dist-packages (from bleach->nbconvert->notebook>=4.4.1->widgetsnbextension~=3.5.0->ipywidgets<8,>=7.5.0->ipytree) (20.9)\n",
            "Requirement already satisfied: webencodings in /usr/local/lib/python3.7/dist-packages (from bleach->nbconvert->notebook>=4.4.1->widgetsnbextension~=3.5.0->ipywidgets<8,>=7.5.0->ipytree) (0.5.1)\n",
            "Requirement already satisfied: pyparsing>=2.0.2 in /usr/local/lib/python3.7/dist-packages (from packaging->bleach->nbconvert->notebook>=4.4.1->widgetsnbextension~=3.5.0->ipywidgets<8,>=7.5.0->ipytree) (2.4.7)\n",
            "Installing collected packages: ipytree\n",
            "Successfully installed ipytree-0.2.1\n",
            "Collecting scikit-allel\n",
            "\u001b[?25l  Downloading https://files.pythonhosted.org/packages/db/1d/bfdbb30eced4178d2c2677b94f78e26b856c9907cfb0e910fe4fd1811a9c/scikit-allel-1.3.3.tar.gz (10.8MB)\n",
            "\u001b[K     |████████████████████████████████| 10.8MB 5.9MB/s \n",
            "\u001b[?25hRequirement already satisfied: cython in /usr/local/lib/python3.7/dist-packages (from scikit-allel) (0.29.22)\n",
            "Requirement already satisfied: numpy in /usr/local/lib/python3.7/dist-packages (from scikit-allel) (1.19.5)\n",
            "Requirement already satisfied: dask[array] in /usr/local/lib/python3.7/dist-packages (from scikit-allel) (2.12.0)\n",
            "Requirement already satisfied: toolz>=0.7.3; extra == \"array\" in /usr/local/lib/python3.7/dist-packages (from dask[array]->scikit-allel) (0.11.1)\n",
            "Building wheels for collected packages: scikit-allel\n",
            "  Building wheel for scikit-allel (setup.py) ... \u001b[?25l\u001b[?25hdone\n",
            "  Created wheel for scikit-allel: filename=scikit_allel-1.3.3-cp37-cp37m-linux_x86_64.whl size=4696002 sha256=2e1fffecaf7064573ddd0fa22bbc3f06dde10f503be72745ecaffdf8c1d16c32\n",
            "  Stored in directory: /root/.cache/pip/wheels/a7/2d/dc/a1ef6b48b94aa072114bbb8c81de4393adef3b595679aaa910\n",
            "Successfully built scikit-allel\n",
            "Installing collected packages: scikit-allel\n",
            "Successfully installed scikit-allel-1.3.3\n",
            "Collecting zarr\n",
            "\u001b[?25l  Downloading https://files.pythonhosted.org/packages/88/4a/373f27204737623c1751c1540a10a7e5a6d50f188df4c8cfc6bc920661fd/zarr-2.8.0-py3-none-any.whl (139kB)\n",
            "\u001b[K     |████████████████████████████████| 143kB 4.3MB/s \n",
            "\u001b[?25hCollecting asciitree\n",
            "  Downloading https://files.pythonhosted.org/packages/2d/6a/885bc91484e1aa8f618f6f0228d76d0e67000b0fdd6090673b777e311913/asciitree-0.3.3.tar.gz\n",
            "Collecting numcodecs>=0.6.4\n",
            "\u001b[?25l  Downloading https://files.pythonhosted.org/packages/e9/fa/a4450b9b6bac850d65316d00a1417e633fc0fe36d66cc6407640242cd8e4/numcodecs-0.7.3-cp37-cp37m-manylinux2010_x86_64.whl (5.8MB)\n",
            "\u001b[K     |████████████████████████████████| 5.8MB 20.8MB/s \n",
            "\u001b[?25hRequirement already satisfied: numpy>=1.7 in /usr/local/lib/python3.7/dist-packages (from zarr) (1.19.5)\n",
            "Collecting fasteners\n",
            "  Downloading https://files.pythonhosted.org/packages/78/20/c862d765287e9e8b29f826749ebae8775bdca50b2cb2ca079346d5fbfd76/fasteners-0.16-py2.py3-none-any.whl\n",
            "Requirement already satisfied: six in /usr/local/lib/python3.7/dist-packages (from fasteners->zarr) (1.15.0)\n",
            "Building wheels for collected packages: asciitree\n",
            "  Building wheel for asciitree (setup.py) ... \u001b[?25l\u001b[?25hdone\n",
            "  Created wheel for asciitree: filename=asciitree-0.3.3-cp37-none-any.whl size=5037 sha256=ca13fa3ac92c6beec3d2d4bf47134c55a1319a4eea518dbd8737f3fac86b3e18\n",
            "  Stored in directory: /root/.cache/pip/wheels/1d/d9/58/9808b306744df0208fccc640d3d9952a5bc7468502d42897d5\n",
            "Successfully built asciitree\n",
            "Installing collected packages: asciitree, numcodecs, fasteners, zarr\n",
            "Successfully installed asciitree-0.3.3 fasteners-0.16 numcodecs-0.7.3 zarr-2.8.0\n",
            "--2021-04-26 03:14:00--  https://mafft.cbrc.jp/alignment/software/mafft_7.471-1_amd64.deb\n",
            "Resolving mafft.cbrc.jp (mafft.cbrc.jp)... 133.1.49.95\n",
            "Connecting to mafft.cbrc.jp (mafft.cbrc.jp)|133.1.49.95|:443... connected.\n",
            "HTTP request sent, awaiting response... 200 OK\n",
            "Length: 3635234 (3.5M)\n",
            "Saving to: ‘mafft_7.471-1_amd64.deb’\n",
            "\n",
            "mafft_7.471-1_amd64 100%[===================>]   3.47M  2.66MB/s    in 1.3s    \n",
            "\n",
            "2021-04-26 03:14:03 (2.66 MB/s) - ‘mafft_7.471-1_amd64.deb’ saved [3635234/3635234]\n",
            "\n",
            "Selecting previously unselected package mafft.\n",
            "(Reading database ... 160690 files and directories currently installed.)\n",
            "Preparing to unpack mafft_7.471-1_amd64.deb ...\n",
            "Unpacking mafft (7.471-1) ...\n",
            "Setting up mafft (7.471-1) ...\n",
            "Processing triggers for man-db (2.8.3-2ubuntu0.1) ...\n"
          ],
          "name": "stdout"
        }
      ]
    },
    {
      "cell_type": "code",
      "metadata": {
        "cellView": "form",
        "id": "4_mQlXl4BnDA",
        "colab": {
          "base_uri": "https://localhost:8080/",
          "height": 34
        },
        "outputId": "675c0cb4-c4d3-49f2-b9f8-c6a4cb48c784"
      },
      "source": [
        "#@title Mount Google Drive (You don't need to run this if you are running notebooks on your laptop)\n",
        "\n",
        "from google.colab import drive\n",
        "\n",
        "# The following command will prompt a URL for you to click and obtain the\n",
        "# authorization code\n",
        "\n",
        "drive.mount(\"/content/drive\")\n"
      ],
      "execution_count": null,
      "outputs": [
        {
          "output_type": "stream",
          "text": [
            "Mounted at /content/drive\n"
          ],
          "name": "stdout"
        }
      ]
    },
    {
      "cell_type": "code",
      "metadata": {
        "id": "QQD4mkx-CCmA"
      },
      "source": [
        "# Set up data folder\n",
        "from pathlib import Path\n",
        "\n",
        "# Change this to where you put your hw1 files\n",
        "DATA = Path(\"/content/drive/My Drive/2020 ECBM E4060/data/hw1\")"
      ],
      "execution_count": null,
      "outputs": []
    },
    {
      "cell_type": "markdown",
      "metadata": {
        "id": "QEpLQx3tR08M"
      },
      "source": [
        "# Columbia: Genomics Assignment 1 - Sequence Alignment and Data Analysis"
      ]
    },
    {
      "cell_type": "markdown",
      "metadata": {
        "id": "WVpMokdnR08U"
      },
      "source": [
        "## SARS-CoV-2 Genome Multiple Alignment\n",
        "\n",
        "\n"
      ]
    },
    {
      "cell_type": "markdown",
      "metadata": {
        "id": "sCIkTJEDlwnN"
      },
      "source": [
        "Severe acute respiratory syndrome coronavirus 2, or SARS-CoV-2, is responsible for the COVID-19 pandemic. The outbreak of the COVID-19 has brought together the global genomic research community to focus on understanding the virus at an unprecedent speed. As of September 2020, there has been more than 52,000 sequence runs, and 23,000 nucleotide records published on the National Center for Biotechnology Information (NCBI) website (https://www.ncbi.nlm.nih.gov/sars-cov-2/). In this homework, we will utilize the genomic sequences of SARS-CoV-2 submitted from different global location to see how the virus mutated into novel strands when it spreads across the world.\n",
        "\n",
        "There has been many researches focusing on this topic. Here we will do an ultra-simplified version of the analysis done in [_Dorp et al._](https://www.sciencedirect.com/science/article/pii/S1567134820301829) paper published in Sept. 2020. "
      ]
    },
    {
      "cell_type": "markdown",
      "metadata": {
        "id": "1meDgkP8H9hS"
      },
      "source": [
        "\n",
        "### Fetch virus genomic sequences from GenBank\n",
        "\n",
        "You can find all the SARS-CoV-2 genome metadata available in a tabular format [here](https://www.ncbi.nlm.nih.gov/labs/virus/vssi/#/virus?SeqType_s=Nucleotide&VirusLineage_ss=SARS-CoV-2,%20taxid:2697049). In order to process it more efficiently, I have downloaded the full table in a flat file in our shared google drive:\n",
        "\n",
        "[sars_cov_2_sequence_manifest.csv](https://drive.google.com/file/d/1dN3OMbIj67Kq6nZvs7UJOoeY7X8xJ56m/view?usp=sharing)\n",
        "\n",
        "You can load the manifest table through the following code:"
      ]
    },
    {
      "cell_type": "code",
      "metadata": {
        "id": "SvOJQ0RYKL_N",
        "colab": {
          "base_uri": "https://localhost:8080/",
          "height": 649
        },
        "outputId": "7fb5a7a2-c6fb-4371-e7eb-608b8b6e2668"
      },
      "source": [
        "import pandas as pd\n",
        "\n",
        "manifest = pd.read_csv(DATA / \"sars_cov_2_sequence_manifest.csv\",\n",
        "                       parse_dates=[\"Collection_Date\"])\n",
        "\n",
        "# like in Dorp et al. paper, we will only include `complete` sequences\n",
        "manifest = manifest[manifest.Nuc_Completeness == \"complete\"]\n",
        "\n",
        "manifest.head()"
      ],
      "execution_count": null,
      "outputs": [
        {
          "output_type": "execute_result",
          "data": {
            "text/html": [
              "<div>\n",
              "<style scoped>\n",
              "    .dataframe tbody tr th:only-of-type {\n",
              "        vertical-align: middle;\n",
              "    }\n",
              "\n",
              "    .dataframe tbody tr th {\n",
              "        vertical-align: top;\n",
              "    }\n",
              "\n",
              "    .dataframe thead th {\n",
              "        text-align: right;\n",
              "    }\n",
              "</style>\n",
              "<table border=\"1\" class=\"dataframe\">\n",
              "  <thead>\n",
              "    <tr style=\"text-align: right;\">\n",
              "      <th></th>\n",
              "      <th>Accession</th>\n",
              "      <th>SRA_Accession</th>\n",
              "      <th>Release_Date</th>\n",
              "      <th>Species</th>\n",
              "      <th>Genus</th>\n",
              "      <th>Family</th>\n",
              "      <th>Length</th>\n",
              "      <th>Sequence_Type</th>\n",
              "      <th>Nuc_Completeness</th>\n",
              "      <th>Genotype</th>\n",
              "      <th>Segment</th>\n",
              "      <th>Authors</th>\n",
              "      <th>Publications</th>\n",
              "      <th>Geo_Location</th>\n",
              "      <th>U.S._State</th>\n",
              "      <th>Host</th>\n",
              "      <th>Isolation_Source</th>\n",
              "      <th>Collection_Date</th>\n",
              "      <th>BioSample</th>\n",
              "      <th>GenBank_Title</th>\n",
              "    </tr>\n",
              "  </thead>\n",
              "  <tbody>\n",
              "    <tr>\n",
              "      <th>0</th>\n",
              "      <td>NC_045512</td>\n",
              "      <td>NaN</td>\n",
              "      <td>2020-01-13T00:00:00Z</td>\n",
              "      <td>Severe acute respiratory syndrome-related coro...</td>\n",
              "      <td>Betacoronavirus</td>\n",
              "      <td>Coronaviridae</td>\n",
              "      <td>29903</td>\n",
              "      <td>RefSeq</td>\n",
              "      <td>complete</td>\n",
              "      <td>NaN</td>\n",
              "      <td>NaN</td>\n",
              "      <td>Wu,F., Zhao,S., Yu,B., Chen,Y.M., Wang,W., Son...</td>\n",
              "      <td>32015508, 15680415, 15630477, 10482585</td>\n",
              "      <td>China</td>\n",
              "      <td>NaN</td>\n",
              "      <td>Homo sapiens</td>\n",
              "      <td>NaN</td>\n",
              "      <td>2019-12-01</td>\n",
              "      <td>NaN</td>\n",
              "      <td>Severe acute respiratory syndrome coronavirus ...</td>\n",
              "    </tr>\n",
              "    <tr>\n",
              "      <th>1</th>\n",
              "      <td>MT990449</td>\n",
              "      <td>NaN</td>\n",
              "      <td>2020-09-09T00:00:00Z</td>\n",
              "      <td>Severe acute respiratory syndrome-related coro...</td>\n",
              "      <td>Betacoronavirus</td>\n",
              "      <td>Coronaviridae</td>\n",
              "      <td>29787</td>\n",
              "      <td>GenBank</td>\n",
              "      <td>complete</td>\n",
              "      <td>NaN</td>\n",
              "      <td>NaN</td>\n",
              "      <td>Soliman,M.S., Abdelfattah,M., Aziz,R.K.</td>\n",
              "      <td>NaN</td>\n",
              "      <td>Egypt: Cairo</td>\n",
              "      <td>NaN</td>\n",
              "      <td>Homo sapiens</td>\n",
              "      <td>oronasopharynx</td>\n",
              "      <td>2020-05-19</td>\n",
              "      <td>NaN</td>\n",
              "      <td>Severe acute respiratory syndrome coronavirus ...</td>\n",
              "    </tr>\n",
              "    <tr>\n",
              "      <th>2</th>\n",
              "      <td>MT990450</td>\n",
              "      <td>NaN</td>\n",
              "      <td>2020-09-09T00:00:00Z</td>\n",
              "      <td>Severe acute respiratory syndrome-related coro...</td>\n",
              "      <td>Betacoronavirus</td>\n",
              "      <td>Coronaviridae</td>\n",
              "      <td>29792</td>\n",
              "      <td>GenBank</td>\n",
              "      <td>complete</td>\n",
              "      <td>NaN</td>\n",
              "      <td>NaN</td>\n",
              "      <td>Soliman,M.S., Abdelfattah,M., Aziz,R.K.</td>\n",
              "      <td>NaN</td>\n",
              "      <td>Egypt: Cairo</td>\n",
              "      <td>NaN</td>\n",
              "      <td>Homo sapiens</td>\n",
              "      <td>oronasopharynx</td>\n",
              "      <td>2020-06-19</td>\n",
              "      <td>NaN</td>\n",
              "      <td>Severe acute respiratory syndrome coronavirus ...</td>\n",
              "    </tr>\n",
              "    <tr>\n",
              "      <th>3</th>\n",
              "      <td>MT981086</td>\n",
              "      <td>NaN</td>\n",
              "      <td>2020-09-08T00:00:00Z</td>\n",
              "      <td>Severe acute respiratory syndrome-related coro...</td>\n",
              "      <td>Betacoronavirus</td>\n",
              "      <td>Coronaviridae</td>\n",
              "      <td>29868</td>\n",
              "      <td>GenBank</td>\n",
              "      <td>complete</td>\n",
              "      <td>NaN</td>\n",
              "      <td>NaN</td>\n",
              "      <td>Fink,L.</td>\n",
              "      <td>NaN</td>\n",
              "      <td>USA: Virginia</td>\n",
              "      <td>VA</td>\n",
              "      <td>Homo sapiens</td>\n",
              "      <td>NaN</td>\n",
              "      <td>2020-07-01</td>\n",
              "      <td>NaN</td>\n",
              "      <td>Severe acute respiratory syndrome coronavirus ...</td>\n",
              "    </tr>\n",
              "    <tr>\n",
              "      <th>4</th>\n",
              "      <td>MT981087</td>\n",
              "      <td>NaN</td>\n",
              "      <td>2020-09-08T00:00:00Z</td>\n",
              "      <td>Severe acute respiratory syndrome-related coro...</td>\n",
              "      <td>Betacoronavirus</td>\n",
              "      <td>Coronaviridae</td>\n",
              "      <td>29864</td>\n",
              "      <td>GenBank</td>\n",
              "      <td>complete</td>\n",
              "      <td>NaN</td>\n",
              "      <td>NaN</td>\n",
              "      <td>Fink,L.</td>\n",
              "      <td>NaN</td>\n",
              "      <td>USA: Virginia</td>\n",
              "      <td>VA</td>\n",
              "      <td>Homo sapiens</td>\n",
              "      <td>NaN</td>\n",
              "      <td>2020-07-01</td>\n",
              "      <td>NaN</td>\n",
              "      <td>Severe acute respiratory syndrome coronavirus ...</td>\n",
              "    </tr>\n",
              "  </tbody>\n",
              "</table>\n",
              "</div>"
            ],
            "text/plain": [
              "   Accession  ...                                      GenBank_Title\n",
              "0  NC_045512  ...  Severe acute respiratory syndrome coronavirus ...\n",
              "1   MT990449  ...  Severe acute respiratory syndrome coronavirus ...\n",
              "2   MT990450  ...  Severe acute respiratory syndrome coronavirus ...\n",
              "3   MT981086  ...  Severe acute respiratory syndrome coronavirus ...\n",
              "4   MT981087  ...  Severe acute respiratory syndrome coronavirus ...\n",
              "\n",
              "[5 rows x 20 columns]"
            ]
          },
          "metadata": {
            "tags": []
          },
          "execution_count": 4
        }
      ]
    },
    {
      "cell_type": "markdown",
      "metadata": {
        "id": "jbbfZOQ4LQNh"
      },
      "source": [
        "There are too many sequences to analyze. We'll just take samples of the major geological areas listed below to perform the multiple alignment. We selected the regions based on the top COVID-19 cases here: https://www.statista.com/statistics/1043366/novel-coronavirus-2019ncov-cases-worldwide-by-country/\n",
        "\n",
        "Note some of the high-prevalence locations were not included due to the limitation of sequence availability in NCBI."
      ]
    },
    {
      "cell_type": "code",
      "metadata": {
        "id": "HhiTDFWHLsbD"
      },
      "source": [
        "geo_location_of_interest = {\n",
        "    \"USA: NY\", \"USA: CA\", \"USA: TX\", # N America\n",
        "    \"Brazil\", \"Chile\", \"Mexico: Tijuana, BajaCalifornia\", # C/S America\n",
        "    \"France\", \"Spain\", \"Italy\", # W/C/S Europe\n",
        "    \"Egypt\", \"Morocco\", # Africa\n",
        "    \"Iran\", \"Bangladesh\", \"Saudi Arabia\", # W/S Asia\n",
        "    \"Philippines: NCR, Quezon City\", \"Japan\", \"Taiwan\", # E Asia\n",
        "    \"India: Ahmedabad\", \"India: Vadodara\", \"India: Surat\", # India\n",
        "    \"China\", \"China: Beijing\", \"China: Wuhan\", # China\n",
        "}"
      ],
      "execution_count": null,
      "outputs": []
    },
    {
      "cell_type": "markdown",
      "metadata": {
        "id": "cIhgnnl9djDY"
      },
      "source": [
        "For each geo-location, we'll take the latest 3 sequences from the location. We can do this by sorting the manifest DataFrame by the `Collection_Date` column:"
      ]
    },
    {
      "cell_type": "code",
      "metadata": {
        "id": "wgLqGXrpeOfz",
        "colab": {
          "base_uri": "https://localhost:8080/",
          "height": 425
        },
        "outputId": "2c9d3814-c7d2-407b-f9b0-4ebb5910200c"
      },
      "source": [
        "seq_of_interest = manifest[\n",
        "    manifest.Geo_Location.isin(geo_location_of_interest)\n",
        "].groupby(\"Geo_Location\").apply(\n",
        "    lambda df: df.sort_values(\"Collection_Date\").iloc[:3]\n",
        ").reset_index(drop=True)\n",
        "\n",
        "# You should have 3 sequences at each location if you run:\n",
        "seq_of_interest.groupby(\"Geo_Location\").Accession.nunique()"
      ],
      "execution_count": null,
      "outputs": [
        {
          "output_type": "execute_result",
          "data": {
            "text/plain": [
              "Geo_Location\n",
              "Bangladesh                         3\n",
              "Brazil                             3\n",
              "Chile                              3\n",
              "China                              3\n",
              "China: Beijing                     3\n",
              "China: Wuhan                       3\n",
              "Egypt                              3\n",
              "France                             3\n",
              "India: Ahmedabad                   3\n",
              "India: Surat                       3\n",
              "India: Vadodara                    3\n",
              "Iran                               3\n",
              "Italy                              3\n",
              "Mexico: Tijuana, BajaCalifornia    3\n",
              "Morocco                            3\n",
              "Philippines: NCR, Quezon City      3\n",
              "Saudi Arabia                       3\n",
              "Spain                              3\n",
              "Taiwan                             3\n",
              "USA: CA                            3\n",
              "USA: NY                            3\n",
              "USA: TX                            3\n",
              "Name: Accession, dtype: int64"
            ]
          },
          "metadata": {
            "tags": []
          },
          "execution_count": 6
        }
      ]
    },
    {
      "cell_type": "markdown",
      "metadata": {
        "id": "qsMtZVqAhvud"
      },
      "source": [
        "### Multiple alignment and construct a phylogenetic tree\n",
        "\n",
        "With the accession IDs in the `seq_of_interest` DataFrame, you should be able to fetch the genomic sequences. "
      ]
    },
    {
      "cell_type": "code",
      "metadata": {
        "id": "hkYHOBuJkWGc"
      },
      "source": [
        "from Bio import Entrez\n",
        "from Bio import SeqIO\n",
        "\n",
        "# Set your email address for genbank query\n",
        "Entrez.email = \"michael.y@columbia.edu\"\n",
        "\n",
        "#=============================================================================\n",
        "# Fetch genomic sequences from seq_of_interest. You can make one query of all\n",
        "# the sequences by concatenate the IDs with commas \n",
        "# Once you fetched the sequences from genbank, you should save them in a fasta\n",
        "# file in order to run multiple sequence alignment afterwards\n",
        "seq_ids = \",\".join(seq_of_interest.Accession)\n",
        "sequences = Entrez.efetch(db=\"nucleotide\", id=seq_ids, rettype=\"fasta\")\n",
        "\n",
        "fasta_file = \"accession_ids.fasta\"\n",
        "with open(fasta_file, \"w\") as fo:\n",
        "    fo.write(sequences.read())\n",
        "\n",
        "#============================================================================="
      ],
      "execution_count": null,
      "outputs": []
    },
    {
      "cell_type": "markdown",
      "metadata": {
        "id": "0K1zBXvm4lok"
      },
      "source": [
        "Now we have the sequences, let's run multiple sequence alignment. Following the footsteps of the [_Dorp et al._](https://www.sciencedirect.com/science/article/pii/S1567134820301829), we'll use [MAFFT](https://biopython.org/docs/1.75/api/Bio.Align.Applications.html#Bio.Align.Applications.MafftCommandline) alignment algorithm. Similar to other multiple alignment algorithms, there is a `biopython` commandline wrapper for us to run easily: `MafftCommandline` under `Bio.Align.Applications`. Refer to the [documentation in biopython](https://biopython.org/docs/1.75/api/Bio.Align.Applications.html#Bio.Align.Applications.MafftCommandline). Perform multiple sequence alignment on the fasta file you just wrote."
      ]
    },
    {
      "cell_type": "code",
      "metadata": {
        "id": "wsPir2Qj2oa6",
        "colab": {
          "base_uri": "https://localhost:8080/",
          "height": 391
        },
        "outputId": "5aa33772-09f3-403e-fe80-b38e882fc50d"
      },
      "source": [
        "#============================================================================\n",
        "# Perform multiple sequence alignment using MafftCommandline class and write\n",
        "# the alignment result to another fasta file\n",
        "from Bio.Align.Applications import MafftCommandline\n",
        "\n",
        "input = \"accession_ids.fasta\"\n",
        "mafft_cline = MafftCommandline(input = input)\n",
        "print(mafft_cline)\n",
        "\n",
        "stdout, stderr = mafft_cline()\n",
        "with open(\"accession_ids.fasta\", \"w\") as handle:\n",
        "    handle.write(stdout)\n",
        "from Bio import AlignIO\n",
        "align = AlignIO.read(\"accession_ids.fasta\", \"fasta\")\n",
        "\n",
        "print(align)\n",
        "\n",
        "#============================================================================"
      ],
      "execution_count": null,
      "outputs": [
        {
          "output_type": "stream",
          "text": [
            "mafft accession_ids.fasta\n",
            "Alignment with 66 rows and 29919 columns\n",
            "-ttaaaggtttataccttcccaggtaacaaaccaaccaactttc...--- MT476385.1\n",
            "--------------------------------caaccaactttc...--- MT577359.1\n",
            "-------------------------aacaaaccaaccaactttc...--- MT566435.1\n",
            "attaaaggtttataccttcccaggtaacaaaccaaccaactttc...--- MT126808.1\n",
            "attaaaggtttataccttcccaggtaacaaaccaaccaactttc...--- MT738101.1\n",
            "attaaaggtttataccttcccaggtaacaaaccaaccaactttc...--- MT350282.1\n",
            "--------------------------------------------...--- MT670015.1\n",
            "--------------------------------------------...--- MT670013.1\n",
            "--------------------------------------------...--- MT670014.1\n",
            "attaaaggtttataccttcccaggtaacaaaccaaccaactttc...--- NC_045512.2\n",
            "attaaaggtttataccttcccaggtaacaaaccaaccaactttc...--- MN908947.3\n",
            "-ttaaaggtttataccttcccaggtaacaaaccaaccaactttc...--- MN988669.1\n",
            "-----------ataccttcccaggtaacaaaccaaccaactttc...act MT034054.1\n",
            "-----aggtttataccttcccaggtaacaaaccaaccaactttc...--- MT291831.1\n",
            "--------tttataccttcccaggtaacaaaccaaccaactttc...--- MT291832.1\n",
            "--------------------------------------------...--- MT291826.1\n",
            "-------------------------------------aactttc...--- MT291827.1\n",
            "-------------------------------------aactttc...--- MT291828.1\n",
            "...\n",
            "attaaaggtttataccttcccaggtaacaaaccaaccaactttc...--- MT304490.1\n"
          ],
          "name": "stdout"
        }
      ]
    },
    {
      "cell_type": "markdown",
      "metadata": {
        "id": "BKwPtgn72ONT"
      },
      "source": [
        "With the alignment done, we can construct a [phylogenetic tree](https://en.wikipedia.org/wiki/Phylogenetic_tree) to quantify and visualize the genomic evolution of the virus taken from different locations. You can follow the document of [biopython's Phylo module](https://biopython.org/wiki/Phylo). Here we will build the phylogenetic tree using the [UPGMA](https://en.wikipedia.org/wiki/UPGMA) method, which can be called through the [DistanceTreeConstructor](https://biopython.org/docs/1.75/api/Bio.Phylo.TreeConstruction.html#Bio.Phylo.TreeConstruction.DistanceTreeConstructor) class.\n"
      ]
    },
    {
      "cell_type": "code",
      "metadata": {
        "id": "ncRE4JC__2Ds",
        "colab": {
          "base_uri": "https://localhost:8080/",
          "height": 1000
        },
        "outputId": "e4975d3d-e2c7-4287-bb55-552b230d70ea"
      },
      "source": [
        "#====================================================================\n",
        "# Build a phylogenetic tree using the MAFFT multiple alignment result\n",
        "# Remember to visualize your tree using the Bio.Phylo.draw function\n",
        "from Bio.Phylo.TreeConstruction import DistanceTreeConstructor\n",
        "from Bio.Phylo.TreeConstruction import DistanceCalculator\n",
        "\n",
        "calculator = DistanceCalculator('identity')\n",
        "dm = calculator.get_distance(align)\n",
        "# print(dm)\n",
        "constructor = DistanceTreeConstructor()\n",
        "tree = constructor.upgma(dm)\n",
        "print(tree)\n",
        "\n",
        "# constructor = DistanceTreeConstructor(calculator, 'upgma')\n",
        "# tree = constructor.build_tree(align)\n",
        "# print(tree)\n",
        "\n",
        "#====================================================================\n"
      ],
      "execution_count": null,
      "outputs": [
        {
          "output_type": "stream",
          "text": [
            "Tree(rooted=True)\n",
            "    Clade(branch_length=0, name='Inner65')\n",
            "        Clade(branch_length=0.012389325558483821, name='MT374101.1')\n",
            "        Clade(branch_length=0.007791875211100594, name='Inner64')\n",
            "            Clade(branch_length=0.008445788961413282, name='Inner16')\n",
            "                Clade(branch_length=4.177947123901182e-05, name='Inner8')\n",
            "                    Clade(branch_length=5.013536548681419e-05, name='MT810783.1')\n",
            "                    Clade(branch_length=5.013536548681419e-05, name='MT810784.1')\n",
            "                Clade(branch_length=9.191483672582601e-05, name='MT810786.1')\n",
            "            Clade(branch_length=0.00394025345075588, name='Inner63')\n",
            "                Clade(branch_length=0.0045974503473832275, name='MT451877.1')\n",
            "                Clade(branch_length=0.002418736602825013, name='Inner62')\n",
            "                    Clade(branch_length=0.00018401596809860697, name='Inner61')\n",
            "                        Clade(branch_length=0.0021787137445582147, name='MT451874.1')\n",
            "                        Clade(branch_length=0.0005582985845637364, name='Inner59')\n",
            "                            Clade(branch_length=0.0016204151599944782, name='MT517443.1')\n",
            "                            Clade(branch_length=0.00024490766997977776, name='Inner58')\n",
            "                                Clade(branch_length=0.0013755074900147005, name='MT370904.1')\n",
            "                                Clade(branch_length=0.0006828169129566466, name='Inner54')\n",
            "                                    Clade(branch_length=0.0008151892923393127, name='Inner24')\n",
            "                                        Clade(branch_length=0.00013369430796483783, name='MT510691.1')\n",
            "                                        Clade(branch_length=0.00013369430796483783, name='MT510690.1')\n",
            "                                    Clade(branch_length=0.0002561930232460967, name='Inner50')\n",
            "                                        Clade(branch_length=0.0006926905770580538, name='MT889692.1')\n",
            "                                        Clade(branch_length=0.00012370640312176157, name='Inner48')\n",
            "                                            Clade(branch_length=0.0003168711771783803, name='Inner39')\n",
            "                                                Clade(branch_length=0.00027365553661552744, name='MT077125.1')\n",
            "                                                Clade(branch_length=0.00013160533440288724, name='Inner36')\n",
            "                                                    Clade(branch_length=0.00019636351482335557, name='Inner10')\n",
            "                                                        Clade(branch_length=5.013536548681419e-05, name='MT670014.1')\n",
            "                                                        Clade(branch_length=5.013536548681419e-05, name='MT670013.1')\n",
            "                                                    Clade(branch_length=0.00010444867809752956, name='Inner26')\n",
            "                                                        Clade(branch_length=9.191483672582601e-05, name='Inner7')\n",
            "                                                            Clade(branch_length=5.013536548681419e-05, name='MT292573.1')\n",
            "                                                            Clade(branch_length=5.013536548681419e-05, name='MT292574.1')\n",
            "                                                        Clade(branch_length=0.0001420502022126402, name='MT670015.1')\n",
            "                                            Clade(branch_length=2.154253985761547e-05, name='Inner47')\n",
            "                                                Clade(branch_length=0.0005689841739362923, name='MT447177.1')\n",
            "                                                Clade(branch_length=0.00017625714428958113, name='Inner46')\n",
            "                                                    Clade(branch_length=0.0001530173134128808, name='Inner43')\n",
            "                                                        Clade(branch_length=0.0003123015475116134, name='MT451880.1')\n",
            "                                                        Clade(branch_length=0.00017442929242287436, name='Inner32')\n",
            "                                                            Clade(branch_length=6.475818042046833e-05, name='Inner21')\n",
            "                                                                Clade(branch_length=4.177947123901182e-05, name='Inner14')\n",
            "                                                                    Clade(branch_length=8.355894247802365e-05, name='MT539167.1')\n",
            "                                                                    Clade(branch_length=8.355894247802365e-05, name='MT509509.1')\n",
            "                                                                Clade(branch_length=0.00012533841371703547, name='MT509505.1')\n",
            "                                                            Clade(branch_length=5.222433904876478e-05, name='Inner25')\n",
            "                                                                Clade(branch_length=2.9245629867308276e-05, name='Inner19')\n",
            "                                                                    Clade(branch_length=0.00010862662522143074, name='MT479216.1')\n",
            "                                                                    Clade(branch_length=2.5067682743407094e-05, name='Inner15')\n",
            "                                                                        Clade(branch_length=8.355894247802365e-05, name='MT539166.1')\n",
            "                                                                        Clade(branch_length=8.355894247802365e-05, name='MT576035.1')\n",
            "                                                                Clade(branch_length=0.00013787225508873902, name='MT435083.1')\n",
            "                                                    Clade(branch_length=7.259183127778304e-05, name='Inner45')\n",
            "                                                        Clade(branch_length=0.0001420502022126402, name='Inner37')\n",
            "                                                            Clade(branch_length=8.355894247802365e-05, name='Inner30')\n",
            "                                                                Clade(branch_length=0.0001671178849560473, name='MT919772.1')\n",
            "                                                                Clade(branch_length=0.0001671178849560473, name='MT919770.1')\n",
            "                                                            Clade(branch_length=0.00025067682743407094, name='MT919769.1')\n",
            "                                                        Clade(branch_length=0.00039272702964671113, name='MT577359.1')\n",
            "                    Clade(branch_length=0.0005212342373735646, name='Inner60')\n",
            "                        Clade(branch_length=0.001841495475283257, name='MT291826.1')\n",
            "                        Clade(branch_length=0.000785911022260099, name='Inner57')\n",
            "                            Clade(branch_length=0.00028826203144322873, name='Inner56')\n",
            "                                Clade(branch_length=0.00041570573882816764, name='Inner51')\n",
            "                                    Clade(branch_length=0.0007227848524349045, name='MT320891.2')\n",
            "                                    Clade(branch_length=0.0004470403422574265, name='Inner40')\n",
            "                                        Clade(branch_length=0.00027574451017747803, name='MT192759.1')\n",
            "                                        Clade(branch_length=0.0002590327216818733, name='Inner5')\n",
            "                                            Clade(branch_length=1.671178849560473e-05, name='MT291828.1')\n",
            "                                            Clade(branch_length=1.671178849560473e-05, name='MT291827.1')\n",
            "                                Clade(branch_length=0.00020263043550920734, name='Inner53')\n",
            "                                    Clade(branch_length=0.0009358601557538648, name='MT291832.1')\n",
            "                                    Clade(branch_length=0.0009358601557538648, name='MT566435.1')\n",
            "                            Clade(branch_length=0.00016853773417393548, name='Inner55')\n",
            "                                Clade(branch_length=0.001055584453023158, name='MT034054.1')\n",
            "                                Clade(branch_length=0.0004633604482101655, name='Inner52')\n",
            "                                    Clade(branch_length=0.0001762897845014866, name='Inner49')\n",
            "                                        Clade(branch_length=0.0005922240048129926, name='MT044258.1')\n",
            "                                        Clade(branch_length=0.0002151642768809109, name='Inner44')\n",
            "                                            Clade(branch_length=0.0003770597279320817, name='MT304489.1')\n",
            "                                            Clade(branch_length=9.29593235068013e-05, name='Inner42')\n",
            "                                                Clade(branch_length=0.00013526103813630078, name='Inner33')\n",
            "                                                    Clade(branch_length=2.5067682743407094e-05, name='Inner29')\n",
            "                                                        Clade(branch_length=0.0001671178849560473, name='MT106054.1')\n",
            "                                                        Clade(branch_length=0.0001671178849560473, name='MN994467.1')\n",
            "                                                    Clade(branch_length=0.00010862662522143074, name='Inner28')\n",
            "                                                        Clade(branch_length=0.00010027073097362837, name='Inner6')\n",
            "                                                            Clade(branch_length=5.013536548681419e-05, name='MT304490.1')\n",
            "                                                            Clade(branch_length=5.013536548681419e-05, name='MT304486.1')\n",
            "                                                        Clade(branch_length=6.684715398241892e-05, name='Inner13')\n",
            "                                                            Clade(branch_length=8.355894247802365e-05, name='MN994468.1')\n",
            "                                                            Clade(branch_length=1.671178849560473e-05, name='Inner11')\n",
            "                                                                Clade(branch_length=6.684715398241892e-05, name='MT434813.1')\n",
            "                                                                Clade(branch_length=6.684715398241892e-05, name='MN988669.1')\n",
            "                                                Clade(branch_length=1.8278518667067672e-05, name='Inner41')\n",
            "                                                    Clade(branch_length=0.0002841004044252804, name='MT291831.1')\n",
            "                                                    Clade(branch_length=7.520304823022128e-05, name='Inner35')\n",
            "                                                        Clade(branch_length=7.520304823022128e-05, name='Inner22')\n",
            "                                                            Clade(branch_length=0.00013369430796483783, name='MT066175.1')\n",
            "                                                            Clade(branch_length=0.00013369430796483783, name='MT066156.1')\n",
            "                                                        Clade(branch_length=0.00020889735619505911, name='MT126808.1')\n",
            "                                    Clade(branch_length=0.0005058253638991924, name='Inner38')\n",
            "                                        Clade(branch_length=0.00026268842541528684, name='MT350282.1')\n",
            "                                        Clade(branch_length=0.00012063822320264664, name='Inner34')\n",
            "                                            Clade(branch_length=7.20695878872954e-05, name='Inner23')\n",
            "                                                Clade(branch_length=3.342357699120946e-05, name='Inner18')\n",
            "                                                    Clade(branch_length=0.00010027073097362837, name='MT755885.1')\n",
            "                                                    Clade(branch_length=0.00010027073097362837, name='MT755884.1')\n",
            "                                                Clade(branch_length=0.00013369430796483783, name='MT755883.1')\n",
            "                                            Clade(branch_length=6.371369363949303e-05, name='Inner31')\n",
            "                                                Clade(branch_length=3.969049767706123e-05, name='Inner27')\n",
            "                                                    Clade(branch_length=0.0001420502022126402, name='MT731327.1')\n",
            "                                                    Clade(branch_length=0.00012533841371703547, name='Inner17')\n",
            "                                                        Clade(branch_length=7.520304823022128e-05, name='Inner9')\n",
            "                                                            Clade(branch_length=3.342357699120946e-05, name='Inner4')\n",
            "                                                                Clade(branch_length=1.671178849560473e-05, name='Inner1')\n",
            "                                                                    Clade(branch_length=0.0, name='MT731746.1')\n",
            "                                                                    Clade(branch_length=0.0, name='MT731468.1')\n",
            "                                                                Clade(branch_length=1.671178849560473e-05, name='MT470157.1')\n",
            "                                                            Clade(branch_length=3.342357699120946e-05, name='Inner3')\n",
            "                                                                Clade(branch_length=1.671178849560473e-05, name='MT956917.1')\n",
            "                                                                Clade(branch_length=1.671178849560473e-05, name='MT470138.1')\n",
            "                                                        Clade(branch_length=9.191483672582601e-05, name='Inner2')\n",
            "                                                            Clade(branch_length=0.0, name='MN908947.3')\n",
            "                                                            Clade(branch_length=0.0, name='NC_045512.2')\n",
            "                                                Clade(branch_length=6.475818042046833e-05, name='Inner20')\n",
            "                                                    Clade(branch_length=0.0001169825194692331, name='MT738101.1')\n",
            "                                                    Clade(branch_length=5.013536548681419e-05, name='Inner12')\n",
            "                                                        Clade(branch_length=6.684715398241892e-05, name='MT470156.1')\n",
            "                                                        Clade(branch_length=6.684715398241892e-05, name='MT476385.1')\n"
          ],
          "name": "stdout"
        }
      ]
    },
    {
      "cell_type": "code",
      "metadata": {
        "id": "mRY_sn5653vE",
        "colab": {
          "base_uri": "https://localhost:8080/",
          "height": 51
        },
        "outputId": "ccf32956-7036-45fb-eeca-e8219fd5f02e"
      },
      "source": [
        "location = manifest.loc[manifest['Accession'] == 'MN908947']\n",
        "location['Geo_Location']"
      ],
      "execution_count": null,
      "outputs": [
        {
          "output_type": "execute_result",
          "data": {
            "text/plain": [
              "22984    China\n",
              "Name: Geo_Location, dtype: object"
            ]
          },
          "metadata": {
            "tags": []
          },
          "execution_count": 10
        }
      ]
    },
    {
      "cell_type": "markdown",
      "metadata": {
        "id": "aN45m57kEseh"
      },
      "source": [
        "#### **1.2. From the phylogenetic tree you created, there should be one virus sequence with much larger distance from all the others. What is the sequence ID of that virus? Where is its geo location? You may look at the visualization of the tree, or directly read into the tree by `print(tree)`**\n",
        "\n",
        "The virus sequence with the largest distance is MT374101.1, with a GEO location in Taiwan.\n"
      ]
    },
    {
      "cell_type": "code",
      "metadata": {
        "id": "vwYtP4ANUsov",
        "colab": {
          "base_uri": "https://localhost:8080/",
          "height": 51
        },
        "outputId": "5c5c4d1d-36f2-4550-a1ae-7182133352fa"
      },
      "source": [
        "location = manifest.loc[manifest['Accession'] == 'MT374101']\n",
        "location['Geo_Location']"
      ],
      "execution_count": null,
      "outputs": [
        {
          "output_type": "execute_result",
          "data": {
            "text/plain": [
              "21480    Taiwan\n",
              "Name: Geo_Location, dtype: object"
            ]
          },
          "metadata": {
            "tags": []
          },
          "execution_count": 11
        }
      ]
    },
    {
      "cell_type": "markdown",
      "metadata": {
        "id": "fAQhCsYfFJ56"
      },
      "source": [
        "#### **1.3. The sequence `NC_045512.2` is the RefSeq sequence of the SARS-CoV-2, which means it is the \"reference genome\" used as a canonical sequence for all the future study. It was first submitted from Wuhan, China. Find in your phylogenetic tree what is the sequence that's closest to `NC_045512.2`, and what is its geo location?**\n",
        "\n",
        "The sequence closest to NC_045512.2 is MN908947.3, in China.\n"
      ]
    },
    {
      "cell_type": "markdown",
      "metadata": {
        "id": "_AsuLlcjF6QZ"
      },
      "source": [
        "### Identify mutations in spike glycoprotein region"
      ]
    },
    {
      "cell_type": "markdown",
      "metadata": {
        "id": "MLeNyrQIG5zW"
      },
      "source": [
        "The spike glycoprotein (gene name `S`) is a critical protein for the coronavirus. Not only it forms the external structure (hence giving it the name \"corona\"), it also allows the virus to bind to specific receptors on the surface of a human cell (namely the `ACE2` gene, which we will talk about during the class), the first step toward infecting the cell. Therefore, it has been a hot target for [vaccine development](https://www.nature.com/articles/s41586-020-2599-8) as well.\n",
        "\n",
        "To further dig into our multiple alignment result, let's take a look at the most distinct coronavirus strand in our collection. Use the multiple alignment result, identify in which positions in the `S` protein does the most distinct coronavarus have mutations compared with the reference sequence `NC_045512.2`.\n",
        "\n",
        "Note the `S` protein ranges from [`21563..25384`](https://www.ncbi.nlm.nih.gov/nuccore/NC_045512) in the SARS-CoV-2 reference genome."
      ]
    },
    {
      "cell_type": "code",
      "metadata": {
        "id": "6BRNqDh3LUbz"
      },
      "source": [
        "#====================================================================\n",
        "# Write your code here\n",
        "# Load the alignment result fasta file, identify in which positions in S\n",
        "# protein does the coronavirus strand in question 1.2 have mutations when\n",
        "# compared with the reference genome NC_045512.2\n",
        "import pandas as pd\n",
        "\n",
        "# Reading alignment file again\n",
        "aln = AlignIO.read(open(input), 'fasta')\n",
        "# align_df = pd.DataFrame(aln)\n",
        "#===================================================================="
      ],
      "execution_count": null,
      "outputs": []
    },
    {
      "cell_type": "code",
      "metadata": {
        "id": "raiSQp9ngVwE",
        "colab": {
          "base_uri": "https://localhost:8080/",
          "height": 85
        },
        "outputId": "c5a0422e-dc0e-4655-eb56-f439da9ad4b3"
      },
      "source": [
        "refseq_id = 9\n",
        "seq_id = 56\n",
        "#After settling the IDs of the reference and the 1.2 sequence, we can start to iterate through\n",
        "\n",
        "refseq_total = aln[refseq_id].seq\n",
        "resseq_total = aln[seq_id].seq\n",
        "\n",
        "# Find the values of the nucleotide at the location\n",
        "ref_seq = str(refseq_total[21563:25384])\n",
        "res_seq = str(resseq_total[21563:25384])\n",
        "\n",
        "range_front = 21563\n",
        "\n",
        "# Find the position relative to the section given for the mutation\n",
        "l = len(ref_seq)\n",
        "for i in range(l):\n",
        "  if ref_seq[i] != res_seq[i]:\n",
        "    i = i + range_front\n",
        "    print(i)\n",
        "\n",
        "print(ref_seq[index])\n",
        "print(res_seq[index])\n",
        "\n",
        "# From this, we can assume that whenever the reference sequence has a C, the result sequence has a T.\n",
        "# These will be at positions 144 and 2650 along the section 21563-25384, specifically at positions 21707 and 24213."
      ],
      "execution_count": null,
      "outputs": [
        {
          "output_type": "stream",
          "text": [
            "21707\n",
            "24213\n",
            "c\n",
            "t\n"
          ],
          "name": "stdout"
        }
      ]
    },
    {
      "cell_type": "markdown",
      "metadata": {
        "id": "IBazz2W7TjJK"
      },
      "source": [
        "#### **1.4. In which positions does the coronavirus strand in question 1.2 have mutations compared with `NC_045512.2`? What are the nucleotide changes? Try to use the HGVS format to describe the mutations (_e.g._ `c.22313A>C`) ?**\n",
        "\n",
        "As shown, there are two mutations that occur within the section given between NC_045512.2 and the coronavirus strand from 1.2, in the form of changes from C > T.\n",
        "\n",
        "NC_045512.2: c.21707C>T\n",
        "\n",
        "NC_045512.2: c.24213C>T"
      ]
    },
    {
      "cell_type": "markdown",
      "metadata": {
        "id": "q1EydnmoR09r"
      },
      "source": [
        "## Data Analysis: COVID-19andMe"
      ]
    },
    {
      "cell_type": "markdown",
      "metadata": {
        "id": "_yreUAdzQnCI"
      },
      "source": [
        "Having information regarding the genetic variants of a person not only allows us to trace one's geneology and ancestry, it also helps conduct studies for better understanding of how people with different genetic composition respond to diseases. [Genome-wide association study](https://en.wikipedia.org/wiki/Genome-wide_association_study), or GWAS, identifies associations between genetic variants and various \"traits\". These traits range from trivial biological features such as height, weight, eye colors, to more clinical outcomes such as disease severity or drug sensitivity. \n",
        "\n",
        "Consumer genetic testing companies like 23andMe or Ancestry take advantage of the outcome of such studies. When you purchase their genetic testing product, not only you receive the variants of your genome, they also provide a report highlighting the genetic variants that have been reported in the literature to be associated with disease, drug efficacy, or adverse effect. Releasing such information to general consumers who have no prior knowledge about how such information was generated or what these association mean could in fact cause more harm than good, as mentioned in [this article](https://knowledge.wharton.upenn.edu/article/fda-vs-23andme-lesson-health-care-entrepreneurs/). \n",
        "\n",
        "In this exercise, we will try to generate such genetic testing report, with a focus on the severity of COVID-19, using the variants from subjects from the 1000 genome project. Since the beginning of 2020, there have been many studies trying to understand what causes the wide symptom range of COVID-19. Many GWAS or [case-parent trio](https://www.ncbi.nlm.nih.gov/pmc/articles/PMC4139708/) studies have been conducted to understand associations between different genetic variants and COVID-19 prognosis. The variants in gene `ACE2`, which is the cell surface receptor that the SARS-CoV-2 spike protein binds to, will be covered in the class. Here we will combine the variants in ACE2 we used in the class with another COVID-19 severity-related variants in the same chromosome X:\n",
        "\n",
        "* `chrX: g.12905756_12905759del` and `chrX: g.12906010G>T` reported in this familial study by [van der Made _et. al._](https://jamanetwork.com/journals/jama/fullarticle/2768926)\n",
        "\n",
        "These two variants locate in gene `TLR7`, which is a key component in innate immune response. Damage to the gene is expected to have serious impact on immune functions. \n",
        "\n",
        "Now let's pretend we have a COVID-19 risk genetic testing company: there are two \"customers\" coming in today. They are the 1000 genome project celebrity `NA21106` and `HG02429`. They would like to know if there is any COVID-19 risk factor in their Chromosome X. Since we have their whole genome information, we will just pull out their variant data from 1000 genome project and annotate them with the variants that would cause impact on `ACE2` and `TLR7`.\n",
        "\n",
        "You will find the VCF / VEP files of chromosome X we used in the class has also been short-cut in the `hw1` directory as well:\n"
      ]
    },
    {
      "cell_type": "code",
      "metadata": {
        "id": "CKYIT5Pi92M5"
      },
      "source": [
        "# you can find the VCF and VEP files of chromosome X in the data/hw1 directory\n",
        "vcf_filename = DATA / \"ALL.chrX.phase3_shapeit2_mvncall_integrated_v1b.20130502.genotypes.vcf.gz\"\n",
        "vep_filename = DATA / \"ALL.chrX.phase3_shapeit2_mvncall_integrated_v1b.20130502.genotypes.vep.txt.gz\""
      ],
      "execution_count": null,
      "outputs": []
    },
    {
      "cell_type": "markdown",
      "metadata": {
        "id": "puGm8EgsD_uf"
      },
      "source": [
        "### Filter variants in VEP file to `ACE2` and `TLR7`"
      ]
    },
    {
      "cell_type": "markdown",
      "metadata": {
        "id": "8VComcfY-bPS"
      },
      "source": [
        "As a first step, similar to what we do in the class, we filter the VEP file to leave only of `MODERATE` and `HIGH` impact variants in both `ACE2` and `TLR7` genes. Remember to use only the `CANONICAL` transcript (`CANONICAL=YES`)."
      ]
    },
    {
      "cell_type": "code",
      "metadata": {
        "id": "6IYD4bqB-kZD",
        "colab": {
          "base_uri": "https://localhost:8080/",
          "height": 255
        },
        "outputId": "1a3c4b47-d98b-4d28-bff1-bf3e8f167f92"
      },
      "source": [
        "#============================================================================\n",
        "# Load and filter the VEP file to keep only MODERATE and HIGH impact variants\n",
        "# in ACE2 and TLR7 gene\n",
        "import gzip\n",
        "\n",
        "def get_vcfvep_header(filename):\n",
        "    with gzip.open(filename, \"rb\") as fi:\n",
        "        for l in fi:\n",
        "            l = l.decode(\"utf-8\")\n",
        "            if l.startswith(\"##\"):\n",
        "                continue\n",
        "            elif l.startswith(\"#\"):\n",
        "                return l[1:].strip().split(\"\\t\")\n",
        "            else:\n",
        "                raise ValueError(\"Something wrong in the VEP file!\")\n",
        "\n",
        "vep_header = get_vcfvep_header(vep_filename)\n",
        "vep_header\n",
        "#============================================================================"
      ],
      "execution_count": null,
      "outputs": [
        {
          "output_type": "execute_result",
          "data": {
            "text/plain": [
              "['Uploaded_variation',\n",
              " 'Location',\n",
              " 'Allele',\n",
              " 'Gene',\n",
              " 'Feature',\n",
              " 'Feature_type',\n",
              " 'Consequence',\n",
              " 'cDNA_position',\n",
              " 'CDS_position',\n",
              " 'Protein_position',\n",
              " 'Amino_acids',\n",
              " 'Codons',\n",
              " 'Existing_variation',\n",
              " 'Extra']"
            ]
          },
          "metadata": {
            "tags": []
          },
          "execution_count": 17
        }
      ]
    },
    {
      "cell_type": "code",
      "metadata": {
        "id": "Xa9kCpQSqjd4",
        "colab": {
          "base_uri": "https://localhost:8080/",
          "height": 275
        },
        "outputId": "a591e8b5-425d-4fd5-acaf-124549acb660"
      },
      "source": [
        "import pandas as pd\n",
        "\n",
        "vep = pd.read_csv(vep_filename, comment='#', sep=\"\\t\")\n",
        "vep.columns = vep_header\n",
        "vep.head(5)"
      ],
      "execution_count": null,
      "outputs": [
        {
          "output_type": "execute_result",
          "data": {
            "text/html": [
              "<div>\n",
              "<style scoped>\n",
              "    .dataframe tbody tr th:only-of-type {\n",
              "        vertical-align: middle;\n",
              "    }\n",
              "\n",
              "    .dataframe tbody tr th {\n",
              "        vertical-align: top;\n",
              "    }\n",
              "\n",
              "    .dataframe thead th {\n",
              "        text-align: right;\n",
              "    }\n",
              "</style>\n",
              "<table border=\"1\" class=\"dataframe\">\n",
              "  <thead>\n",
              "    <tr style=\"text-align: right;\">\n",
              "      <th></th>\n",
              "      <th>Uploaded_variation</th>\n",
              "      <th>Location</th>\n",
              "      <th>Allele</th>\n",
              "      <th>Gene</th>\n",
              "      <th>Feature</th>\n",
              "      <th>Feature_type</th>\n",
              "      <th>Consequence</th>\n",
              "      <th>cDNA_position</th>\n",
              "      <th>CDS_position</th>\n",
              "      <th>Protein_position</th>\n",
              "      <th>Amino_acids</th>\n",
              "      <th>Codons</th>\n",
              "      <th>Existing_variation</th>\n",
              "      <th>Extra</th>\n",
              "    </tr>\n",
              "  </thead>\n",
              "  <tbody>\n",
              "    <tr>\n",
              "      <th>0</th>\n",
              "      <td>X_60021_-/A/AAC</td>\n",
              "      <td>X:60020-60021</td>\n",
              "      <td>AAC</td>\n",
              "      <td>-</td>\n",
              "      <td>-</td>\n",
              "      <td>-</td>\n",
              "      <td>intergenic_variant</td>\n",
              "      <td>-</td>\n",
              "      <td>-</td>\n",
              "      <td>-</td>\n",
              "      <td>-</td>\n",
              "      <td>-</td>\n",
              "      <td>-</td>\n",
              "      <td>IMPACT=MODIFIER;VARIANT_CLASS=insertion</td>\n",
              "    </tr>\n",
              "    <tr>\n",
              "      <th>1</th>\n",
              "      <td>X_60026_T/C</td>\n",
              "      <td>X:60026</td>\n",
              "      <td>C</td>\n",
              "      <td>-</td>\n",
              "      <td>-</td>\n",
              "      <td>-</td>\n",
              "      <td>intergenic_variant</td>\n",
              "      <td>-</td>\n",
              "      <td>-</td>\n",
              "      <td>-</td>\n",
              "      <td>-</td>\n",
              "      <td>-</td>\n",
              "      <td>rs774535218</td>\n",
              "      <td>IMPACT=MODIFIER;VARIANT_CLASS=SNV;AF=0.0050;AF...</td>\n",
              "    </tr>\n",
              "    <tr>\n",
              "      <th>2</th>\n",
              "      <td>X_60032_T/C</td>\n",
              "      <td>X:60032</td>\n",
              "      <td>C</td>\n",
              "      <td>-</td>\n",
              "      <td>-</td>\n",
              "      <td>-</td>\n",
              "      <td>intergenic_variant</td>\n",
              "      <td>-</td>\n",
              "      <td>-</td>\n",
              "      <td>-</td>\n",
              "      <td>-</td>\n",
              "      <td>-</td>\n",
              "      <td>rs748268487</td>\n",
              "      <td>IMPACT=MODIFIER;VARIANT_CLASS=SNV;AF=0.0056;AF...</td>\n",
              "    </tr>\n",
              "    <tr>\n",
              "      <th>3</th>\n",
              "      <td>X_60035_CC/C/-</td>\n",
              "      <td>X:60035-60036</td>\n",
              "      <td>C</td>\n",
              "      <td>-</td>\n",
              "      <td>-</td>\n",
              "      <td>-</td>\n",
              "      <td>intergenic_variant</td>\n",
              "      <td>-</td>\n",
              "      <td>-</td>\n",
              "      <td>-</td>\n",
              "      <td>-</td>\n",
              "      <td>-</td>\n",
              "      <td>rs201278642</td>\n",
              "      <td>IMPACT=MODIFIER;VARIANT_CLASS=sequence_alterat...</td>\n",
              "    </tr>\n",
              "    <tr>\n",
              "      <th>4</th>\n",
              "      <td>X_60035_CC/C/-</td>\n",
              "      <td>X:60035-60036</td>\n",
              "      <td>-</td>\n",
              "      <td>-</td>\n",
              "      <td>-</td>\n",
              "      <td>-</td>\n",
              "      <td>intergenic_variant</td>\n",
              "      <td>-</td>\n",
              "      <td>-</td>\n",
              "      <td>-</td>\n",
              "      <td>-</td>\n",
              "      <td>-</td>\n",
              "      <td>rs201278642</td>\n",
              "      <td>IMPACT=MODIFIER;VARIANT_CLASS=sequence_alterat...</td>\n",
              "    </tr>\n",
              "  </tbody>\n",
              "</table>\n",
              "</div>"
            ],
            "text/plain": [
              "  Uploaded_variation  ...                                              Extra\n",
              "0    X_60021_-/A/AAC  ...            IMPACT=MODIFIER;VARIANT_CLASS=insertion\n",
              "1        X_60026_T/C  ...  IMPACT=MODIFIER;VARIANT_CLASS=SNV;AF=0.0050;AF...\n",
              "2        X_60032_T/C  ...  IMPACT=MODIFIER;VARIANT_CLASS=SNV;AF=0.0056;AF...\n",
              "3     X_60035_CC/C/-  ...  IMPACT=MODIFIER;VARIANT_CLASS=sequence_alterat...\n",
              "4     X_60035_CC/C/-  ...  IMPACT=MODIFIER;VARIANT_CLASS=sequence_alterat...\n",
              "\n",
              "[5 rows x 14 columns]"
            ]
          },
          "metadata": {
            "tags": []
          },
          "execution_count": 18
        }
      ]
    },
    {
      "cell_type": "code",
      "metadata": {
        "id": "XnBddvvirN7p"
      },
      "source": [
        "vep[\"impact\"] = vep.Extra.apply(lambda extra: dict([field.split(\"=\") for field in extra.split(\";\")])[\"IMPACT\"])\n",
        "vep_mod_high = vep[(vep.impact == \"MODERATE\") | (vep.impact == \"HIGH\")]"
      ],
      "execution_count": null,
      "outputs": []
    },
    {
      "cell_type": "code",
      "metadata": {
        "id": "P2k9X1FMth4C",
        "colab": {
          "base_uri": "https://localhost:8080/",
          "height": 34
        },
        "outputId": "dfd20a42-3702-4810-d475-bee388316b75"
      },
      "source": [
        "# Finding the ACE2 and TLR7 specifically\n",
        "vep_mod_high_ACE2 = vep_mod_high[\n",
        "    vep_mod_high.Extra.str.contains(\"SYMBOL=ACE2\") &\n",
        "    vep_mod_high.Extra.str.contains(\"CANONICAL=YES\")\n",
        "]\n",
        "\n",
        "vep_mod_high_TLR7 = vep_mod_high[\n",
        "    vep_mod_high.Extra.str.contains(\"SYMBOL=TLR7\") &\n",
        "    vep_mod_high.Extra.str.contains(\"CANONICAL=YES\")\n",
        "]\n",
        "\n",
        "x = vep_mod_high_ACE2.shape\n",
        "y = vep_mod_high_TLR7.shape\n",
        "\n",
        "print(\"ACE2 variant number is\", x, \". \", \"TLR7 variant number is\", y)"
      ],
      "execution_count": null,
      "outputs": [
        {
          "output_type": "stream",
          "text": [
            "ACE2 variant number is (22, 15) .  TLR7 variant number is (17, 15)\n"
          ],
          "name": "stdout"
        }
      ]
    },
    {
      "cell_type": "code",
      "metadata": {
        "id": "M25OzdKtuXE4",
        "colab": {
          "base_uri": "https://localhost:8080/",
          "height": 34
        },
        "outputId": "5ccf8082-439a-489e-80c6-422b9864c9c8"
      },
      "source": [
        "# Finding a filtered VEP file that only contains ACE2 and TLR7\n",
        "vep_mod_high_both = vep_mod_high[\n",
        "    (vep_mod_high.Extra.str.contains(\"SYMBOL=ACE2\") |\n",
        "    vep_mod_high.Extra.str.contains(\"SYMBOL=TLR7\")) &\n",
        "    vep_mod_high.Extra.str.contains(\"CANONICAL=YES\")\n",
        "]\n",
        "\n",
        "vep_mod_high_both.shape"
      ],
      "execution_count": null,
      "outputs": [
        {
          "output_type": "execute_result",
          "data": {
            "text/plain": [
              "(39, 15)"
            ]
          },
          "metadata": {
            "tags": []
          },
          "execution_count": 21
        }
      ]
    },
    {
      "cell_type": "markdown",
      "metadata": {
        "id": "X73vbF4cERiQ"
      },
      "source": [
        "### Find genotypes of variants of interest in the subjects"
      ]
    },
    {
      "cell_type": "markdown",
      "metadata": {
        "id": "PMrfY9V0Eet4"
      },
      "source": [
        "Next, we will load the VCF file to obtain the genotypes of all `ACE2` and `TLR7` MODERATE / HIGH impact variants in our \"customers\": `NA21106` and `HG02429`"
      ]
    },
    {
      "cell_type": "code",
      "metadata": {
        "id": "Kw6VGlHw7lj6",
        "colab": {
          "base_uri": "https://localhost:8080/",
          "height": 935
        },
        "outputId": "eb474a1c-ecfb-4bd5-9fbe-1e2990e7aec4"
      },
      "source": [
        "#===========================================================================\n",
        "# Extract the GenotypeArray of subject NA21106 and HG02429, containing only\n",
        "# variants within ACE2 and TLR7. Your end genotype array dimension should be\n",
        "# (num_ACE2_TLR7_variants, 2, 2)\n",
        "import numpy as np\n",
        "import allel\n",
        "import sys\n",
        "\n",
        "vcf = allel.read_vcf(str(vcf_filename), [\"samples\", \"variants/ID\", \"variants/numalt\", \"variants/REF\"],\n",
        "                     log=sys.stdout)\n",
        "\n",
        "#============================================================================"
      ],
      "execution_count": null,
      "outputs": [
        {
          "output_type": "stream",
          "text": [
            "[read_vcf] 65536 rows in 5.17s; chunk in 5.17s (12667 rows/s); X\u0000:1734128\n",
            "[read_vcf] 131072 rows in 10.54s; chunk in 5.36s (12222 rows/s); X\u0000:3915040\n",
            "[read_vcf] 196608 rows in 15.32s; chunk in 4.78s (13708 rows/s); X\u0000:6474138\n",
            "[read_vcf] 262144 rows in 22.48s; chunk in 7.16s (9153 rows/s); X\u0000:9519142\n",
            "[read_vcf] 327680 rows in 26.14s; chunk in 3.67s (17865 rows/s); X\u0000:12551848\n",
            "[read_vcf] 393216 rows in 29.45s; chunk in 3.30s (19854 rows/s); X\u0000:15550284\n",
            "[read_vcf] 458752 rows in 32.72s; chunk in 3.27s (20017 rows/s); X\u0000:18776831\n",
            "[read_vcf] 524288 rows in 35.98s; chunk in 3.26s (20108 rows/s); X\u0000:21881750\n",
            "[read_vcf] 589824 rows in 39.28s; chunk in 3.30s (19861 rows/s); X\u0000:24574486\n",
            "[read_vcf] 655360 rows in 42.57s; chunk in 3.29s (19890 rows/s); X\u0000:27659891\n",
            "[read_vcf] 720896 rows in 45.85s; chunk in 3.28s (19991 rows/s); X\u0000:30671296\n",
            "[read_vcf] 786432 rows in 49.15s; chunk in 3.30s (19844 rows/s); X\u0000:33194562\n",
            "[read_vcf] 851968 rows in 52.47s; chunk in 3.32s (19755 rows/s); X\u0000:36031556\n",
            "[read_vcf] 917504 rows in 55.77s; chunk in 3.30s (19840 rows/s); X\u0000:39125534\n",
            "[read_vcf] 983040 rows in 59.07s; chunk in 3.30s (19866 rows/s); X\u0000:42186473\n",
            "[read_vcf] 1048576 rows in 62.39s; chunk in 3.31s (19777 rows/s); X\u0000:45309329\n",
            "[read_vcf] 1114112 rows in 65.66s; chunk in 3.28s (19998 rows/s); X\u0000:48359153\n",
            "[read_vcf] 1179648 rows in 68.94s; chunk in 3.28s (20009 rows/s); X\u0000:51881411\n",
            "[read_vcf] 1245184 rows in 72.21s; chunk in 3.27s (20046 rows/s); X\u0000:55705421\n",
            "[read_vcf] 1310720 rows in 75.48s; chunk in 3.27s (20050 rows/s); X\u0000:57996652\n",
            "[read_vcf] 1376256 rows in 78.70s; chunk in 3.22s (20330 rows/s); X\u0000:63082608\n",
            "[read_vcf] 1441792 rows in 81.95s; chunk in 3.25s (20140 rows/s); X\u0000:65358749\n",
            "[read_vcf] 1507328 rows in 85.20s; chunk in 3.25s (20194 rows/s); X\u0000:67634861\n",
            "[read_vcf] 1572864 rows in 88.50s; chunk in 3.30s (19834 rows/s); X\u0000:70712278\n",
            "[read_vcf] 1638400 rows in 91.79s; chunk in 3.29s (19935 rows/s); X\u0000:74091783\n",
            "[read_vcf] 1703936 rows in 95.07s; chunk in 3.28s (19994 rows/s); X\u0000:76280043\n",
            "[read_vcf] 1769472 rows in 98.33s; chunk in 3.26s (20093 rows/s); X\u0000:78926545\n",
            "[read_vcf] 1835008 rows in 101.63s; chunk in 3.30s (19850 rows/s); X\u0000:81422228\n",
            "[read_vcf] 1900544 rows in 104.91s; chunk in 3.28s (19974 rows/s); X\u0000:83965308\n",
            "[read_vcf] 1966080 rows in 108.21s; chunk in 3.30s (19843 rows/s); X\u0000:86441870\n",
            "[read_vcf] 2031616 rows in 111.57s; chunk in 3.35s (19559 rows/s); X\u0000:89012763\n",
            "[read_vcf] 2097152 rows in 114.89s; chunk in 3.33s (19702 rows/s); X\u0000:91967747\n",
            "[read_vcf] 2162688 rows in 118.20s; chunk in 3.31s (19785 rows/s); X\u0000:94617360\n",
            "[read_vcf] 2228224 rows in 121.51s; chunk in 3.31s (19804 rows/s); X\u0000:97514551\n",
            "[read_vcf] 2293760 rows in 124.80s; chunk in 3.29s (19931 rows/s); X\u0000:100546234\n",
            "[read_vcf] 2359296 rows in 128.14s; chunk in 3.34s (19607 rows/s); X\u0000:104064469\n",
            "[read_vcf] 2424832 rows in 131.49s; chunk in 3.34s (19601 rows/s); X\u0000:107375123\n",
            "[read_vcf] 2490368 rows in 134.75s; chunk in 3.27s (20063 rows/s); X\u0000:110344724\n",
            "[read_vcf] 2555904 rows in 138.04s; chunk in 3.28s (19965 rows/s); X\u0000:113267805\n",
            "[read_vcf] 2621440 rows in 141.41s; chunk in 3.37s (19442 rows/s); X\u0000:116181346\n",
            "[read_vcf] 2686976 rows in 144.72s; chunk in 3.31s (19799 rows/s); X\u0000:118882692\n",
            "[read_vcf] 2752512 rows in 148.02s; chunk in 3.31s (19828 rows/s); X\u0000:121911362\n",
            "[read_vcf] 2818048 rows in 151.32s; chunk in 3.30s (19869 rows/s); X\u0000:124928450\n",
            "[read_vcf] 2883584 rows in 154.63s; chunk in 3.31s (19821 rows/s); X\u0000:127808992\n",
            "[read_vcf] 2949120 rows in 157.91s; chunk in 3.28s (19979 rows/s); X\u0000:130956155\n",
            "[read_vcf] 3014656 rows in 161.17s; chunk in 3.26s (20098 rows/s); X\u0000:134318747\n",
            "[read_vcf] 3080192 rows in 164.47s; chunk in 3.30s (19829 rows/s); X\u0000:137603907\n",
            "[read_vcf] 3145728 rows in 167.78s; chunk in 3.30s (19832 rows/s); X\u0000:140749939\n",
            "[read_vcf] 3211264 rows in 171.10s; chunk in 3.32s (19714 rows/s); X\u0000:143421964\n",
            "[read_vcf] 3276800 rows in 174.43s; chunk in 3.33s (19683 rows/s); X\u0000:146052307\n",
            "[read_vcf] 3342336 rows in 177.72s; chunk in 3.29s (19943 rows/s); X\u0000:149173075\n",
            "[read_vcf] 3407872 rows in 181.05s; chunk in 3.33s (19669 rows/s); X\u0000:152165183\n",
            "[read_vcf] 3468093 rows in 184.14s; chunk in 3.09s (19477 rows/s)\n",
            "[read_vcf] all done (18833 rows/s)\n"
          ],
          "name": "stdout"
        }
      ]
    },
    {
      "cell_type": "code",
      "metadata": {
        "id": "0OiWyk57YMp1",
        "colab": {
          "base_uri": "https://localhost:8080/",
          "height": 935
        },
        "outputId": "8fe988d3-6258-4980-e356-4371b172e7ea"
      },
      "source": [
        "# Do the vcf to zarr\n",
        "import os\n",
        "import numpy as np\n",
        "\n",
        "numalt = vcf['variants/numalt']\n",
        "max_alt = np.max(numalt)\n",
        "\n",
        "# clear the variable if it already exists to be gentle on memory\n",
        "if \"vcf\" in dir():\n",
        "    del vcf\n",
        "\n",
        "zarr_file = \"/content/\" + vcf_filename.name.replace(\".vcf.gz\", \".zarr\")\n",
        "if not os.path.exists(zarr_file):\n",
        "    allel.vcf_to_zarr(str(vcf_filename),\n",
        "                      str(zarr_file),\n",
        "                      group='X', fields='*', alt_number=max_alt,\n",
        "                      log=sys.stdout, overwrite=True)"
      ],
      "execution_count": null,
      "outputs": [
        {
          "output_type": "stream",
          "text": [
            "[vcf_to_zarr] 65536 rows in 13.30s; chunk in 13.30s (4925 rows/s); X\u0000:1734128\n",
            "[vcf_to_zarr] 131072 rows in 26.85s; chunk in 13.54s (4839 rows/s); X\u0000:3915040\n",
            "[vcf_to_zarr] 196608 rows in 39.22s; chunk in 12.38s (5295 rows/s); X\u0000:6474138\n",
            "[vcf_to_zarr] 262144 rows in 51.81s; chunk in 12.59s (5204 rows/s); X\u0000:9519142\n",
            "[vcf_to_zarr] 327680 rows in 64.16s; chunk in 12.34s (5308 rows/s); X\u0000:12551848\n",
            "[vcf_to_zarr] 393216 rows in 76.53s; chunk in 12.37s (5297 rows/s); X\u0000:15550284\n",
            "[vcf_to_zarr] 458752 rows in 88.89s; chunk in 12.36s (5303 rows/s); X\u0000:18776831\n",
            "[vcf_to_zarr] 524288 rows in 101.22s; chunk in 12.33s (5314 rows/s); X\u0000:21881750\n",
            "[vcf_to_zarr] 589824 rows in 113.70s; chunk in 12.48s (5252 rows/s); X\u0000:24574486\n",
            "[vcf_to_zarr] 655360 rows in 126.11s; chunk in 12.41s (5281 rows/s); X\u0000:27659891\n",
            "[vcf_to_zarr] 720896 rows in 138.48s; chunk in 12.37s (5296 rows/s); X\u0000:30671296\n",
            "[vcf_to_zarr] 786432 rows in 150.90s; chunk in 12.42s (5274 rows/s); X\u0000:33194562\n",
            "[vcf_to_zarr] 851968 rows in 163.29s; chunk in 12.38s (5292 rows/s); X\u0000:36031556\n",
            "[vcf_to_zarr] 917504 rows in 175.60s; chunk in 12.31s (5325 rows/s); X\u0000:39125534\n",
            "[vcf_to_zarr] 983040 rows in 187.94s; chunk in 12.34s (5309 rows/s); X\u0000:42186473\n",
            "[vcf_to_zarr] 1048576 rows in 200.33s; chunk in 12.39s (5290 rows/s); X\u0000:45309329\n",
            "[vcf_to_zarr] 1114112 rows in 212.75s; chunk in 12.43s (5272 rows/s); X\u0000:48359153\n",
            "[vcf_to_zarr] 1179648 rows in 225.23s; chunk in 12.48s (5251 rows/s); X\u0000:51881411\n",
            "[vcf_to_zarr] 1245184 rows in 237.71s; chunk in 12.48s (5252 rows/s); X\u0000:55705421\n",
            "[vcf_to_zarr] 1310720 rows in 250.16s; chunk in 12.45s (5265 rows/s); X\u0000:57996652\n",
            "[vcf_to_zarr] 1376256 rows in 262.49s; chunk in 12.33s (5316 rows/s); X\u0000:63082608\n",
            "[vcf_to_zarr] 1441792 rows in 274.81s; chunk in 12.33s (5316 rows/s); X\u0000:65358749\n",
            "[vcf_to_zarr] 1507328 rows in 287.32s; chunk in 12.50s (5241 rows/s); X\u0000:67634861\n",
            "[vcf_to_zarr] 1572864 rows in 299.68s; chunk in 12.36s (5300 rows/s); X\u0000:70712278\n",
            "[vcf_to_zarr] 1638400 rows in 311.99s; chunk in 12.31s (5323 rows/s); X\u0000:74091783\n",
            "[vcf_to_zarr] 1703936 rows in 324.36s; chunk in 12.37s (5297 rows/s); X\u0000:76280043\n",
            "[vcf_to_zarr] 1769472 rows in 336.71s; chunk in 12.35s (5305 rows/s); X\u0000:78926545\n",
            "[vcf_to_zarr] 1835008 rows in 349.28s; chunk in 12.57s (5214 rows/s); X\u0000:81422228\n",
            "[vcf_to_zarr] 1900544 rows in 361.72s; chunk in 12.43s (5270 rows/s); X\u0000:83965308\n",
            "[vcf_to_zarr] 1966080 rows in 374.19s; chunk in 12.47s (5255 rows/s); X\u0000:86441870\n",
            "[vcf_to_zarr] 2031616 rows in 386.84s; chunk in 12.65s (5178 rows/s); X\u0000:89012763\n",
            "[vcf_to_zarr] 2097152 rows in 399.28s; chunk in 12.44s (5266 rows/s); X\u0000:91967747\n",
            "[vcf_to_zarr] 2162688 rows in 411.64s; chunk in 12.35s (5304 rows/s); X\u0000:94617360\n",
            "[vcf_to_zarr] 2228224 rows in 423.98s; chunk in 12.34s (5308 rows/s); X\u0000:97514551\n",
            "[vcf_to_zarr] 2293760 rows in 436.34s; chunk in 12.35s (5305 rows/s); X\u0000:100546234\n",
            "[vcf_to_zarr] 2359296 rows in 448.75s; chunk in 12.41s (5280 rows/s); X\u0000:104064469\n",
            "[vcf_to_zarr] 2424832 rows in 461.09s; chunk in 12.35s (5308 rows/s); X\u0000:107375123\n",
            "[vcf_to_zarr] 2490368 rows in 473.47s; chunk in 12.38s (5295 rows/s); X\u0000:110344724\n",
            "[vcf_to_zarr] 2555904 rows in 485.82s; chunk in 12.35s (5304 rows/s); X\u0000:113267805\n",
            "[vcf_to_zarr] 2621440 rows in 498.24s; chunk in 12.42s (5277 rows/s); X\u0000:116181346\n",
            "[vcf_to_zarr] 2686976 rows in 510.67s; chunk in 12.43s (5272 rows/s); X\u0000:118882692\n",
            "[vcf_to_zarr] 2752512 rows in 523.23s; chunk in 12.56s (5218 rows/s); X\u0000:121911362\n",
            "[vcf_to_zarr] 2818048 rows in 535.79s; chunk in 12.57s (5215 rows/s); X\u0000:124928450\n",
            "[vcf_to_zarr] 2883584 rows in 548.99s; chunk in 13.19s (4968 rows/s); X\u0000:127808992\n",
            "[vcf_to_zarr] 2949120 rows in 561.43s; chunk in 12.45s (5264 rows/s); X\u0000:130956155\n",
            "[vcf_to_zarr] 3014656 rows in 573.88s; chunk in 12.45s (5264 rows/s); X\u0000:134318747\n",
            "[vcf_to_zarr] 3080192 rows in 586.24s; chunk in 12.36s (5302 rows/s); X\u0000:137603907\n",
            "[vcf_to_zarr] 3145728 rows in 598.65s; chunk in 12.41s (5279 rows/s); X\u0000:140749939\n",
            "[vcf_to_zarr] 3211264 rows in 611.10s; chunk in 12.45s (5265 rows/s); X\u0000:143421964\n",
            "[vcf_to_zarr] 3276800 rows in 623.54s; chunk in 12.44s (5267 rows/s); X\u0000:146052307\n",
            "[vcf_to_zarr] 3342336 rows in 635.90s; chunk in 12.36s (5300 rows/s); X\u0000:149173075\n",
            "[vcf_to_zarr] 3407872 rows in 648.31s; chunk in 12.40s (5283 rows/s); X\u0000:152165183\n",
            "[vcf_to_zarr] 3468093 rows in 660.00s; chunk in 11.69s (5151 rows/s)\n",
            "[vcf_to_zarr] all done (5247 rows/s)\n"
          ],
          "name": "stdout"
        }
      ]
    },
    {
      "cell_type": "code",
      "metadata": {
        "id": "MixdQzExYM8Y",
        "colab": {
          "base_uri": "https://localhost:8080/",
          "height": 17,
          "referenced_widgets": [
            "0c04e519a93a46c886e7ae4c35304e0e"
          ]
        },
        "outputId": "bbdf571e-e4be-4118-d866-0a99cf10289e"
      },
      "source": [
        "import zarr\n",
        "\n",
        "zarr_file = vcf_filename.name.replace(\".vcf.gz\", \".zarr\")\n",
        "vcfzarr = zarr.open_group(zarr_file, mode=\"r\")\n",
        "vcfzarr.tree(expand=False)"
      ],
      "execution_count": null,
      "outputs": [
        {
          "output_type": "display_data",
          "data": {
            "application/vnd.jupyter.widget-view+json": {
              "model_id": "0c04e519a93a46c886e7ae4c35304e0e",
              "version_minor": 0,
              "version_major": 2
            },
            "text/plain": [
              "Tree(nodes=(Node(disabled=True, name='/', nodes=(Node(disabled=True, name='X', nodes=(Node(disabled=True, name…"
            ]
          },
          "metadata": {
            "tags": []
          }
        }
      ]
    },
    {
      "cell_type": "code",
      "metadata": {
        "id": "4hbbjrkCYNJm"
      },
      "source": [
        "pos_of_interest = set(\n",
        "    [int(x.split(':')[1]) for x in vep_mod_high_both.Location]\n",
        ")\n",
        "\n",
        "# Extract individual variant from vcfzarr files, taken from class notes\n",
        "idx = pd.Series(vcfzarr[\"X/variants/POS\"]).isin(pos_of_interest)\n",
        "idx = idx[idx].index.values"
      ],
      "execution_count": null,
      "outputs": []
    },
    {
      "cell_type": "code",
      "metadata": {
        "id": "4bp7inbj3Qly",
        "colab": {
          "base_uri": "https://localhost:8080/",
          "height": 204
        },
        "outputId": "9922c5c4-f22f-4d28-8cab-f582a81bb6f6"
      },
      "source": [
        "import allel\n",
        "import numpy as np\n",
        "\n",
        "customers = ['NA21106', 'HG02429']\n",
        "\n",
        "# Similar to what was done before\n",
        "customer_idx = pd.Series(vcfzarr[\"X/samples\"]).isin(customers)\n",
        "customer_idx = customer_idx[customer_idx].index.values\n",
        "\n",
        "# Generate genotype array, like in class notes\n",
        "GenoTyp_customers_both = np.array([vcfzarr[\"X/calldata/GT\"][i]for i in idx])\n",
        "GenoTyp_customers_both = allel.GenotypeArray(GenoTyp_customers_both)\n",
        "GenoTyp_customers_both = GenoTyp_customers_both[:,customer_idx]\n",
        "GenoTyp_customers_both\n",
        "\n",
        "# Ensure that the shape is 39, 2, 2 as stated in the spec"
      ],
      "execution_count": null,
      "outputs": [
        {
          "output_type": "execute_result",
          "data": {
            "text/html": [
              "<div class=\"allel allel-DisplayAs2D\"><span>&lt;GenotypeArray shape=(39, 2, 2) dtype=int8&gt;</span><table><thead><tr><th></th><th style=\"text-align: center\">0</th><th style=\"text-align: center\">1</th></tr></thead><tbody><tr><th style=\"text-align: center; background-color: white; border-right: 1px solid black; \">0</th><td style=\"text-align: center\">1/.</td><td style=\"text-align: center\">0/0</td></tr><tr><th style=\"text-align: center; background-color: white; border-right: 1px solid black; \">1</th><td style=\"text-align: center\">0/.</td><td style=\"text-align: center\">0/0</td></tr><tr><th style=\"text-align: center; background-color: white; border-right: 1px solid black; \">2</th><td style=\"text-align: center\">0/.</td><td style=\"text-align: center\">0/0</td></tr><tr><th style=\"text-align: center; background-color: white; border-right: 1px solid black; \">...</th><td style=\"text-align: center\" colspan=\"3\">...</td></tr><tr><th style=\"text-align: center; background-color: white; border-right: 1px solid black; \">36</th><td style=\"text-align: center\">0/.</td><td style=\"text-align: center\">0/0</td></tr><tr><th style=\"text-align: center; background-color: white; border-right: 1px solid black; \">37</th><td style=\"text-align: center\">0/.</td><td style=\"text-align: center\">0/0</td></tr><tr><th style=\"text-align: center; background-color: white; border-right: 1px solid black; \">38</th><td style=\"text-align: center\">0/.</td><td style=\"text-align: center\">0/0</td></tr></tbody></table></div>"
            ],
            "text/plain": [
              "<GenotypeArray shape=(39, 2, 2) dtype=int8>\n",
              "1/. 0/0\n",
              "0/. 0/0\n",
              "0/. 0/0\n",
              "...\n",
              "0/. 0/0\n",
              "0/. 0/0\n",
              "0/. 0/0"
            ]
          },
          "metadata": {
            "tags": []
          },
          "execution_count": 27
        }
      ]
    },
    {
      "cell_type": "code",
      "metadata": {
        "id": "mJnaJGETBpP7",
        "colab": {
          "base_uri": "https://localhost:8080/",
          "height": 680
        },
        "outputId": "0ebccf8c-2f24-47f6-b6c0-46b3d29d3d28"
      },
      "source": [
        "GenoTyp_customers_both.is_hom()\n",
        "# 21 and 24 are Heterozygous\n",
        "# MUST figure out which is top and bottom, left and right"
      ],
      "execution_count": null,
      "outputs": [
        {
          "output_type": "execute_result",
          "data": {
            "text/plain": [
              "array([[False,  True],\n",
              "       [False,  True],\n",
              "       [False,  True],\n",
              "       [False,  True],\n",
              "       [False,  True],\n",
              "       [False,  True],\n",
              "       [False,  True],\n",
              "       [False,  True],\n",
              "       [False,  True],\n",
              "       [False,  True],\n",
              "       [False,  True],\n",
              "       [False,  True],\n",
              "       [False,  True],\n",
              "       [False,  True],\n",
              "       [False,  True],\n",
              "       [False,  True],\n",
              "       [False,  True],\n",
              "       [False,  True],\n",
              "       [False,  True],\n",
              "       [False,  True],\n",
              "       [False,  True],\n",
              "       [False, False],\n",
              "       [False,  True],\n",
              "       [False,  True],\n",
              "       [False, False],\n",
              "       [False,  True],\n",
              "       [False,  True],\n",
              "       [False,  True],\n",
              "       [False,  True],\n",
              "       [False,  True],\n",
              "       [False,  True],\n",
              "       [False,  True],\n",
              "       [False,  True],\n",
              "       [False,  True],\n",
              "       [False,  True],\n",
              "       [False,  True],\n",
              "       [False,  True],\n",
              "       [False,  True],\n",
              "       [False,  True]])"
            ]
          },
          "metadata": {
            "tags": []
          },
          "execution_count": 28
        }
      ]
    },
    {
      "cell_type": "code",
      "metadata": {
        "id": "P27xl8arVj1j",
        "colab": {
          "base_uri": "https://localhost:8080/",
          "height": 1000
        },
        "outputId": "23e2ccd0-f7c0-4af0-b372-6bcb14d69dcf"
      },
      "source": [
        "vep_mod_high_both"
      ],
      "execution_count": null,
      "outputs": [
        {
          "output_type": "execute_result",
          "data": {
            "text/html": [
              "<div>\n",
              "<style scoped>\n",
              "    .dataframe tbody tr th:only-of-type {\n",
              "        vertical-align: middle;\n",
              "    }\n",
              "\n",
              "    .dataframe tbody tr th {\n",
              "        vertical-align: top;\n",
              "    }\n",
              "\n",
              "    .dataframe thead th {\n",
              "        text-align: right;\n",
              "    }\n",
              "</style>\n",
              "<table border=\"1\" class=\"dataframe\">\n",
              "  <thead>\n",
              "    <tr style=\"text-align: right;\">\n",
              "      <th></th>\n",
              "      <th>Uploaded_variation</th>\n",
              "      <th>Location</th>\n",
              "      <th>Allele</th>\n",
              "      <th>Gene</th>\n",
              "      <th>Feature</th>\n",
              "      <th>Feature_type</th>\n",
              "      <th>Consequence</th>\n",
              "      <th>cDNA_position</th>\n",
              "      <th>CDS_position</th>\n",
              "      <th>Protein_position</th>\n",
              "      <th>Amino_acids</th>\n",
              "      <th>Codons</th>\n",
              "      <th>Existing_variation</th>\n",
              "      <th>Extra</th>\n",
              "      <th>impact</th>\n",
              "    </tr>\n",
              "  </thead>\n",
              "  <tbody>\n",
              "    <tr>\n",
              "      <th>847944</th>\n",
              "      <td>rs179008</td>\n",
              "      <td>X:12903659</td>\n",
              "      <td>T</td>\n",
              "      <td>ENSG00000196664</td>\n",
              "      <td>ENST00000380659</td>\n",
              "      <td>Transcript</td>\n",
              "      <td>missense_variant</td>\n",
              "      <td>171</td>\n",
              "      <td>32</td>\n",
              "      <td>11</td>\n",
              "      <td>Q/L</td>\n",
              "      <td>cAa/cTa</td>\n",
              "      <td>rs179008,CM084786,COSV66123795</td>\n",
              "      <td>IMPACT=MODERATE;STRAND=1;VARIANT_CLASS=SNV;SYM...</td>\n",
              "      <td>MODERATE</td>\n",
              "    </tr>\n",
              "    <tr>\n",
              "      <th>847945</th>\n",
              "      <td>X_12903826_A/G</td>\n",
              "      <td>X:12903826</td>\n",
              "      <td>G</td>\n",
              "      <td>ENSG00000196664</td>\n",
              "      <td>ENST00000380659</td>\n",
              "      <td>Transcript</td>\n",
              "      <td>missense_variant</td>\n",
              "      <td>338</td>\n",
              "      <td>199</td>\n",
              "      <td>67</td>\n",
              "      <td>T/A</td>\n",
              "      <td>Acc/Gcc</td>\n",
              "      <td>rs752095862</td>\n",
              "      <td>IMPACT=MODERATE;STRAND=1;VARIANT_CLASS=SNV;SYM...</td>\n",
              "      <td>MODERATE</td>\n",
              "    </tr>\n",
              "    <tr>\n",
              "      <th>847948</th>\n",
              "      <td>rs150313957</td>\n",
              "      <td>X:12904007</td>\n",
              "      <td>T</td>\n",
              "      <td>ENSG00000196664</td>\n",
              "      <td>ENST00000380659</td>\n",
              "      <td>Transcript</td>\n",
              "      <td>missense_variant</td>\n",
              "      <td>519</td>\n",
              "      <td>380</td>\n",
              "      <td>127</td>\n",
              "      <td>T/I</td>\n",
              "      <td>aCt/aTt</td>\n",
              "      <td>rs150313957</td>\n",
              "      <td>IMPACT=MODERATE;STRAND=1;VARIANT_CLASS=SNV;SYM...</td>\n",
              "      <td>MODERATE</td>\n",
              "    </tr>\n",
              "    <tr>\n",
              "      <th>847950</th>\n",
              "      <td>X_12904053_A/G</td>\n",
              "      <td>X:12904053</td>\n",
              "      <td>G</td>\n",
              "      <td>ENSG00000196664</td>\n",
              "      <td>ENST00000380659</td>\n",
              "      <td>Transcript</td>\n",
              "      <td>missense_variant</td>\n",
              "      <td>565</td>\n",
              "      <td>426</td>\n",
              "      <td>142</td>\n",
              "      <td>I/M</td>\n",
              "      <td>atA/atG</td>\n",
              "      <td>rs779884561</td>\n",
              "      <td>IMPACT=MODERATE;STRAND=1;VARIANT_CLASS=SNV;SYM...</td>\n",
              "      <td>MODERATE</td>\n",
              "    </tr>\n",
              "    <tr>\n",
              "      <th>847954</th>\n",
              "      <td>rs149314023</td>\n",
              "      <td>X:12904282</td>\n",
              "      <td>A</td>\n",
              "      <td>ENSG00000196664</td>\n",
              "      <td>ENST00000380659</td>\n",
              "      <td>Transcript</td>\n",
              "      <td>missense_variant</td>\n",
              "      <td>794</td>\n",
              "      <td>655</td>\n",
              "      <td>219</td>\n",
              "      <td>V/I</td>\n",
              "      <td>Gtc/Atc</td>\n",
              "      <td>rs149314023,COSV66125342</td>\n",
              "      <td>IMPACT=MODERATE;STRAND=1;VARIANT_CLASS=SNV;SYM...</td>\n",
              "      <td>MODERATE</td>\n",
              "    </tr>\n",
              "    <tr>\n",
              "      <th>847955</th>\n",
              "      <td>rs55907843</td>\n",
              "      <td>X:12904292</td>\n",
              "      <td>A</td>\n",
              "      <td>ENSG00000196664</td>\n",
              "      <td>ENST00000380659</td>\n",
              "      <td>Transcript</td>\n",
              "      <td>missense_variant</td>\n",
              "      <td>804</td>\n",
              "      <td>665</td>\n",
              "      <td>222</td>\n",
              "      <td>V/D</td>\n",
              "      <td>gTt/gAt</td>\n",
              "      <td>rs55907843,COSV99081047</td>\n",
              "      <td>IMPACT=MODERATE;STRAND=1;VARIANT_CLASS=SNV;SYM...</td>\n",
              "      <td>MODERATE</td>\n",
              "    </tr>\n",
              "    <tr>\n",
              "      <th>847957</th>\n",
              "      <td>X_12904463_T/C</td>\n",
              "      <td>X:12904463</td>\n",
              "      <td>C</td>\n",
              "      <td>ENSG00000196664</td>\n",
              "      <td>ENST00000380659</td>\n",
              "      <td>Transcript</td>\n",
              "      <td>missense_variant</td>\n",
              "      <td>975</td>\n",
              "      <td>836</td>\n",
              "      <td>279</td>\n",
              "      <td>L/P</td>\n",
              "      <td>cTa/cCa</td>\n",
              "      <td>rs759793723</td>\n",
              "      <td>IMPACT=MODERATE;STRAND=1;VARIANT_CLASS=SNV;SYM...</td>\n",
              "      <td>MODERATE</td>\n",
              "    </tr>\n",
              "    <tr>\n",
              "      <th>847964</th>\n",
              "      <td>rs190564296</td>\n",
              "      <td>X:12904871</td>\n",
              "      <td>A</td>\n",
              "      <td>ENSG00000196664</td>\n",
              "      <td>ENST00000380659</td>\n",
              "      <td>Transcript</td>\n",
              "      <td>missense_variant</td>\n",
              "      <td>1383</td>\n",
              "      <td>1244</td>\n",
              "      <td>415</td>\n",
              "      <td>S/N</td>\n",
              "      <td>aGc/aAc</td>\n",
              "      <td>rs190564296</td>\n",
              "      <td>IMPACT=MODERATE;STRAND=1;VARIANT_CLASS=SNV;SYM...</td>\n",
              "      <td>MODERATE</td>\n",
              "    </tr>\n",
              "    <tr>\n",
              "      <th>847965</th>\n",
              "      <td>rs5743781</td>\n",
              "      <td>X:12904970</td>\n",
              "      <td>T</td>\n",
              "      <td>ENSG00000196664</td>\n",
              "      <td>ENST00000380659</td>\n",
              "      <td>Transcript</td>\n",
              "      <td>missense_variant</td>\n",
              "      <td>1482</td>\n",
              "      <td>1343</td>\n",
              "      <td>448</td>\n",
              "      <td>A/V</td>\n",
              "      <td>gCc/gTc</td>\n",
              "      <td>rs5743781</td>\n",
              "      <td>IMPACT=MODERATE;STRAND=1;VARIANT_CLASS=SNV;SYM...</td>\n",
              "      <td>MODERATE</td>\n",
              "    </tr>\n",
              "    <tr>\n",
              "      <th>847970</th>\n",
              "      <td>X_12905389_A/G</td>\n",
              "      <td>X:12905389</td>\n",
              "      <td>G</td>\n",
              "      <td>ENSG00000196664</td>\n",
              "      <td>ENST00000380659</td>\n",
              "      <td>Transcript</td>\n",
              "      <td>missense_variant</td>\n",
              "      <td>1901</td>\n",
              "      <td>1762</td>\n",
              "      <td>588</td>\n",
              "      <td>M/V</td>\n",
              "      <td>Atg/Gtg</td>\n",
              "      <td>rs778897256</td>\n",
              "      <td>IMPACT=MODERATE;STRAND=1;VARIANT_CLASS=SNV;SYM...</td>\n",
              "      <td>MODERATE</td>\n",
              "    </tr>\n",
              "    <tr>\n",
              "      <th>847971</th>\n",
              "      <td>X_12905539_G/A</td>\n",
              "      <td>X:12905539</td>\n",
              "      <td>A</td>\n",
              "      <td>ENSG00000196664</td>\n",
              "      <td>ENST00000380659</td>\n",
              "      <td>Transcript</td>\n",
              "      <td>missense_variant</td>\n",
              "      <td>2051</td>\n",
              "      <td>1912</td>\n",
              "      <td>638</td>\n",
              "      <td>G/S</td>\n",
              "      <td>Ggt/Agt</td>\n",
              "      <td>rs748065199</td>\n",
              "      <td>IMPACT=MODERATE;STRAND=1;VARIANT_CLASS=SNV;SYM...</td>\n",
              "      <td>MODERATE</td>\n",
              "    </tr>\n",
              "    <tr>\n",
              "      <th>847972</th>\n",
              "      <td>rs187685386</td>\n",
              "      <td>X:12905547</td>\n",
              "      <td>A</td>\n",
              "      <td>ENSG00000196664</td>\n",
              "      <td>ENST00000380659</td>\n",
              "      <td>Transcript</td>\n",
              "      <td>missense_variant</td>\n",
              "      <td>2059</td>\n",
              "      <td>1920</td>\n",
              "      <td>640</td>\n",
              "      <td>N/K</td>\n",
              "      <td>aaC/aaA</td>\n",
              "      <td>rs187685386</td>\n",
              "      <td>IMPACT=MODERATE;STRAND=1;VARIANT_CLASS=SNV;SYM...</td>\n",
              "      <td>MODERATE</td>\n",
              "    </tr>\n",
              "    <tr>\n",
              "      <th>847976</th>\n",
              "      <td>rs145797092</td>\n",
              "      <td>X:12906293</td>\n",
              "      <td>A</td>\n",
              "      <td>ENSG00000196664</td>\n",
              "      <td>ENST00000380659</td>\n",
              "      <td>Transcript</td>\n",
              "      <td>missense_variant</td>\n",
              "      <td>2805</td>\n",
              "      <td>2666</td>\n",
              "      <td>889</td>\n",
              "      <td>C/Y</td>\n",
              "      <td>tGt/tAt</td>\n",
              "      <td>rs145797092</td>\n",
              "      <td>IMPACT=MODERATE;STRAND=1;VARIANT_CLASS=SNV;SYM...</td>\n",
              "      <td>MODERATE</td>\n",
              "    </tr>\n",
              "    <tr>\n",
              "      <th>847977</th>\n",
              "      <td>rs189681811</td>\n",
              "      <td>X:12906386</td>\n",
              "      <td>A</td>\n",
              "      <td>ENSG00000196664</td>\n",
              "      <td>ENST00000380659</td>\n",
              "      <td>Transcript</td>\n",
              "      <td>missense_variant</td>\n",
              "      <td>2898</td>\n",
              "      <td>2759</td>\n",
              "      <td>920</td>\n",
              "      <td>R/K</td>\n",
              "      <td>aGa/aAa</td>\n",
              "      <td>rs189681811</td>\n",
              "      <td>IMPACT=MODERATE;STRAND=1;VARIANT_CLASS=SNV;SYM...</td>\n",
              "      <td>MODERATE</td>\n",
              "    </tr>\n",
              "    <tr>\n",
              "      <th>847978</th>\n",
              "      <td>rs181600414</td>\n",
              "      <td>X:12906637</td>\n",
              "      <td>T</td>\n",
              "      <td>ENSG00000196664</td>\n",
              "      <td>ENST00000380659</td>\n",
              "      <td>Transcript</td>\n",
              "      <td>missense_variant</td>\n",
              "      <td>3149</td>\n",
              "      <td>3010</td>\n",
              "      <td>1004</td>\n",
              "      <td>R/W</td>\n",
              "      <td>Cgg/Tgg</td>\n",
              "      <td>rs181600414</td>\n",
              "      <td>IMPACT=MODERATE;STRAND=1;VARIANT_CLASS=SNV;SYM...</td>\n",
              "      <td>MODERATE</td>\n",
              "    </tr>\n",
              "    <tr>\n",
              "      <th>847979</th>\n",
              "      <td>rs138079334</td>\n",
              "      <td>X:12906683</td>\n",
              "      <td>T</td>\n",
              "      <td>ENSG00000196664</td>\n",
              "      <td>ENST00000380659</td>\n",
              "      <td>Transcript</td>\n",
              "      <td>missense_variant</td>\n",
              "      <td>3195</td>\n",
              "      <td>3056</td>\n",
              "      <td>1019</td>\n",
              "      <td>P/L</td>\n",
              "      <td>cCg/cTg</td>\n",
              "      <td>rs138079334,COSV66123800</td>\n",
              "      <td>IMPACT=MODERATE;STRAND=1;VARIANT_CLASS=SNV;SYM...</td>\n",
              "      <td>MODERATE</td>\n",
              "    </tr>\n",
              "    <tr>\n",
              "      <th>847981</th>\n",
              "      <td>rs184706894</td>\n",
              "      <td>X:12906722</td>\n",
              "      <td>T</td>\n",
              "      <td>ENSG00000196664</td>\n",
              "      <td>ENST00000380659</td>\n",
              "      <td>Transcript</td>\n",
              "      <td>missense_variant</td>\n",
              "      <td>3234</td>\n",
              "      <td>3095</td>\n",
              "      <td>1032</td>\n",
              "      <td>A/V</td>\n",
              "      <td>gCc/gTc</td>\n",
              "      <td>rs184706894</td>\n",
              "      <td>IMPACT=MODERATE;STRAND=1;VARIANT_CLASS=SNV;SYM...</td>\n",
              "      <td>MODERATE</td>\n",
              "    </tr>\n",
              "    <tr>\n",
              "      <th>1001125</th>\n",
              "      <td>rs147311723</td>\n",
              "      <td>X:15582265</td>\n",
              "      <td>A</td>\n",
              "      <td>ENSG00000130234</td>\n",
              "      <td>ENST00000427411</td>\n",
              "      <td>Transcript</td>\n",
              "      <td>missense_variant</td>\n",
              "      <td>2408</td>\n",
              "      <td>2191</td>\n",
              "      <td>731</td>\n",
              "      <td>L/F</td>\n",
              "      <td>Ctt/Ttt</td>\n",
              "      <td>rs147311723</td>\n",
              "      <td>IMPACT=MODERATE;STRAND=-1;VARIANT_CLASS=SNV;SY...</td>\n",
              "      <td>MODERATE</td>\n",
              "    </tr>\n",
              "    <tr>\n",
              "      <th>1001130</th>\n",
              "      <td>rs41303171</td>\n",
              "      <td>X:15582298</td>\n",
              "      <td>C</td>\n",
              "      <td>ENSG00000130234</td>\n",
              "      <td>ENST00000427411</td>\n",
              "      <td>Transcript</td>\n",
              "      <td>missense_variant</td>\n",
              "      <td>2375</td>\n",
              "      <td>2158</td>\n",
              "      <td>720</td>\n",
              "      <td>N/D</td>\n",
              "      <td>Aac/Gac</td>\n",
              "      <td>rs41303171,COSV99071066</td>\n",
              "      <td>IMPACT=MODERATE;STRAND=-1;VARIANT_CLASS=SNV;SY...</td>\n",
              "      <td>MODERATE</td>\n",
              "    </tr>\n",
              "    <tr>\n",
              "      <th>1001389</th>\n",
              "      <td>rs149039346</td>\n",
              "      <td>X:15584416</td>\n",
              "      <td>G</td>\n",
              "      <td>ENSG00000130234</td>\n",
              "      <td>ENST00000427411</td>\n",
              "      <td>Transcript</td>\n",
              "      <td>missense_variant</td>\n",
              "      <td>2291</td>\n",
              "      <td>2074</td>\n",
              "      <td>692</td>\n",
              "      <td>S/P</td>\n",
              "      <td>Tct/Cct</td>\n",
              "      <td>rs149039346</td>\n",
              "      <td>IMPACT=MODERATE;STRAND=-1;VARIANT_CLASS=SNV;SY...</td>\n",
              "      <td>MODERATE</td>\n",
              "    </tr>\n",
              "    <tr>\n",
              "      <th>1001401</th>\n",
              "      <td>X_15584425_T/C</td>\n",
              "      <td>X:15584425</td>\n",
              "      <td>C</td>\n",
              "      <td>ENSG00000130234</td>\n",
              "      <td>ENST00000427411</td>\n",
              "      <td>Transcript</td>\n",
              "      <td>missense_variant</td>\n",
              "      <td>2282</td>\n",
              "      <td>2065</td>\n",
              "      <td>689</td>\n",
              "      <td>K/E</td>\n",
              "      <td>Aaa/Gaa</td>\n",
              "      <td>rs777410473</td>\n",
              "      <td>IMPACT=MODERATE;STRAND=-1;VARIANT_CLASS=SNV;SY...</td>\n",
              "      <td>MODERATE</td>\n",
              "    </tr>\n",
              "    <tr>\n",
              "      <th>1001407</th>\n",
              "      <td>rs200180615</td>\n",
              "      <td>X:15584488</td>\n",
              "      <td>T</td>\n",
              "      <td>ENSG00000130234</td>\n",
              "      <td>ENST00000427411</td>\n",
              "      <td>Transcript</td>\n",
              "      <td>missense_variant</td>\n",
              "      <td>2219</td>\n",
              "      <td>2002</td>\n",
              "      <td>668</td>\n",
              "      <td>E/K</td>\n",
              "      <td>Gag/Aag</td>\n",
              "      <td>rs200180615</td>\n",
              "      <td>IMPACT=MODERATE;STRAND=-1;VARIANT_CLASS=SNV;SY...</td>\n",
              "      <td>MODERATE</td>\n",
              "    </tr>\n",
              "    <tr>\n",
              "      <th>1001527</th>\n",
              "      <td>rs199951323</td>\n",
              "      <td>X:15585879</td>\n",
              "      <td>C</td>\n",
              "      <td>ENSG00000130234</td>\n",
              "      <td>ENST00000427411</td>\n",
              "      <td>Transcript</td>\n",
              "      <td>stop_gained</td>\n",
              "      <td>2184</td>\n",
              "      <td>1967</td>\n",
              "      <td>656</td>\n",
              "      <td>L/*</td>\n",
              "      <td>tTa/tGa</td>\n",
              "      <td>rs199951323</td>\n",
              "      <td>IMPACT=HIGH;STRAND=-1;VARIANT_CLASS=SNV;SYMBOL...</td>\n",
              "      <td>HIGH</td>\n",
              "    </tr>\n",
              "    <tr>\n",
              "      <th>1001531</th>\n",
              "      <td>rs183135788</td>\n",
              "      <td>X:15585933</td>\n",
              "      <td>C</td>\n",
              "      <td>ENSG00000130234</td>\n",
              "      <td>ENST00000427411</td>\n",
              "      <td>Transcript</td>\n",
              "      <td>missense_variant</td>\n",
              "      <td>2130</td>\n",
              "      <td>1913</td>\n",
              "      <td>638</td>\n",
              "      <td>N/S</td>\n",
              "      <td>aAt/aGt</td>\n",
              "      <td>rs183135788</td>\n",
              "      <td>IMPACT=MODERATE;STRAND=-1;VARIANT_CLASS=SNV;SY...</td>\n",
              "      <td>MODERATE</td>\n",
              "    </tr>\n",
              "    <tr>\n",
              "      <th>1001796</th>\n",
              "      <td>X_15590351_T/C</td>\n",
              "      <td>X:15590351</td>\n",
              "      <td>C</td>\n",
              "      <td>ENSG00000130234</td>\n",
              "      <td>ENST00000427411</td>\n",
              "      <td>Transcript</td>\n",
              "      <td>missense_variant</td>\n",
              "      <td>1854</td>\n",
              "      <td>1637</td>\n",
              "      <td>546</td>\n",
              "      <td>N/S</td>\n",
              "      <td>aAc/aGc</td>\n",
              "      <td>rs756905974</td>\n",
              "      <td>IMPACT=MODERATE;STRAND=-1;VARIANT_CLASS=SNV;SY...</td>\n",
              "      <td>MODERATE</td>\n",
              "    </tr>\n",
              "    <tr>\n",
              "      <th>1001838</th>\n",
              "      <td>X_15591503_A/G</td>\n",
              "      <td>X:15591503</td>\n",
              "      <td>G</td>\n",
              "      <td>ENSG00000130234</td>\n",
              "      <td>ENST00000427411</td>\n",
              "      <td>Transcript</td>\n",
              "      <td>missense_variant</td>\n",
              "      <td>1745</td>\n",
              "      <td>1528</td>\n",
              "      <td>510</td>\n",
              "      <td>Y/H</td>\n",
              "      <td>Tac/Cac</td>\n",
              "      <td>rs779199005</td>\n",
              "      <td>IMPACT=MODERATE;STRAND=-1;VARIANT_CLASS=SNV;SY...</td>\n",
              "      <td>MODERATE</td>\n",
              "    </tr>\n",
              "    <tr>\n",
              "      <th>1001842</th>\n",
              "      <td>rs140473595</td>\n",
              "      <td>X:15591530</td>\n",
              "      <td>T</td>\n",
              "      <td>ENSG00000130234</td>\n",
              "      <td>ENST00000427411</td>\n",
              "      <td>Transcript</td>\n",
              "      <td>missense_variant</td>\n",
              "      <td>1718</td>\n",
              "      <td>1501</td>\n",
              "      <td>501</td>\n",
              "      <td>A/T</td>\n",
              "      <td>Gca/Aca</td>\n",
              "      <td>rs140473595</td>\n",
              "      <td>IMPACT=MODERATE;STRAND=-1;VARIANT_CLASS=SNV;SY...</td>\n",
              "      <td>MODERATE</td>\n",
              "    </tr>\n",
              "    <tr>\n",
              "      <th>1001844</th>\n",
              "      <td>rs200973492</td>\n",
              "      <td>X:15591568</td>\n",
              "      <td>G</td>\n",
              "      <td>ENSG00000130234</td>\n",
              "      <td>ENST00000427411</td>\n",
              "      <td>Transcript</td>\n",
              "      <td>missense_variant</td>\n",
              "      <td>1680</td>\n",
              "      <td>1463</td>\n",
              "      <td>488</td>\n",
              "      <td>V/A</td>\n",
              "      <td>gTg/gCg</td>\n",
              "      <td>rs200973492</td>\n",
              "      <td>IMPACT=MODERATE;STRAND=-1;VARIANT_CLASS=SNV;SY...</td>\n",
              "      <td>MODERATE</td>\n",
              "    </tr>\n",
              "    <tr>\n",
              "      <th>1001944</th>\n",
              "      <td>rs191860450</td>\n",
              "      <td>X:15593829</td>\n",
              "      <td>C</td>\n",
              "      <td>ENSG00000130234</td>\n",
              "      <td>ENST00000427411</td>\n",
              "      <td>Transcript</td>\n",
              "      <td>missense_variant</td>\n",
              "      <td>1619</td>\n",
              "      <td>1402</td>\n",
              "      <td>468</td>\n",
              "      <td>I/V</td>\n",
              "      <td>Att/Gtt</td>\n",
              "      <td>rs191860450</td>\n",
              "      <td>IMPACT=MODERATE;STRAND=-1;VARIANT_CLASS=SNV;SY...</td>\n",
              "      <td>MODERATE</td>\n",
              "    </tr>\n",
              "    <tr>\n",
              "      <th>1002191</th>\n",
              "      <td>rs138390800</td>\n",
              "      <td>X:15599392</td>\n",
              "      <td>C</td>\n",
              "      <td>ENSG00000130234</td>\n",
              "      <td>ENST00000427411</td>\n",
              "      <td>Transcript</td>\n",
              "      <td>missense_variant</td>\n",
              "      <td>1239</td>\n",
              "      <td>1022</td>\n",
              "      <td>341</td>\n",
              "      <td>K/R</td>\n",
              "      <td>aAa/aGa</td>\n",
              "      <td>rs138390800</td>\n",
              "      <td>IMPACT=MODERATE;STRAND=-1;VARIANT_CLASS=SNV;SY...</td>\n",
              "      <td>MODERATE</td>\n",
              "    </tr>\n",
              "    <tr>\n",
              "      <th>1002193</th>\n",
              "      <td>rs185525294</td>\n",
              "      <td>X:15599420</td>\n",
              "      <td>A</td>\n",
              "      <td>ENSG00000130234</td>\n",
              "      <td>ENST00000427411</td>\n",
              "      <td>Transcript</td>\n",
              "      <td>missense_variant</td>\n",
              "      <td>1211</td>\n",
              "      <td>994</td>\n",
              "      <td>332</td>\n",
              "      <td>M/L</td>\n",
              "      <td>Atg/Ttg</td>\n",
              "      <td>rs185525294</td>\n",
              "      <td>IMPACT=MODERATE;STRAND=-1;VARIANT_CLASS=SNV;SY...</td>\n",
              "      <td>MODERATE</td>\n",
              "    </tr>\n",
              "    <tr>\n",
              "      <th>1002195</th>\n",
              "      <td>X_15599480_C/T</td>\n",
              "      <td>X:15599480</td>\n",
              "      <td>T</td>\n",
              "      <td>ENSG00000130234</td>\n",
              "      <td>ENST00000427411</td>\n",
              "      <td>Transcript</td>\n",
              "      <td>missense_variant</td>\n",
              "      <td>1151</td>\n",
              "      <td>934</td>\n",
              "      <td>312</td>\n",
              "      <td>E/K</td>\n",
              "      <td>Gag/Aag</td>\n",
              "      <td>rs780574871</td>\n",
              "      <td>IMPACT=MODERATE;STRAND=-1;VARIANT_CLASS=SNV;SY...</td>\n",
              "      <td>MODERATE</td>\n",
              "    </tr>\n",
              "    <tr>\n",
              "      <th>1002197</th>\n",
              "      <td>X_15599507_C/T</td>\n",
              "      <td>X:15599507</td>\n",
              "      <td>T</td>\n",
              "      <td>ENSG00000130234</td>\n",
              "      <td>ENST00000427411</td>\n",
              "      <td>Transcript</td>\n",
              "      <td>missense_variant</td>\n",
              "      <td>1124</td>\n",
              "      <td>907</td>\n",
              "      <td>303</td>\n",
              "      <td>D/N</td>\n",
              "      <td>Gat/Aat</td>\n",
              "      <td>rs749750821</td>\n",
              "      <td>IMPACT=MODERATE;STRAND=-1;VARIANT_CLASS=SNV;SY...</td>\n",
              "      <td>MODERATE</td>\n",
              "    </tr>\n",
              "    <tr>\n",
              "      <th>1002409</th>\n",
              "      <td>X_15605908_C/T</td>\n",
              "      <td>X:15605908</td>\n",
              "      <td>T</td>\n",
              "      <td>ENSG00000130234</td>\n",
              "      <td>ENST00000427411</td>\n",
              "      <td>Transcript</td>\n",
              "      <td>missense_variant</td>\n",
              "      <td>987</td>\n",
              "      <td>770</td>\n",
              "      <td>257</td>\n",
              "      <td>S/N</td>\n",
              "      <td>aGt/aAt</td>\n",
              "      <td>rs745514718</td>\n",
              "      <td>IMPACT=MODERATE;STRAND=-1;VARIANT_CLASS=SNV;SY...</td>\n",
              "      <td>MODERATE</td>\n",
              "    </tr>\n",
              "    <tr>\n",
              "      <th>1002445</th>\n",
              "      <td>rs372272603</td>\n",
              "      <td>X:15607508</td>\n",
              "      <td>A</td>\n",
              "      <td>ENSG00000130234</td>\n",
              "      <td>ENST00000427411</td>\n",
              "      <td>Transcript</td>\n",
              "      <td>missense_variant</td>\n",
              "      <td>872</td>\n",
              "      <td>655</td>\n",
              "      <td>219</td>\n",
              "      <td>R/C</td>\n",
              "      <td>Cgc/Tgc</td>\n",
              "      <td>rs372272603</td>\n",
              "      <td>IMPACT=MODERATE;STRAND=-1;VARIANT_CLASS=SNV;SY...</td>\n",
              "      <td>MODERATE</td>\n",
              "    </tr>\n",
              "    <tr>\n",
              "      <th>1002447</th>\n",
              "      <td>X_15607552_C/G</td>\n",
              "      <td>X:15607552</td>\n",
              "      <td>G</td>\n",
              "      <td>ENSG00000130234</td>\n",
              "      <td>ENST00000427411</td>\n",
              "      <td>Transcript</td>\n",
              "      <td>missense_variant</td>\n",
              "      <td>828</td>\n",
              "      <td>611</td>\n",
              "      <td>204</td>\n",
              "      <td>R/T</td>\n",
              "      <td>aGa/aCa</td>\n",
              "      <td>rs779790336,COSV53027328</td>\n",
              "      <td>IMPACT=MODERATE;STRAND=-1;VARIANT_CLASS=SNV;SY...</td>\n",
              "      <td>MODERATE</td>\n",
              "    </tr>\n",
              "    <tr>\n",
              "      <th>1002760</th>\n",
              "      <td>rs201900069</td>\n",
              "      <td>X:15612969</td>\n",
              "      <td>T</td>\n",
              "      <td>ENSG00000130234</td>\n",
              "      <td>ENST00000427411</td>\n",
              "      <td>Transcript</td>\n",
              "      <td>missense_variant,splice_region_variant</td>\n",
              "      <td>561</td>\n",
              "      <td>344</td>\n",
              "      <td>115</td>\n",
              "      <td>R/Q</td>\n",
              "      <td>cGg/cAg</td>\n",
              "      <td>rs201900069,COSV53025217</td>\n",
              "      <td>IMPACT=MODERATE;STRAND=-1;VARIANT_CLASS=SNV;SY...</td>\n",
              "      <td>MODERATE</td>\n",
              "    </tr>\n",
              "    <tr>\n",
              "      <th>1003242</th>\n",
              "      <td>rs4646116</td>\n",
              "      <td>X:15618958</td>\n",
              "      <td>C</td>\n",
              "      <td>ENSG00000130234</td>\n",
              "      <td>ENST00000427411</td>\n",
              "      <td>Transcript</td>\n",
              "      <td>missense_variant</td>\n",
              "      <td>294</td>\n",
              "      <td>77</td>\n",
              "      <td>26</td>\n",
              "      <td>K/R</td>\n",
              "      <td>aAg/aGg</td>\n",
              "      <td>rs4646116</td>\n",
              "      <td>IMPACT=MODERATE;STRAND=-1;VARIANT_CLASS=SNV;SY...</td>\n",
              "      <td>MODERATE</td>\n",
              "    </tr>\n",
              "    <tr>\n",
              "      <th>1003250</th>\n",
              "      <td>rs73635825</td>\n",
              "      <td>X:15618980</td>\n",
              "      <td>G</td>\n",
              "      <td>ENSG00000130234</td>\n",
              "      <td>ENST00000427411</td>\n",
              "      <td>Transcript</td>\n",
              "      <td>missense_variant</td>\n",
              "      <td>272</td>\n",
              "      <td>55</td>\n",
              "      <td>19</td>\n",
              "      <td>S/P</td>\n",
              "      <td>Tcc/Ccc</td>\n",
              "      <td>rs73635825</td>\n",
              "      <td>IMPACT=MODERATE;STRAND=-1;VARIANT_CLASS=SNV;SY...</td>\n",
              "      <td>MODERATE</td>\n",
              "    </tr>\n",
              "  </tbody>\n",
              "</table>\n",
              "</div>"
            ],
            "text/plain": [
              "        Uploaded_variation  ...    impact\n",
              "847944            rs179008  ...  MODERATE\n",
              "847945      X_12903826_A/G  ...  MODERATE\n",
              "847948         rs150313957  ...  MODERATE\n",
              "847950      X_12904053_A/G  ...  MODERATE\n",
              "847954         rs149314023  ...  MODERATE\n",
              "847955          rs55907843  ...  MODERATE\n",
              "847957      X_12904463_T/C  ...  MODERATE\n",
              "847964         rs190564296  ...  MODERATE\n",
              "847965           rs5743781  ...  MODERATE\n",
              "847970      X_12905389_A/G  ...  MODERATE\n",
              "847971      X_12905539_G/A  ...  MODERATE\n",
              "847972         rs187685386  ...  MODERATE\n",
              "847976         rs145797092  ...  MODERATE\n",
              "847977         rs189681811  ...  MODERATE\n",
              "847978         rs181600414  ...  MODERATE\n",
              "847979         rs138079334  ...  MODERATE\n",
              "847981         rs184706894  ...  MODERATE\n",
              "1001125        rs147311723  ...  MODERATE\n",
              "1001130         rs41303171  ...  MODERATE\n",
              "1001389        rs149039346  ...  MODERATE\n",
              "1001401     X_15584425_T/C  ...  MODERATE\n",
              "1001407        rs200180615  ...  MODERATE\n",
              "1001527        rs199951323  ...      HIGH\n",
              "1001531        rs183135788  ...  MODERATE\n",
              "1001796     X_15590351_T/C  ...  MODERATE\n",
              "1001838     X_15591503_A/G  ...  MODERATE\n",
              "1001842        rs140473595  ...  MODERATE\n",
              "1001844        rs200973492  ...  MODERATE\n",
              "1001944        rs191860450  ...  MODERATE\n",
              "1002191        rs138390800  ...  MODERATE\n",
              "1002193        rs185525294  ...  MODERATE\n",
              "1002195     X_15599480_C/T  ...  MODERATE\n",
              "1002197     X_15599507_C/T  ...  MODERATE\n",
              "1002409     X_15605908_C/T  ...  MODERATE\n",
              "1002445        rs372272603  ...  MODERATE\n",
              "1002447     X_15607552_C/G  ...  MODERATE\n",
              "1002760        rs201900069  ...  MODERATE\n",
              "1003242          rs4646116  ...  MODERATE\n",
              "1003250         rs73635825  ...  MODERATE\n",
              "\n",
              "[39 rows x 15 columns]"
            ]
          },
          "metadata": {
            "tags": []
          },
          "execution_count": 29
        }
      ]
    },
    {
      "cell_type": "code",
      "metadata": {
        "id": "KwWEi78dC2u7",
        "colab": {
          "base_uri": "https://localhost:8080/",
          "height": 289
        },
        "outputId": "179be449-62d8-4c38-9c0c-ec99f75d0582"
      },
      "source": [
        "print(vep_mod_high_both.iloc[0, :])"
      ],
      "execution_count": null,
      "outputs": [
        {
          "output_type": "stream",
          "text": [
            "Uploaded_variation                                             rs179008\n",
            "Location                                                     X:12903659\n",
            "Allele                                                                T\n",
            "Gene                                                    ENSG00000196664\n",
            "Feature                                                 ENST00000380659\n",
            "Feature_type                                                 Transcript\n",
            "Consequence                                            missense_variant\n",
            "cDNA_position                                                       171\n",
            "CDS_position                                                         32\n",
            "Protein_position                                                     11\n",
            "Amino_acids                                                         Q/L\n",
            "Codons                                                          cAa/cTa\n",
            "Existing_variation                       rs179008,CM084786,COSV66123795\n",
            "Extra                 IMPACT=MODERATE;STRAND=1;VARIANT_CLASS=SNV;SYM...\n",
            "impact                                                         MODERATE\n",
            "Name: 847944, dtype: object\n"
          ],
          "name": "stdout"
        }
      ]
    },
    {
      "cell_type": "code",
      "metadata": {
        "id": "7gbLo920JsH2",
        "colab": {
          "base_uri": "https://localhost:8080/",
          "height": 35
        },
        "outputId": "7879cff2-2177-4523-87d1-0f84792ac84b"
      },
      "source": [
        "Variants_alt = np.array(vcfzarr[\"X/variants/REF\"])\n",
        "Variants_alt[847944]"
      ],
      "execution_count": null,
      "outputs": [
        {
          "output_type": "execute_result",
          "data": {
            "application/vnd.google.colaboratory.intrinsic+json": {
              "type": "string"
            },
            "text/plain": [
              "'A'"
            ]
          },
          "metadata": {
            "tags": []
          },
          "execution_count": 31
        }
      ]
    },
    {
      "cell_type": "code",
      "metadata": {
        "id": "rR0MzETdP6uu",
        "colab": {
          "base_uri": "https://localhost:8080/",
          "height": 204
        },
        "outputId": "c0bf23f9-a0ff-4d33-e4a3-bdf53913d03d"
      },
      "source": [
        "customer_1 = ['NA21106']\n",
        "\n",
        "# Similar to what was done before\n",
        "customer_idx1 = pd.Series(vcfzarr[\"X/samples\"]).isin(customer_1)\n",
        "customer_idx1 = customer_idx1[customer_idx1].index.values\n",
        "\n",
        "# Check for NA confirmation\n",
        "\n",
        "# Generate genotype array\n",
        "GenoTyp_customers_NA = np.array([vcfzarr[\"X/calldata/GT\"][i]for i in idx])\n",
        "GenoTyp_customers_NA = allel.GenotypeArray(GenoTyp_customers_NA)\n",
        "GenoTyp_customers_NA = GenoTyp_customers_NA[:,customer_idx1]\n",
        "GenoTyp_customers_NA #confirm that NA is on the right side of the original generated genotype"
      ],
      "execution_count": null,
      "outputs": [
        {
          "output_type": "execute_result",
          "data": {
            "text/html": [
              "<div class=\"allel allel-DisplayAs2D\"><span>&lt;GenotypeArray shape=(39, 1, 2) dtype=int8&gt;</span><table><thead><tr><th></th><th style=\"text-align: center\">0</th></tr></thead><tbody><tr><th style=\"text-align: center; background-color: white; border-right: 1px solid black; \">0</th><td style=\"text-align: center\">0/0</td></tr><tr><th style=\"text-align: center; background-color: white; border-right: 1px solid black; \">1</th><td style=\"text-align: center\">0/0</td></tr><tr><th style=\"text-align: center; background-color: white; border-right: 1px solid black; \">2</th><td style=\"text-align: center\">0/0</td></tr><tr><th style=\"text-align: center; background-color: white; border-right: 1px solid black; \">...</th><td style=\"text-align: center\" colspan=\"2\">...</td></tr><tr><th style=\"text-align: center; background-color: white; border-right: 1px solid black; \">36</th><td style=\"text-align: center\">0/0</td></tr><tr><th style=\"text-align: center; background-color: white; border-right: 1px solid black; \">37</th><td style=\"text-align: center\">0/0</td></tr><tr><th style=\"text-align: center; background-color: white; border-right: 1px solid black; \">38</th><td style=\"text-align: center\">0/0</td></tr></tbody></table></div>"
            ],
            "text/plain": [
              "<GenotypeArray shape=(39, 1, 2) dtype=int8>\n",
              "0/0\n",
              "0/0\n",
              "0/0\n",
              "...\n",
              "0/0\n",
              "0/0\n",
              "0/0"
            ]
          },
          "metadata": {
            "tags": []
          },
          "execution_count": 32
        }
      ]
    },
    {
      "cell_type": "code",
      "metadata": {
        "id": "nyBu-H8bSoml"
      },
      "source": [
        "customer_2 = ['HG02429']\n",
        "# TLR7 on top, ACE2 on bottom\n",
        "\n",
        "# Similar to what was done before\n",
        "customer_idx2 = pd.Series(vcfzarr[\"X/samples\"]).isin(customer_2)\n",
        "customer_idx2 = customer_idx2[customer_idx2].index.values\n",
        "\n",
        "# Check for HG\n",
        "\n",
        "# Generate genotype array\n",
        "GenoTyp_customers_HG = np.array([vcfzarr[\"X/calldata/GT\"][i]for i in idx])\n",
        "GenoTyp_customers_HG = allel.GenotypeArray(GenoTyp_customers_HG)\n",
        "GenoTyp_customers_HG = GenoTyp_customers_HG[:,customer_idx2] #confirm that HG is on the left side of the original genotype array"
      ],
      "execution_count": null,
      "outputs": []
    },
    {
      "cell_type": "code",
      "metadata": {
        "id": "yFjepNawGrTi",
        "colab": {
          "base_uri": "https://localhost:8080/",
          "height": 153
        },
        "outputId": "d18cf8fe-54dc-409d-f11e-b057d7c642cc"
      },
      "source": [
        "import sys\n",
        "\n",
        "np.set_printoptions(threshold=np.inf)\n",
        "print(GenoTyp_customers_HG)\n",
        "\n",
        "#hemizygous"
      ],
      "execution_count": null,
      "outputs": [
        {
          "output_type": "stream",
          "text": [
            "1/.\n",
            "0/.\n",
            "0/.\n",
            "...\n",
            "0/.\n",
            "0/.\n",
            "0/.\n",
            "\n"
          ],
          "name": "stdout"
        }
      ]
    },
    {
      "cell_type": "code",
      "metadata": {
        "id": "coOGzAR1PQ5w",
        "colab": {
          "base_uri": "https://localhost:8080/",
          "height": 680
        },
        "outputId": "083ef4a8-26b8-4ea4-d57c-50dcdb292118"
      },
      "source": [
        "GenoTyp_customers_HG.count_alleles()\n",
        "GenoTyp_customers_HG.tolist()\n",
        "\n",
        "# Look for the hemizygous that says 1. (1 + 19)"
      ],
      "execution_count": null,
      "outputs": [
        {
          "output_type": "execute_result",
          "data": {
            "text/plain": [
              "[[[1, -1]],\n",
              " [[0, -1]],\n",
              " [[0, -1]],\n",
              " [[0, -1]],\n",
              " [[0, -1]],\n",
              " [[0, -1]],\n",
              " [[0, -1]],\n",
              " [[0, -1]],\n",
              " [[0, -1]],\n",
              " [[0, -1]],\n",
              " [[0, -1]],\n",
              " [[0, -1]],\n",
              " [[0, -1]],\n",
              " [[0, -1]],\n",
              " [[0, -1]],\n",
              " [[0, -1]],\n",
              " [[0, -1]],\n",
              " [[0, -1]],\n",
              " [[0, -1]],\n",
              " [[1, -1]],\n",
              " [[0, -1]],\n",
              " [[0, -1]],\n",
              " [[0, -1]],\n",
              " [[0, -1]],\n",
              " [[0, -1]],\n",
              " [[0, -1]],\n",
              " [[0, -1]],\n",
              " [[0, -1]],\n",
              " [[0, -1]],\n",
              " [[0, -1]],\n",
              " [[0, -1]],\n",
              " [[0, -1]],\n",
              " [[0, -1]],\n",
              " [[0, -1]],\n",
              " [[0, -1]],\n",
              " [[0, -1]],\n",
              " [[0, -1]],\n",
              " [[0, -1]],\n",
              " [[0, -1]]]"
            ]
          },
          "metadata": {
            "tags": []
          },
          "execution_count": 35
        }
      ]
    },
    {
      "cell_type": "code",
      "metadata": {
        "id": "SYHKvnn6dsQI",
        "colab": {
          "base_uri": "https://localhost:8080/",
          "height": 289
        },
        "outputId": "e3a32dff-df2e-4c1f-d199-c75dc8a3e8a9"
      },
      "source": [
        "print(vep_mod_high_both.iloc[21, :])"
      ],
      "execution_count": null,
      "outputs": [
        {
          "output_type": "stream",
          "text": [
            "Uploaded_variation                                          rs200180615\n",
            "Location                                                     X:15584488\n",
            "Allele                                                                T\n",
            "Gene                                                    ENSG00000130234\n",
            "Feature                                                 ENST00000427411\n",
            "Feature_type                                                 Transcript\n",
            "Consequence                                            missense_variant\n",
            "cDNA_position                                                      2219\n",
            "CDS_position                                                       2002\n",
            "Protein_position                                                    668\n",
            "Amino_acids                                                         E/K\n",
            "Codons                                                          Gag/Aag\n",
            "Existing_variation                                          rs200180615\n",
            "Extra                 IMPACT=MODERATE;STRAND=-1;VARIANT_CLASS=SNV;SY...\n",
            "impact                                                         MODERATE\n",
            "Name: 1001407, dtype: object\n"
          ],
          "name": "stdout"
        }
      ]
    },
    {
      "cell_type": "code",
      "metadata": {
        "id": "AUVZKvEgdxVp",
        "colab": {
          "base_uri": "https://localhost:8080/",
          "height": 35
        },
        "outputId": "0b191699-5b69-4cc4-9701-9bacd3400763"
      },
      "source": [
        "Variants_alt = np.array(vcfzarr[\"X/variants/REF\"])\n",
        "Variants_alt[1001407]"
      ],
      "execution_count": null,
      "outputs": [
        {
          "output_type": "execute_result",
          "data": {
            "application/vnd.google.colaboratory.intrinsic+json": {
              "type": "string"
            },
            "text/plain": [
              "'G'"
            ]
          },
          "metadata": {
            "tags": []
          },
          "execution_count": 37
        }
      ]
    },
    {
      "cell_type": "markdown",
      "metadata": {
        "id": "IFNA2UOuUAwr"
      },
      "source": [
        "To generate the report, you should report each variant that's not homozygous reference (_i.e_ `0|0`). Showing the variant ID by the format `gene_name`: `chrX:{POS}{REF>{ALT}`, `consequences`, `genotype (homozygous, heterozygous, hemizygous)`.\n",
        "\n",
        "For example:\n",
        "```\n",
        "Subject ABXXXXX\n",
        "\n",
        "TLR7: chrX:12904970C>T, missense, hemizygous\n",
        "\n",
        "Subject CDXXXXX\n",
        "\n",
        "ACE2: chrX:15593829T>C, missense, heterozygous\n",
        "```\n",
        "\n",
        "_Hint_: You can find the reference allele from the `X/variants/REF` key in your vcf / vcfzarr object."
      ]
    },
    {
      "cell_type": "markdown",
      "metadata": {
        "id": "260gSsxYZ3OT"
      },
      "source": [
        "#### **2.2. Summary of the variants of the two customers `NA21106` and `HG02429` in the format described above**\n",
        "\n",
        "\n",
        "Subject: NA21106\n",
        "\n",
        "No observable TLR7 variant in customer\n",
        "\n",
        "ACE2: chrX:15584488G>T, missense, heterozygous\n",
        "\n",
        "ACE2: chrX:15590351T>C, missense, heterozygous\n",
        "\n",
        "-------\n",
        "\n",
        "Subject: HG02429\n",
        "\n",
        "TLR7: chrX:12903659A>T, missense, hemizygous\n",
        "\n",
        "ACE2: chrX:15584416A>G, missense, hemizygous\n",
        "\n"
      ]
    },
    {
      "cell_type": "code",
      "metadata": {
        "id": "mhZ1VpU5LDb1",
        "colab": {
          "base_uri": "https://localhost:8080/",
          "height": 51
        },
        "outputId": "68b0cf24-81c8-4896-e1d5-9cc63f381961"
      },
      "source": [
        "# chrX: g.12905756_12905759del and chrX: g.12906010G>T\n",
        "vep_locations = set(vep[\"Location\"])\n",
        "# Check the two given locations with locations potentially found in vep\n",
        "\n",
        "print(\"12905756_12905759\" in vep_locations)\n",
        "print(\"12906010\" in vep_locations)"
      ],
      "execution_count": null,
      "outputs": [
        {
          "output_type": "stream",
          "text": [
            "False\n",
            "False\n"
          ],
          "name": "stdout"
        }
      ]
    },
    {
      "cell_type": "markdown",
      "metadata": {
        "id": "v-0c5v-CR09R"
      },
      "source": [
        "## Microsatellite Instability in Colon Cancer"
      ]
    },
    {
      "cell_type": "markdown",
      "metadata": {
        "id": "Ip6vrouD3gER"
      },
      "source": [
        "[Microsatellite instability (MSI)](https://en.wikipedia.org/wiki/Microsatellite_instability) is a genomic phenotype observed in certain types of cancer such as colon, rectum or gastric. MSI tumors tend to have hypermutability, _i.e._ significant higher number of mutations, than microsatellite stable (MSS) tumors. Here we want to look into the manifestation of the MSI tumors versu MSS tumors, and how do their mutation profiles might shed lights on the biological mechanism of the MSI condition.\n",
        "\n",
        "Mutation annotation format (MAF) file of the TCGA colon adenocarcinoma (COAD) is found here:\n",
        "\n",
        "[TCGA.COAD.mutect.03652df4-6090-4f5a-a2ff-ee28a37f9301.DR-10.0.somatic.maf.gz](https://drive.google.com/file/d/16LVprt_N8OPtP8-MR1qdkKqAcSYGZbNK/view?usp=sharing)\n",
        "\n",
        "Separately, there are also clinical genomic test restuls for MSI here:\n",
        "\n",
        "[msi_test_result_coad_read.txt](https://drive.google.com/file/d/1QH7X1QXF13WXo9e3tjVqF6OLUzQszprg/view?usp=sharing)\n",
        "\n",
        "In the test results, there are three categories: `MSI-H` (high microsatellte instability), `MSI-L` (low microsatellte instability), and `MSS` (microsatellite stable)."
      ]
    },
    {
      "cell_type": "markdown",
      "metadata": {
        "id": "Z-4EOm6V54gr"
      },
      "source": [
        "### Mutation load difference between MSI and MSS tumors"
      ]
    },
    {
      "cell_type": "markdown",
      "metadata": {
        "id": "AQV3YgJK58vt"
      },
      "source": [
        "First let's investigate what is the [mutation load](https://www.thermofisher.com/us/en/home/life-science/sequencing/sequencing-learning-center/next-generation-sequencing-information/immuno-oncology-research/what-is-tumor-mutation-load.html) distribution of different microsatellite genotypes. Here as all the samples were sequenced using the same technology with same target region, we can approximate the mutation load of a tumor as simply the **total number of mutations** in that tumor, regardless of the mutation type or the impact. \n",
        "\n",
        "Mutation data and MSI results are loaded into a box plot, depicting the distribution of mutation loads in each MSI result category. The final plot has three boxes in one axis `MSI-H`, `MSI-L`, and `MSS`, while the other axis showing the mutation loads, at a logarithmic scale."
      ]
    },
    {
      "cell_type": "code",
      "metadata": {
        "id": "Mb6Fu9op7pwD"
      },
      "source": [
        "maf_file = DATA / \"TCGA.COAD.mutect.03652df4-6090-4f5a-a2ff-ee28a37f9301.DR-10.0.somatic.maf.gz\"\n",
        "msi_test_file = DATA / \"msi_test_result_coad_read.txt\""
      ],
      "execution_count": null,
      "outputs": []
    },
    {
      "cell_type": "code",
      "metadata": {
        "id": "5Z_Glyha7i0v",
        "colab": {
          "base_uri": "https://localhost:8080/",
          "height": 71
        },
        "outputId": "25961b9f-ec31-4cac-e3ef-88336b334443"
      },
      "source": [
        "#==============================================================================\n",
        "# Load the MAF file and the MSI test result file and create a box plot showing\n",
        "# the distribution of each MSI result category and mutation loads of the tumors\n",
        "\n",
        "maf = pd.read_csv(DATA / maf_file, sep=\"\\t\", comment=\"#\")\n",
        "msi = pd.read_csv(DATA / msi_test_file, sep=\"\\t\", comment=\"#\")\n",
        "#=============================================================================="
      ],
      "execution_count": null,
      "outputs": [
        {
          "output_type": "stream",
          "text": [
            "/usr/local/lib/python3.6/dist-packages/IPython/core/interactiveshell.py:2718: DtypeWarning: Columns (87,98,118) have mixed types.Specify dtype option on import or set low_memory=False.\n",
            "  interactivity=interactivity, compiler=compiler, result=result)\n"
          ],
          "name": "stderr"
        }
      ]
    },
    {
      "cell_type": "code",
      "metadata": {
        "id": "0GPAS7GHAuMV",
        "colab": {
          "base_uri": "https://localhost:8080/",
          "height": 204
        },
        "outputId": "667ba909-001b-45c0-df79-f0b804bbc032"
      },
      "source": [
        "msi.head()"
      ],
      "execution_count": null,
      "outputs": [
        {
          "output_type": "execute_result",
          "data": {
            "text/html": [
              "<div>\n",
              "<style scoped>\n",
              "    .dataframe tbody tr th:only-of-type {\n",
              "        vertical-align: middle;\n",
              "    }\n",
              "\n",
              "    .dataframe tbody tr th {\n",
              "        vertical-align: top;\n",
              "    }\n",
              "\n",
              "    .dataframe thead th {\n",
              "        text-align: right;\n",
              "    }\n",
              "</style>\n",
              "<table border=\"1\" class=\"dataframe\">\n",
              "  <thead>\n",
              "    <tr style=\"text-align: right;\">\n",
              "      <th></th>\n",
              "      <th>bcr_patient_barcode</th>\n",
              "      <th>disease_code</th>\n",
              "      <th>msi_test_result</th>\n",
              "    </tr>\n",
              "  </thead>\n",
              "  <tbody>\n",
              "    <tr>\n",
              "      <th>0</th>\n",
              "      <td>TCGA-F4-6809</td>\n",
              "      <td>COAD</td>\n",
              "      <td>MSS</td>\n",
              "    </tr>\n",
              "    <tr>\n",
              "      <th>1</th>\n",
              "      <td>TCGA-CM-4747</td>\n",
              "      <td>COAD</td>\n",
              "      <td>MSI-L</td>\n",
              "    </tr>\n",
              "    <tr>\n",
              "      <th>2</th>\n",
              "      <td>TCGA-AD-A5EK</td>\n",
              "      <td>COAD</td>\n",
              "      <td>MSS</td>\n",
              "    </tr>\n",
              "    <tr>\n",
              "      <th>3</th>\n",
              "      <td>TCGA-F4-6569</td>\n",
              "      <td>COAD</td>\n",
              "      <td>MSS</td>\n",
              "    </tr>\n",
              "    <tr>\n",
              "      <th>4</th>\n",
              "      <td>TCGA-AA-3837</td>\n",
              "      <td>COAD</td>\n",
              "      <td>MSS</td>\n",
              "    </tr>\n",
              "  </tbody>\n",
              "</table>\n",
              "</div>"
            ],
            "text/plain": [
              "  bcr_patient_barcode disease_code msi_test_result\n",
              "0        TCGA-F4-6809         COAD             MSS\n",
              "1        TCGA-CM-4747         COAD           MSI-L\n",
              "2        TCGA-AD-A5EK         COAD             MSS\n",
              "3        TCGA-F4-6569         COAD             MSS\n",
              "4        TCGA-AA-3837         COAD             MSS"
            ]
          },
          "metadata": {
            "tags": []
          },
          "execution_count": 41
        }
      ]
    },
    {
      "cell_type": "code",
      "metadata": {
        "id": "CYT2W4s8aUJq"
      },
      "source": [
        "maf['bcr_patient_barcode'] = maf['Tumor_Sample_Barcode'].str[:12]"
      ],
      "execution_count": null,
      "outputs": []
    },
    {
      "cell_type": "code",
      "metadata": {
        "id": "ZWJU8IKjm23x",
        "colab": {
          "base_uri": "https://localhost:8080/",
          "height": 253
        },
        "outputId": "cf8538bb-6f47-42c2-bc15-cef560c0a800"
      },
      "source": [
        "mutation_load = maf.groupby(\"bcr_patient_barcode\", as_index=False).count()\n",
        "mut_msi = mutation_load.merge(msi, on='bcr_patient_barcode')\n",
        "mut_msi[\"logmuts\"] = np.log10(mut_msi.Hugo_Symbol + 0.5)\n",
        "\n",
        "mut_msi = mut_msi[mut_msi.msi_test_result != \"Indeterminate\"]\n",
        "mut_msi.head()"
      ],
      "execution_count": null,
      "outputs": [
        {
          "output_type": "execute_result",
          "data": {
            "text/html": [
              "<div>\n",
              "<style scoped>\n",
              "    .dataframe tbody tr th:only-of-type {\n",
              "        vertical-align: middle;\n",
              "    }\n",
              "\n",
              "    .dataframe tbody tr th {\n",
              "        vertical-align: top;\n",
              "    }\n",
              "\n",
              "    .dataframe thead th {\n",
              "        text-align: right;\n",
              "    }\n",
              "</style>\n",
              "<table border=\"1\" class=\"dataframe\">\n",
              "  <thead>\n",
              "    <tr style=\"text-align: right;\">\n",
              "      <th></th>\n",
              "      <th>bcr_patient_barcode</th>\n",
              "      <th>Hugo_Symbol</th>\n",
              "      <th>Entrez_Gene_Id</th>\n",
              "      <th>Center</th>\n",
              "      <th>NCBI_Build</th>\n",
              "      <th>Chromosome</th>\n",
              "      <th>Start_Position</th>\n",
              "      <th>End_Position</th>\n",
              "      <th>Strand</th>\n",
              "      <th>Variant_Classification</th>\n",
              "      <th>Variant_Type</th>\n",
              "      <th>Reference_Allele</th>\n",
              "      <th>Tumor_Seq_Allele1</th>\n",
              "      <th>Tumor_Seq_Allele2</th>\n",
              "      <th>dbSNP_RS</th>\n",
              "      <th>dbSNP_Val_Status</th>\n",
              "      <th>Tumor_Sample_Barcode</th>\n",
              "      <th>Matched_Norm_Sample_Barcode</th>\n",
              "      <th>Match_Norm_Seq_Allele1</th>\n",
              "      <th>Match_Norm_Seq_Allele2</th>\n",
              "      <th>Tumor_Validation_Allele1</th>\n",
              "      <th>Tumor_Validation_Allele2</th>\n",
              "      <th>Match_Norm_Validation_Allele1</th>\n",
              "      <th>Match_Norm_Validation_Allele2</th>\n",
              "      <th>Verification_Status</th>\n",
              "      <th>Validation_Status</th>\n",
              "      <th>Mutation_Status</th>\n",
              "      <th>Sequencing_Phase</th>\n",
              "      <th>Sequence_Source</th>\n",
              "      <th>Validation_Method</th>\n",
              "      <th>Score</th>\n",
              "      <th>BAM_File</th>\n",
              "      <th>Sequencer</th>\n",
              "      <th>Tumor_Sample_UUID</th>\n",
              "      <th>Matched_Norm_Sample_UUID</th>\n",
              "      <th>HGVSc</th>\n",
              "      <th>HGVSp</th>\n",
              "      <th>HGVSp_Short</th>\n",
              "      <th>Transcript_ID</th>\n",
              "      <th>Exon_Number</th>\n",
              "      <th>...</th>\n",
              "      <th>SAS_MAF</th>\n",
              "      <th>AA_MAF</th>\n",
              "      <th>EA_MAF</th>\n",
              "      <th>CLIN_SIG</th>\n",
              "      <th>SOMATIC</th>\n",
              "      <th>PUBMED</th>\n",
              "      <th>MOTIF_NAME</th>\n",
              "      <th>MOTIF_POS</th>\n",
              "      <th>HIGH_INF_POS</th>\n",
              "      <th>MOTIF_SCORE_CHANGE</th>\n",
              "      <th>IMPACT</th>\n",
              "      <th>PICK</th>\n",
              "      <th>VARIANT_CLASS</th>\n",
              "      <th>TSL</th>\n",
              "      <th>HGVS_OFFSET</th>\n",
              "      <th>PHENO</th>\n",
              "      <th>MINIMISED</th>\n",
              "      <th>ExAC_AF</th>\n",
              "      <th>ExAC_AF_Adj</th>\n",
              "      <th>ExAC_AF_AFR</th>\n",
              "      <th>ExAC_AF_AMR</th>\n",
              "      <th>ExAC_AF_EAS</th>\n",
              "      <th>ExAC_AF_FIN</th>\n",
              "      <th>ExAC_AF_NFE</th>\n",
              "      <th>ExAC_AF_OTH</th>\n",
              "      <th>ExAC_AF_SAS</th>\n",
              "      <th>GENE_PHENO</th>\n",
              "      <th>FILTER</th>\n",
              "      <th>CONTEXT</th>\n",
              "      <th>src_vcf_id</th>\n",
              "      <th>tumor_bam_uuid</th>\n",
              "      <th>normal_bam_uuid</th>\n",
              "      <th>case_id</th>\n",
              "      <th>GDC_FILTER</th>\n",
              "      <th>COSMIC</th>\n",
              "      <th>MC3_Overlap</th>\n",
              "      <th>GDC_Validation_Status</th>\n",
              "      <th>disease_code</th>\n",
              "      <th>msi_test_result</th>\n",
              "      <th>logmuts</th>\n",
              "    </tr>\n",
              "  </thead>\n",
              "  <tbody>\n",
              "    <tr>\n",
              "      <th>0</th>\n",
              "      <td>TCGA-3L-AA1B</td>\n",
              "      <td>179</td>\n",
              "      <td>179</td>\n",
              "      <td>179</td>\n",
              "      <td>179</td>\n",
              "      <td>179</td>\n",
              "      <td>179</td>\n",
              "      <td>179</td>\n",
              "      <td>179</td>\n",
              "      <td>179</td>\n",
              "      <td>179</td>\n",
              "      <td>179</td>\n",
              "      <td>179</td>\n",
              "      <td>179</td>\n",
              "      <td>147</td>\n",
              "      <td>52</td>\n",
              "      <td>179</td>\n",
              "      <td>179</td>\n",
              "      <td>0</td>\n",
              "      <td>0</td>\n",
              "      <td>0</td>\n",
              "      <td>0</td>\n",
              "      <td>0</td>\n",
              "      <td>0</td>\n",
              "      <td>0</td>\n",
              "      <td>0</td>\n",
              "      <td>179</td>\n",
              "      <td>0</td>\n",
              "      <td>0</td>\n",
              "      <td>0</td>\n",
              "      <td>0</td>\n",
              "      <td>0</td>\n",
              "      <td>179</td>\n",
              "      <td>179</td>\n",
              "      <td>179</td>\n",
              "      <td>176</td>\n",
              "      <td>159</td>\n",
              "      <td>161</td>\n",
              "      <td>179</td>\n",
              "      <td>169</td>\n",
              "      <td>...</td>\n",
              "      <td>11</td>\n",
              "      <td>16</td>\n",
              "      <td>16</td>\n",
              "      <td>6</td>\n",
              "      <td>0</td>\n",
              "      <td>2</td>\n",
              "      <td>0</td>\n",
              "      <td>0</td>\n",
              "      <td>0</td>\n",
              "      <td>0</td>\n",
              "      <td>179</td>\n",
              "      <td>131</td>\n",
              "      <td>179</td>\n",
              "      <td>169</td>\n",
              "      <td>3</td>\n",
              "      <td>6</td>\n",
              "      <td>179</td>\n",
              "      <td>63</td>\n",
              "      <td>63</td>\n",
              "      <td>63</td>\n",
              "      <td>63</td>\n",
              "      <td>63</td>\n",
              "      <td>63</td>\n",
              "      <td>63</td>\n",
              "      <td>63</td>\n",
              "      <td>63</td>\n",
              "      <td>0</td>\n",
              "      <td>179</td>\n",
              "      <td>179</td>\n",
              "      <td>179</td>\n",
              "      <td>179</td>\n",
              "      <td>179</td>\n",
              "      <td>179</td>\n",
              "      <td>20</td>\n",
              "      <td>55</td>\n",
              "      <td>179</td>\n",
              "      <td>179</td>\n",
              "      <td>COAD</td>\n",
              "      <td>MSS</td>\n",
              "      <td>2.254064</td>\n",
              "    </tr>\n",
              "    <tr>\n",
              "      <th>1</th>\n",
              "      <td>TCGA-4N-A93T</td>\n",
              "      <td>143</td>\n",
              "      <td>143</td>\n",
              "      <td>143</td>\n",
              "      <td>143</td>\n",
              "      <td>143</td>\n",
              "      <td>143</td>\n",
              "      <td>143</td>\n",
              "      <td>143</td>\n",
              "      <td>143</td>\n",
              "      <td>143</td>\n",
              "      <td>143</td>\n",
              "      <td>143</td>\n",
              "      <td>143</td>\n",
              "      <td>122</td>\n",
              "      <td>39</td>\n",
              "      <td>143</td>\n",
              "      <td>143</td>\n",
              "      <td>0</td>\n",
              "      <td>0</td>\n",
              "      <td>0</td>\n",
              "      <td>0</td>\n",
              "      <td>0</td>\n",
              "      <td>0</td>\n",
              "      <td>0</td>\n",
              "      <td>0</td>\n",
              "      <td>143</td>\n",
              "      <td>0</td>\n",
              "      <td>0</td>\n",
              "      <td>0</td>\n",
              "      <td>0</td>\n",
              "      <td>0</td>\n",
              "      <td>143</td>\n",
              "      <td>143</td>\n",
              "      <td>143</td>\n",
              "      <td>139</td>\n",
              "      <td>119</td>\n",
              "      <td>120</td>\n",
              "      <td>143</td>\n",
              "      <td>130</td>\n",
              "      <td>...</td>\n",
              "      <td>9</td>\n",
              "      <td>7</td>\n",
              "      <td>7</td>\n",
              "      <td>5</td>\n",
              "      <td>0</td>\n",
              "      <td>2</td>\n",
              "      <td>0</td>\n",
              "      <td>0</td>\n",
              "      <td>0</td>\n",
              "      <td>0</td>\n",
              "      <td>143</td>\n",
              "      <td>107</td>\n",
              "      <td>143</td>\n",
              "      <td>131</td>\n",
              "      <td>1</td>\n",
              "      <td>5</td>\n",
              "      <td>143</td>\n",
              "      <td>42</td>\n",
              "      <td>42</td>\n",
              "      <td>42</td>\n",
              "      <td>42</td>\n",
              "      <td>42</td>\n",
              "      <td>42</td>\n",
              "      <td>42</td>\n",
              "      <td>42</td>\n",
              "      <td>42</td>\n",
              "      <td>0</td>\n",
              "      <td>143</td>\n",
              "      <td>143</td>\n",
              "      <td>143</td>\n",
              "      <td>143</td>\n",
              "      <td>143</td>\n",
              "      <td>143</td>\n",
              "      <td>18</td>\n",
              "      <td>44</td>\n",
              "      <td>143</td>\n",
              "      <td>143</td>\n",
              "      <td>COAD</td>\n",
              "      <td>MSS</td>\n",
              "      <td>2.156852</td>\n",
              "    </tr>\n",
              "    <tr>\n",
              "      <th>3</th>\n",
              "      <td>TCGA-5M-AAT4</td>\n",
              "      <td>246</td>\n",
              "      <td>246</td>\n",
              "      <td>246</td>\n",
              "      <td>246</td>\n",
              "      <td>246</td>\n",
              "      <td>246</td>\n",
              "      <td>246</td>\n",
              "      <td>246</td>\n",
              "      <td>246</td>\n",
              "      <td>246</td>\n",
              "      <td>246</td>\n",
              "      <td>246</td>\n",
              "      <td>246</td>\n",
              "      <td>227</td>\n",
              "      <td>50</td>\n",
              "      <td>246</td>\n",
              "      <td>246</td>\n",
              "      <td>0</td>\n",
              "      <td>0</td>\n",
              "      <td>0</td>\n",
              "      <td>0</td>\n",
              "      <td>0</td>\n",
              "      <td>0</td>\n",
              "      <td>0</td>\n",
              "      <td>0</td>\n",
              "      <td>246</td>\n",
              "      <td>0</td>\n",
              "      <td>0</td>\n",
              "      <td>0</td>\n",
              "      <td>0</td>\n",
              "      <td>0</td>\n",
              "      <td>246</td>\n",
              "      <td>246</td>\n",
              "      <td>246</td>\n",
              "      <td>240</td>\n",
              "      <td>203</td>\n",
              "      <td>205</td>\n",
              "      <td>246</td>\n",
              "      <td>225</td>\n",
              "      <td>...</td>\n",
              "      <td>11</td>\n",
              "      <td>13</td>\n",
              "      <td>13</td>\n",
              "      <td>2</td>\n",
              "      <td>0</td>\n",
              "      <td>1</td>\n",
              "      <td>0</td>\n",
              "      <td>0</td>\n",
              "      <td>0</td>\n",
              "      <td>0</td>\n",
              "      <td>246</td>\n",
              "      <td>174</td>\n",
              "      <td>246</td>\n",
              "      <td>226</td>\n",
              "      <td>8</td>\n",
              "      <td>2</td>\n",
              "      <td>246</td>\n",
              "      <td>61</td>\n",
              "      <td>61</td>\n",
              "      <td>61</td>\n",
              "      <td>61</td>\n",
              "      <td>61</td>\n",
              "      <td>61</td>\n",
              "      <td>61</td>\n",
              "      <td>61</td>\n",
              "      <td>61</td>\n",
              "      <td>0</td>\n",
              "      <td>246</td>\n",
              "      <td>246</td>\n",
              "      <td>246</td>\n",
              "      <td>246</td>\n",
              "      <td>246</td>\n",
              "      <td>246</td>\n",
              "      <td>23</td>\n",
              "      <td>44</td>\n",
              "      <td>246</td>\n",
              "      <td>246</td>\n",
              "      <td>COAD</td>\n",
              "      <td>MSS</td>\n",
              "      <td>2.391817</td>\n",
              "    </tr>\n",
              "    <tr>\n",
              "      <th>4</th>\n",
              "      <td>TCGA-5M-AAT5</td>\n",
              "      <td>126</td>\n",
              "      <td>126</td>\n",
              "      <td>126</td>\n",
              "      <td>126</td>\n",
              "      <td>126</td>\n",
              "      <td>126</td>\n",
              "      <td>126</td>\n",
              "      <td>126</td>\n",
              "      <td>126</td>\n",
              "      <td>126</td>\n",
              "      <td>126</td>\n",
              "      <td>126</td>\n",
              "      <td>126</td>\n",
              "      <td>110</td>\n",
              "      <td>32</td>\n",
              "      <td>126</td>\n",
              "      <td>126</td>\n",
              "      <td>0</td>\n",
              "      <td>0</td>\n",
              "      <td>0</td>\n",
              "      <td>0</td>\n",
              "      <td>0</td>\n",
              "      <td>0</td>\n",
              "      <td>0</td>\n",
              "      <td>0</td>\n",
              "      <td>126</td>\n",
              "      <td>0</td>\n",
              "      <td>0</td>\n",
              "      <td>0</td>\n",
              "      <td>0</td>\n",
              "      <td>0</td>\n",
              "      <td>126</td>\n",
              "      <td>126</td>\n",
              "      <td>126</td>\n",
              "      <td>124</td>\n",
              "      <td>99</td>\n",
              "      <td>99</td>\n",
              "      <td>126</td>\n",
              "      <td>120</td>\n",
              "      <td>...</td>\n",
              "      <td>13</td>\n",
              "      <td>15</td>\n",
              "      <td>15</td>\n",
              "      <td>3</td>\n",
              "      <td>0</td>\n",
              "      <td>0</td>\n",
              "      <td>0</td>\n",
              "      <td>0</td>\n",
              "      <td>0</td>\n",
              "      <td>0</td>\n",
              "      <td>126</td>\n",
              "      <td>87</td>\n",
              "      <td>126</td>\n",
              "      <td>117</td>\n",
              "      <td>1</td>\n",
              "      <td>3</td>\n",
              "      <td>126</td>\n",
              "      <td>37</td>\n",
              "      <td>37</td>\n",
              "      <td>37</td>\n",
              "      <td>37</td>\n",
              "      <td>37</td>\n",
              "      <td>37</td>\n",
              "      <td>37</td>\n",
              "      <td>37</td>\n",
              "      <td>37</td>\n",
              "      <td>0</td>\n",
              "      <td>126</td>\n",
              "      <td>126</td>\n",
              "      <td>126</td>\n",
              "      <td>126</td>\n",
              "      <td>126</td>\n",
              "      <td>126</td>\n",
              "      <td>18</td>\n",
              "      <td>30</td>\n",
              "      <td>126</td>\n",
              "      <td>126</td>\n",
              "      <td>COAD</td>\n",
              "      <td>MSI-L</td>\n",
              "      <td>2.102091</td>\n",
              "    </tr>\n",
              "    <tr>\n",
              "      <th>5</th>\n",
              "      <td>TCGA-5M-AAT6</td>\n",
              "      <td>3024</td>\n",
              "      <td>3024</td>\n",
              "      <td>3024</td>\n",
              "      <td>3024</td>\n",
              "      <td>3024</td>\n",
              "      <td>3024</td>\n",
              "      <td>3024</td>\n",
              "      <td>3024</td>\n",
              "      <td>3024</td>\n",
              "      <td>3024</td>\n",
              "      <td>3024</td>\n",
              "      <td>3024</td>\n",
              "      <td>3024</td>\n",
              "      <td>2724</td>\n",
              "      <td>702</td>\n",
              "      <td>3024</td>\n",
              "      <td>3024</td>\n",
              "      <td>0</td>\n",
              "      <td>0</td>\n",
              "      <td>0</td>\n",
              "      <td>0</td>\n",
              "      <td>0</td>\n",
              "      <td>0</td>\n",
              "      <td>0</td>\n",
              "      <td>0</td>\n",
              "      <td>3024</td>\n",
              "      <td>0</td>\n",
              "      <td>0</td>\n",
              "      <td>0</td>\n",
              "      <td>0</td>\n",
              "      <td>0</td>\n",
              "      <td>3024</td>\n",
              "      <td>3024</td>\n",
              "      <td>3024</td>\n",
              "      <td>2979</td>\n",
              "      <td>2400</td>\n",
              "      <td>2430</td>\n",
              "      <td>3024</td>\n",
              "      <td>2778</td>\n",
              "      <td>...</td>\n",
              "      <td>221</td>\n",
              "      <td>247</td>\n",
              "      <td>247</td>\n",
              "      <td>10</td>\n",
              "      <td>0</td>\n",
              "      <td>2</td>\n",
              "      <td>0</td>\n",
              "      <td>0</td>\n",
              "      <td>0</td>\n",
              "      <td>0</td>\n",
              "      <td>3024</td>\n",
              "      <td>2250</td>\n",
              "      <td>3024</td>\n",
              "      <td>2875</td>\n",
              "      <td>281</td>\n",
              "      <td>11</td>\n",
              "      <td>3024</td>\n",
              "      <td>839</td>\n",
              "      <td>839</td>\n",
              "      <td>839</td>\n",
              "      <td>839</td>\n",
              "      <td>839</td>\n",
              "      <td>839</td>\n",
              "      <td>839</td>\n",
              "      <td>839</td>\n",
              "      <td>839</td>\n",
              "      <td>0</td>\n",
              "      <td>3024</td>\n",
              "      <td>3024</td>\n",
              "      <td>3024</td>\n",
              "      <td>3024</td>\n",
              "      <td>3024</td>\n",
              "      <td>3024</td>\n",
              "      <td>311</td>\n",
              "      <td>534</td>\n",
              "      <td>3024</td>\n",
              "      <td>3024</td>\n",
              "      <td>COAD</td>\n",
              "      <td>MSI-H</td>\n",
              "      <td>3.480654</td>\n",
              "    </tr>\n",
              "  </tbody>\n",
              "</table>\n",
              "<p>5 rows × 124 columns</p>\n",
              "</div>"
            ],
            "text/plain": [
              "  bcr_patient_barcode  Hugo_Symbol  ...  msi_test_result   logmuts\n",
              "0        TCGA-3L-AA1B          179  ...              MSS  2.254064\n",
              "1        TCGA-4N-A93T          143  ...              MSS  2.156852\n",
              "3        TCGA-5M-AAT4          246  ...              MSS  2.391817\n",
              "4        TCGA-5M-AAT5          126  ...            MSI-L  2.102091\n",
              "5        TCGA-5M-AAT6         3024  ...            MSI-H  3.480654\n",
              "\n",
              "[5 rows x 124 columns]"
            ]
          },
          "metadata": {
            "tags": []
          },
          "execution_count": 43
        }
      ]
    },
    {
      "cell_type": "code",
      "metadata": {
        "id": "Ol7q1USK3eMA",
        "colab": {
          "base_uri": "https://localhost:8080/",
          "height": 280
        },
        "outputId": "f0cdb13b-7b44-472e-e1a1-cbaf9f8e43bd"
      },
      "source": [
        "import seaborn as sns\n",
        "\n",
        "ax = sns.boxplot(x='msi_test_result', y='logmuts', data=mut_msi)"
      ],
      "execution_count": null,
      "outputs": [
        {
          "output_type": "display_data",
          "data": {
            "image/png": "[encoded data removed]",
            "text/plain": [
              "<Figure size 432x288 with 1 Axes>"
            ]
          },
          "metadata": {
            "tags": [],
            "needs_background": "light"
          }
        }
      ]
    },
    {
      "cell_type": "markdown",
      "metadata": {
        "id": "zqvUvr0_AN6z"
      },
      "source": [
        "To check if the difference shown between groups is statistically significant, a Mann-Whitney U test can be performed - this is a non-parametric version of two-sample t-test suitable for long-tail count data like mutation loads. \n",
        "\n",
        "The test will be performed on 3 pairs: `MSI-H` vs `MSI-L`, `MSI-L` vs `MSS`, `MSI-H` vs `MSS`, and and statistical significance is measured based on the p-value set to p < 0.05. The built-in function used is `mannwhitneyu`, found in `scipy.stats`"
      ]
    },
    {
      "cell_type": "code",
      "metadata": {
        "id": "r6s982_e-aNc",
        "colab": {
          "base_uri": "https://localhost:8080/",
          "height": 68
        },
        "outputId": "ffd1b38d-c027-4fe9-d5ad-ee97faf92435"
      },
      "source": [
        "#===========================================================================\n",
        "# Perform Mann-Whitney U test between MSI-H vs MSI-L, MSI-L vs MSS, MSI-H vs\n",
        "# MSS, and report in which comparisons you find P value < 0.05\n",
        "# df.loc[df['column_name'] == some_value]\n",
        "\n",
        "import scipy.stats\n",
        "MSS = mut_msi.loc[mut_msi['msi_test_result'] == 'MSS']\n",
        "MSS_load = MSS['Hugo_Symbol']\n",
        "MSH = mut_msi.loc[mut_msi['msi_test_result'] == 'MSI-H']\n",
        "MSH_load = MSH['Hugo_Symbol']\n",
        "MSL = mut_msi.loc[mut_msi['msi_test_result'] == 'MSI-L']\n",
        "MSL_load = MSL['Hugo_Symbol']\n",
        "msh_vs_msl = scipy.stats.mannwhitneyu(MSH_load, MSL_load)\n",
        "msl_vs_mss = scipy.stats.mannwhitneyu(MSL_load, MSS_load)\n",
        "msh_vs_mss = scipy.stats.mannwhitneyu(MSH_load, MSS_load)\n",
        "\n",
        "print(msh_vs_msl)\n",
        "print(msl_vs_mss)\n",
        "print(msh_vs_mss)\n",
        "#==========================================================================="
      ],
      "execution_count": null,
      "outputs": [
        {
          "output_type": "stream",
          "text": [
            "MannwhitneyuResult(statistic=163.0, pvalue=2.231519308009102e-22)\n",
            "MannwhitneyuResult(statistic=7820.5, pvalue=0.0304535109602922)\n",
            "MannwhitneyuResult(statistic=539.5, pvalue=4.608445449243998e-34)\n"
          ],
          "name": "stdout"
        }
      ]
    },
    {
      "cell_type": "markdown",
      "metadata": {
        "id": "bNquxgoMLfXN"
      },
      "source": [
        "## Correlation between MSI condition and damaging mutations in MMR genes"
      ]
    },
    {
      "cell_type": "markdown",
      "metadata": {
        "id": "mexyKKhUL-KX"
      },
      "source": [
        "One of the potential cause of MSI is the impaired [DNA mismatch repair (MMR) genes](https://en.wikipedia.org/wiki/DNA_mismatch_repair). Here, investigation will be done to observe a possible a correlation between functional impacting somatic mutations in MMR genes and the MSI condition.\n",
        "\n",
        "This will be done using the MAF geneset file to identify which patients have at least one mutation with MODERATE / HIGH impact in the [15 genes involved in MMR](https://www.gsea-msigdb.org/gsea/msigdb/cards/REACTOME_MISMATCH_REPAIR.html) in human genome. "
      ]
    },
    {
      "cell_type": "code",
      "metadata": {
        "id": "q4pu3OW-PQ6E"
      },
      "source": [
        "#=============================================================================\n",
        "# Identify the patients who have at least one MODERATE or HIGH impact mutation\n",
        "# in the 15 MMR genes in the mmr_geneset.txt file\n",
        "\n",
        "mmr = [\"EXO1\",\n",
        "\"LIG1\",\n",
        "\"MLH1\",\n",
        "\"MSH2\",\n",
        "\"MSH3\",\n",
        "\"MSH6\",\n",
        "\"PCNA\",\n",
        "\"PMS2\",\n",
        "\"POLD1\",\n",
        "\"POLD2\",\n",
        "\"POLD3\",\n",
        "\"POLD4\",\n",
        "\"RPA1\",\n",
        "\"RPA2\",\n",
        "\"RPA3\"]\n",
        "#============================================================================="
      ],
      "execution_count": null,
      "outputs": []
    },
    {
      "cell_type": "code",
      "metadata": {
        "id": "D4y-COjsvC17",
        "colab": {
          "base_uri": "https://localhost:8080/",
          "height": 34
        },
        "outputId": "f8414e7a-0cd6-4bc2-ae2c-5f5eed836ecf"
      },
      "source": [
        "filt_maf = maf[(maf.FILTER == \"PASS\") & ((maf.IMPACT == \"MODERATE\") | (maf.IMPACT == \"HIGH\"))]\n",
        "\n",
        "print(\"{} out of {} mutations passed the filtering criteria, {:.2f}%\".format(\n",
        "    len(filt_maf), len(maf), 100 * len(filt_maf) / len(maf)))"
      ],
      "execution_count": null,
      "outputs": [
        {
          "output_type": "stream",
          "text": [
            "156782 out of 264786 mutations passed the filtering criteria, 59.21%\n"
          ],
          "name": "stdout"
        }
      ]
    },
    {
      "cell_type": "code",
      "metadata": {
        "id": "jx1QLMTevm_Z",
        "colab": {
          "base_uri": "https://localhost:8080/",
          "height": 34
        },
        "outputId": "6b3f1595-749c-40c0-95fb-c076d7af5f8a"
      },
      "source": [
        "mutation_frequency = filt_maf.groupby(\"Hugo_Symbol\")[\"bcr_patient_barcode\"].nunique().reset_index()\n",
        "\n",
        "mf_mmr_samples = filt_maf.loc[filt_maf.Hugo_Symbol.isin(mmr)].Tumor_Sample_Barcode.unique()\n",
        "\n",
        "mf_mmr_samples.shape"
      ],
      "execution_count": null,
      "outputs": [
        {
          "output_type": "execute_result",
          "data": {
            "text/plain": [
              "(75,)"
            ]
          },
          "metadata": {
            "tags": []
          },
          "execution_count": 119
        }
      ]
    },
    {
      "cell_type": "code",
      "metadata": {
        "id": "rHp4p0_wZfJs",
        "colab": {
          "base_uri": "https://localhost:8080/",
          "height": 419
        },
        "outputId": "77771aaf-7fea-4d21-9a20-fc9b6019a66b"
      },
      "source": [
        ""
      ],
      "execution_count": null,
      "outputs": [
        {
          "output_type": "execute_result",
          "data": {
            "text/html": [
              "<div>\n",
              "<style scoped>\n",
              "    .dataframe tbody tr th:only-of-type {\n",
              "        vertical-align: middle;\n",
              "    }\n",
              "\n",
              "    .dataframe tbody tr th {\n",
              "        vertical-align: top;\n",
              "    }\n",
              "\n",
              "    .dataframe thead th {\n",
              "        text-align: right;\n",
              "    }\n",
              "</style>\n",
              "<table border=\"1\" class=\"dataframe\">\n",
              "  <thead>\n",
              "    <tr style=\"text-align: right;\">\n",
              "      <th></th>\n",
              "      <th>Hugo_Symbol</th>\n",
              "      <th>Tumor_Sample_Barcode</th>\n",
              "    </tr>\n",
              "  </thead>\n",
              "  <tbody>\n",
              "    <tr>\n",
              "      <th>0</th>\n",
              "      <td>A1BG</td>\n",
              "      <td>7</td>\n",
              "    </tr>\n",
              "    <tr>\n",
              "      <th>1</th>\n",
              "      <td>A1CF</td>\n",
              "      <td>8</td>\n",
              "    </tr>\n",
              "    <tr>\n",
              "      <th>2</th>\n",
              "      <td>A2M</td>\n",
              "      <td>20</td>\n",
              "    </tr>\n",
              "    <tr>\n",
              "      <th>3</th>\n",
              "      <td>A2ML1</td>\n",
              "      <td>34</td>\n",
              "    </tr>\n",
              "    <tr>\n",
              "      <th>4</th>\n",
              "      <td>A3GALT2</td>\n",
              "      <td>6</td>\n",
              "    </tr>\n",
              "    <tr>\n",
              "      <th>...</th>\n",
              "      <td>...</td>\n",
              "      <td>...</td>\n",
              "    </tr>\n",
              "    <tr>\n",
              "      <th>17942</th>\n",
              "      <td>ZYG11B</td>\n",
              "      <td>11</td>\n",
              "    </tr>\n",
              "    <tr>\n",
              "      <th>17943</th>\n",
              "      <td>ZYX</td>\n",
              "      <td>4</td>\n",
              "    </tr>\n",
              "    <tr>\n",
              "      <th>17944</th>\n",
              "      <td>ZZEF1</td>\n",
              "      <td>24</td>\n",
              "    </tr>\n",
              "    <tr>\n",
              "      <th>17945</th>\n",
              "      <td>ZZZ3</td>\n",
              "      <td>11</td>\n",
              "    </tr>\n",
              "    <tr>\n",
              "      <th>17946</th>\n",
              "      <td>pk</td>\n",
              "      <td>7</td>\n",
              "    </tr>\n",
              "  </tbody>\n",
              "</table>\n",
              "<p>17947 rows × 2 columns</p>\n",
              "</div>"
            ],
            "text/plain": [
              "      Hugo_Symbol  Tumor_Sample_Barcode\n",
              "0            A1BG                     7\n",
              "1            A1CF                     8\n",
              "2             A2M                    20\n",
              "3           A2ML1                    34\n",
              "4         A3GALT2                     6\n",
              "...           ...                   ...\n",
              "17942      ZYG11B                    11\n",
              "17943         ZYX                     4\n",
              "17944       ZZEF1                    24\n",
              "17945        ZZZ3                    11\n",
              "17946          pk                     7\n",
              "\n",
              "[17947 rows x 2 columns]"
            ]
          },
          "metadata": {
            "tags": []
          },
          "execution_count": 100
        }
      ]
    },
    {
      "cell_type": "code",
      "metadata": {
        "id": "WrBcIUEkzv50",
        "colab": {
          "base_uri": "https://localhost:8080/",
          "height": 34
        },
        "outputId": "aa9a46b4-417d-4990-c075-af05eb6a5fcb"
      },
      "source": [
        "filt_maf2 = maf[((maf.IMPACT == \"MODERATE\") | (maf.IMPACT == \"HIGH\"))]\n",
        "\n",
        "print(\"{} out of {} mutations passed the filtering criteria, {:.2f}%\".format(\n",
        "    len(filt_maf2), len(maf), 100 * len(filt_maf2) / len(maf)))"
      ],
      "execution_count": null,
      "outputs": [
        {
          "output_type": "stream",
          "text": [
            "167303 out of 264786 mutations passed the filtering criteria, 63.18%\n"
          ],
          "name": "stdout"
        }
      ]
    },
    {
      "cell_type": "code",
      "metadata": {
        "id": "Z0pSw7TfzxW4",
        "colab": {
          "base_uri": "https://localhost:8080/",
          "height": 51
        },
        "outputId": "5e2d1706-0d12-44a4-c1d8-17db4d8d68da"
      },
      "source": [
        "mutation_frequency2 = filt_maf2.groupby(\"Hugo_Symbol\")[\"bcr_patient_barcode\"].nunique().reset_index()\n",
        "\n",
        "mf_mmr_samples2 = filt_maf2.loc[filt_maf2.Hugo_Symbol.isin(mmr)].bcr_patient_barcode.unique()\n",
        "print(mf_mmr_samples2.shape)\n",
        "\n",
        "filt_maf2 = filt_maf2[filt_maf2['bcr_patient_barcode'].isin(mf_mmr_samples2)]\n",
        "fil_maf2_grouped = filt_maf2.groupby('bcr_patient_barcode').count()\n",
        "fil_maf2_grouped.shape #confirm that there are 77 unique patients"
      ],
      "execution_count": null,
      "outputs": [
        {
          "output_type": "stream",
          "text": [
            "(77,)\n"
          ],
          "name": "stdout"
        },
        {
          "output_type": "execute_result",
          "data": {
            "text/plain": [
              "(77, 120)"
            ]
          },
          "metadata": {
            "tags": []
          },
          "execution_count": 135
        }
      ]
    },
    {
      "cell_type": "markdown",
      "metadata": {
        "id": "CegoRw1_R1t9"
      },
      "source": [
        "### Answer the following questions"
      ]
    },
    {
      "cell_type": "markdown",
      "metadata": {
        "id": "u7N8HGBfPn23"
      },
      "source": [
        "Evaluating association between mutations in MMR genes and MSI condition. The process will consist of:\n",
        "\n",
        "\n",
        "1.   Creating a COUNT table (containing MSI groups and normal/mutation annotation, each entry a patient count).\n",
        "2.   Performing a chi-square test to calculate significance of any association.\n",
        "\n"
      ]
    },
    {
      "cell_type": "code",
      "metadata": {
        "id": "MKWyuGr6Syqp",
        "colab": {
          "base_uri": "https://localhost:8080/",
          "height": 153
        },
        "outputId": "35ca9bc0-96d2-4348-a205-8e52f250dd8c"
      },
      "source": [
        "#============================================================================\n",
        "# Create a count table containing patient count in each pair of MSI condition\n",
        "# vs MMR mutation status\n",
        "\n",
        "# I believe it will look like:\n",
        "#            MMR mut     MMR norm\n",
        "#   MSI-H       50       71    \n",
        "#   MSI-L       8        72    \n",
        "#   MSS         19       254 \n",
        "\n",
        "# Find the MMR mutated and ignoring the PASS filter (thus 77 total)\n",
        "filt_msi_mmr = maf[((maf.IMPACT == \"MODERATE\") | (maf.IMPACT == \"HIGH\"))]\n",
        "mf_mmr_samples2 = filt_msi_mmr.loc[filt_msi_mmr.Hugo_Symbol.isin(mmr)].bcr_patient_barcode.unique()\n",
        "fmm_filt = filt_msi_mmr[filt_msi_mmr[\"bcr_patient_barcode\"].isin(mf_mmr_samples2)]\n",
        "fil_msimmr_grouped = fmm_filt.groupby('bcr_patient_barcode', as_index=False).count()\n",
        "filt_maf_msi = fil_msimmr_grouped.merge(msi, on=\"bcr_patient_barcode\")\n",
        "fmm_msi_group = filt_maf_msi.groupby(\"msi_test_result\").count()\n",
        "\n",
        "\n",
        "\n",
        "# # Find the MMR normals, ignoring indeterminates and the PASS filter\n",
        "filt_maf_norm = maf[((maf.IMPACT != \"MODERATE\") | (maf.IMPACT != \"HIGH\"))]\n",
        "print(filt_maf_norm.shape)\n",
        "fil_msimmr_notIn = filt_maf_norm.groupby('bcr_patient_barcode', as_index=False).count()\n",
        "print(fil_msimmr_notIn.shape)\n",
        "filt_norm_msi = fil_msimmr_notIn.merge(msi, on=\"bcr_patient_barcode\")\n",
        "fmN_grouped_norm = filt_norm_msi.groupby(\"msi_test_result\").count()\n",
        "\n",
        "\n",
        "obs = np.array([[50, 71], [8, 72], [19, 254]])\n",
        "\n",
        "scipy.stats.chi2_contingency(obs)\n",
        "#============================================================================"
      ],
      "execution_count": null,
      "outputs": [
        {
          "output_type": "stream",
          "text": [
            "(264786, 121)\n",
            "(399, 121)\n"
          ],
          "name": "stdout"
        },
        {
          "output_type": "execute_result",
          "data": {
            "text/plain": [
              "(75.51964240470778,\n",
              " 3.991333471871853e-17,\n",
              " 2,\n",
              " array([[ 19.65611814, 101.34388186],\n",
              "        [ 12.99578059,  67.00421941],\n",
              "        [ 44.34810127, 228.65189873]]))"
            ]
          },
          "metadata": {
            "tags": []
          },
          "execution_count": 168
        }
      ]
    }
  ]
}