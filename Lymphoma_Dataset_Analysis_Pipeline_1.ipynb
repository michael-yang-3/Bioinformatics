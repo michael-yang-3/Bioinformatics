{
  "nbformat": 4,
  "nbformat_minor": 0,
  "metadata": {
    "colab": {
      "name": "Lymphoma Dataset Analysis Pipeline 1",
      "provenance": [],
      "collapsed_sections": []
    },
    "kernelspec": {
      "name": "python3",
      "display_name": "Python 3"
    }
  },
  "cells": [
    {
      "cell_type": "code",
      "metadata": {
        "cellView": "form",
        "id": "GztdoSJiAqF1",
        "outputId": "907a432b-95e0-4b6e-eb09-9e76e4ad5ec5",
        "colab": {
          "base_uri": "https://localhost:8080/"
        }
      },
      "source": [
        "#@title Install prerequisite, this will take a while\n",
        "# Install prerequisite, no need to run this if you are running the notebook from\n",
        "# your laptop and you already install the packages in Anaconda \n",
        "\n",
        "!pip install biopython\n",
        "!pip install ipytree\n",
        "!pip install scikit-allel\n",
        "!pip install zarr\n",
        "\n",
        "# install mafft commandline\n",
        "!wget https://mafft.cbrc.jp/alignment/software/mafft_7.471-1_amd64.deb\n",
        "!sudo dpkg -i mafft_7.471-1_amd64.deb\n",
        "#!wget https://mafft.cbrc.jp/alignment/software/mafft-7.471-linux.tgz\n",
        "#!tar -zxvf mafft-7.471-linux.tgz\n",
        "#!ln -s $(pwd)/mafft-linux64/mafftdir/bin/mafft /bin/mafft"
      ],
      "execution_count": null,
      "outputs": [
        {
          "output_type": "stream",
          "text": [
            "Collecting biopython\n",
            "\u001b[?25l  Downloading https://files.pythonhosted.org/packages/76/02/8b606c4aa92ff61b5eda71d23b499ab1de57d5e818be33f77b01a6f435a8/biopython-1.78-cp36-cp36m-manylinux1_x86_64.whl (2.3MB)\n",
            "\u001b[K     |████████████████████████████████| 2.3MB 2.8MB/s \n",
            "\u001b[?25hRequirement already satisfied: numpy in /usr/local/lib/python3.6/dist-packages (from biopython) (1.18.5)\n",
            "Installing collected packages: biopython\n",
            "Successfully installed biopython-1.78\n",
            "Collecting ipytree\n",
            "\u001b[?25l  Downloading https://files.pythonhosted.org/packages/36/2f/f93092e485afc384b4cc39f17ff1cb252380a3745bb4a7e2f6e488e3d0c4/ipytree-0.1.8-py2.py3-none-any.whl (1.1MB)\n",
            "\u001b[K     |████████████████████████████████| 1.1MB 2.8MB/s \n",
            "\u001b[?25hRequirement already satisfied: ipywidgets<8,>=7.5.0 in /usr/local/lib/python3.6/dist-packages (from ipytree) (7.5.1)\n",
            "Requirement already satisfied: ipython>=4.0.0; python_version >= \"3.3\" in /usr/local/lib/python3.6/dist-packages (from ipywidgets<8,>=7.5.0->ipytree) (5.5.0)\n",
            "Requirement already satisfied: traitlets>=4.3.1 in /usr/local/lib/python3.6/dist-packages (from ipywidgets<8,>=7.5.0->ipytree) (4.3.3)\n",
            "Requirement already satisfied: ipykernel>=4.5.1 in /usr/local/lib/python3.6/dist-packages (from ipywidgets<8,>=7.5.0->ipytree) (4.10.1)\n",
            "Requirement already satisfied: nbformat>=4.2.0 in /usr/local/lib/python3.6/dist-packages (from ipywidgets<8,>=7.5.0->ipytree) (5.0.8)\n",
            "Requirement already satisfied: widgetsnbextension~=3.5.0 in /usr/local/lib/python3.6/dist-packages (from ipywidgets<8,>=7.5.0->ipytree) (3.5.1)\n",
            "Requirement already satisfied: simplegeneric>0.8 in /usr/local/lib/python3.6/dist-packages (from ipython>=4.0.0; python_version >= \"3.3\"->ipywidgets<8,>=7.5.0->ipytree) (0.8.1)\n",
            "Requirement already satisfied: pygments in /usr/local/lib/python3.6/dist-packages (from ipython>=4.0.0; python_version >= \"3.3\"->ipywidgets<8,>=7.5.0->ipytree) (2.6.1)\n",
            "Requirement already satisfied: pexpect; sys_platform != \"win32\" in /usr/local/lib/python3.6/dist-packages (from ipython>=4.0.0; python_version >= \"3.3\"->ipywidgets<8,>=7.5.0->ipytree) (4.8.0)\n",
            "Requirement already satisfied: prompt-toolkit<2.0.0,>=1.0.4 in /usr/local/lib/python3.6/dist-packages (from ipython>=4.0.0; python_version >= \"3.3\"->ipywidgets<8,>=7.5.0->ipytree) (1.0.18)\n",
            "Requirement already satisfied: decorator in /usr/local/lib/python3.6/dist-packages (from ipython>=4.0.0; python_version >= \"3.3\"->ipywidgets<8,>=7.5.0->ipytree) (4.4.2)\n",
            "Requirement already satisfied: setuptools>=18.5 in /usr/local/lib/python3.6/dist-packages (from ipython>=4.0.0; python_version >= \"3.3\"->ipywidgets<8,>=7.5.0->ipytree) (50.3.2)\n",
            "Requirement already satisfied: pickleshare in /usr/local/lib/python3.6/dist-packages (from ipython>=4.0.0; python_version >= \"3.3\"->ipywidgets<8,>=7.5.0->ipytree) (0.7.5)\n",
            "Requirement already satisfied: six in /usr/local/lib/python3.6/dist-packages (from traitlets>=4.3.1->ipywidgets<8,>=7.5.0->ipytree) (1.15.0)\n",
            "Requirement already satisfied: ipython-genutils in /usr/local/lib/python3.6/dist-packages (from traitlets>=4.3.1->ipywidgets<8,>=7.5.0->ipytree) (0.2.0)\n",
            "Requirement already satisfied: tornado>=4.0 in /usr/local/lib/python3.6/dist-packages (from ipykernel>=4.5.1->ipywidgets<8,>=7.5.0->ipytree) (5.1.1)\n",
            "Requirement already satisfied: jupyter-client in /usr/local/lib/python3.6/dist-packages (from ipykernel>=4.5.1->ipywidgets<8,>=7.5.0->ipytree) (5.3.5)\n",
            "Requirement already satisfied: jsonschema!=2.5.0,>=2.4 in /usr/local/lib/python3.6/dist-packages (from nbformat>=4.2.0->ipywidgets<8,>=7.5.0->ipytree) (2.6.0)\n",
            "Requirement already satisfied: jupyter-core in /usr/local/lib/python3.6/dist-packages (from nbformat>=4.2.0->ipywidgets<8,>=7.5.0->ipytree) (4.6.3)\n",
            "Requirement already satisfied: notebook>=4.4.1 in /usr/local/lib/python3.6/dist-packages (from widgetsnbextension~=3.5.0->ipywidgets<8,>=7.5.0->ipytree) (5.3.1)\n",
            "Requirement already satisfied: ptyprocess>=0.5 in /usr/local/lib/python3.6/dist-packages (from pexpect; sys_platform != \"win32\"->ipython>=4.0.0; python_version >= \"3.3\"->ipywidgets<8,>=7.5.0->ipytree) (0.6.0)\n",
            "Requirement already satisfied: wcwidth in /usr/local/lib/python3.6/dist-packages (from prompt-toolkit<2.0.0,>=1.0.4->ipython>=4.0.0; python_version >= \"3.3\"->ipywidgets<8,>=7.5.0->ipytree) (0.2.5)\n",
            "Requirement already satisfied: python-dateutil>=2.1 in /usr/local/lib/python3.6/dist-packages (from jupyter-client->ipykernel>=4.5.1->ipywidgets<8,>=7.5.0->ipytree) (2.8.1)\n",
            "Requirement already satisfied: pyzmq>=13 in /usr/local/lib/python3.6/dist-packages (from jupyter-client->ipykernel>=4.5.1->ipywidgets<8,>=7.5.0->ipytree) (19.0.2)\n",
            "Requirement already satisfied: jinja2 in /usr/local/lib/python3.6/dist-packages (from notebook>=4.4.1->widgetsnbextension~=3.5.0->ipywidgets<8,>=7.5.0->ipytree) (2.11.2)\n",
            "Requirement already satisfied: terminado>=0.8.1 in /usr/local/lib/python3.6/dist-packages (from notebook>=4.4.1->widgetsnbextension~=3.5.0->ipywidgets<8,>=7.5.0->ipytree) (0.9.1)\n",
            "Requirement already satisfied: nbconvert in /usr/local/lib/python3.6/dist-packages (from notebook>=4.4.1->widgetsnbextension~=3.5.0->ipywidgets<8,>=7.5.0->ipytree) (5.6.1)\n",
            "Requirement already satisfied: Send2Trash in /usr/local/lib/python3.6/dist-packages (from notebook>=4.4.1->widgetsnbextension~=3.5.0->ipywidgets<8,>=7.5.0->ipytree) (1.5.0)\n",
            "Requirement already satisfied: MarkupSafe>=0.23 in /usr/local/lib/python3.6/dist-packages (from jinja2->notebook>=4.4.1->widgetsnbextension~=3.5.0->ipywidgets<8,>=7.5.0->ipytree) (1.1.1)\n",
            "Requirement already satisfied: testpath in /usr/local/lib/python3.6/dist-packages (from nbconvert->notebook>=4.4.1->widgetsnbextension~=3.5.0->ipywidgets<8,>=7.5.0->ipytree) (0.4.4)\n",
            "Requirement already satisfied: pandocfilters>=1.4.1 in /usr/local/lib/python3.6/dist-packages (from nbconvert->notebook>=4.4.1->widgetsnbextension~=3.5.0->ipywidgets<8,>=7.5.0->ipytree) (1.4.2)\n",
            "Requirement already satisfied: defusedxml in /usr/local/lib/python3.6/dist-packages (from nbconvert->notebook>=4.4.1->widgetsnbextension~=3.5.0->ipywidgets<8,>=7.5.0->ipytree) (0.6.0)\n",
            "Requirement already satisfied: mistune<2,>=0.8.1 in /usr/local/lib/python3.6/dist-packages (from nbconvert->notebook>=4.4.1->widgetsnbextension~=3.5.0->ipywidgets<8,>=7.5.0->ipytree) (0.8.4)\n",
            "Requirement already satisfied: entrypoints>=0.2.2 in /usr/local/lib/python3.6/dist-packages (from nbconvert->notebook>=4.4.1->widgetsnbextension~=3.5.0->ipywidgets<8,>=7.5.0->ipytree) (0.3)\n",
            "Requirement already satisfied: bleach in /usr/local/lib/python3.6/dist-packages (from nbconvert->notebook>=4.4.1->widgetsnbextension~=3.5.0->ipywidgets<8,>=7.5.0->ipytree) (3.2.1)\n",
            "Requirement already satisfied: webencodings in /usr/local/lib/python3.6/dist-packages (from bleach->nbconvert->notebook>=4.4.1->widgetsnbextension~=3.5.0->ipywidgets<8,>=7.5.0->ipytree) (0.5.1)\n",
            "Requirement already satisfied: packaging in /usr/local/lib/python3.6/dist-packages (from bleach->nbconvert->notebook>=4.4.1->widgetsnbextension~=3.5.0->ipywidgets<8,>=7.5.0->ipytree) (20.4)\n",
            "Requirement already satisfied: pyparsing>=2.0.2 in /usr/local/lib/python3.6/dist-packages (from packaging->bleach->nbconvert->notebook>=4.4.1->widgetsnbextension~=3.5.0->ipywidgets<8,>=7.5.0->ipytree) (2.4.7)\n",
            "Installing collected packages: ipytree\n",
            "Successfully installed ipytree-0.1.8\n",
            "Collecting scikit-allel\n",
            "\u001b[?25l  Downloading https://files.pythonhosted.org/packages/53/7a/88e1eaab6e120f9aab5d316d5204a99a33456f902de504e0d446a84f1891/scikit-allel-1.3.2.tar.gz (10.8MB)\n",
            "\u001b[K     |████████████████████████████████| 10.8MB 2.3MB/s \n",
            "\u001b[?25hRequirement already satisfied: cython in /usr/local/lib/python3.6/dist-packages (from scikit-allel) (0.29.21)\n",
            "Requirement already satisfied: numpy in /usr/local/lib/python3.6/dist-packages (from scikit-allel) (1.18.5)\n",
            "Requirement already satisfied: dask[array] in /usr/local/lib/python3.6/dist-packages (from scikit-allel) (2.12.0)\n",
            "Requirement already satisfied: toolz>=0.7.3; extra == \"array\" in /usr/local/lib/python3.6/dist-packages (from dask[array]->scikit-allel) (0.11.1)\n",
            "Building wheels for collected packages: scikit-allel\n",
            "  Building wheel for scikit-allel (setup.py) ... \u001b[?25l\u001b[?25hdone\n",
            "  Created wheel for scikit-allel: filename=scikit_allel-1.3.2-cp36-cp36m-linux_x86_64.whl size=4708359 sha256=d90956a5c7b6c4f233abf3774e6036c496eebe5266e9c0909cfe1968cdea4736\n",
            "  Stored in directory: /root/.cache/pip/wheels/f7/25/d0/32ddaaccfe4b1c20e701fad83533a13ff0c4b9809baa99d4bf\n",
            "Successfully built scikit-allel\n",
            "Installing collected packages: scikit-allel\n",
            "Successfully installed scikit-allel-1.3.2\n",
            "Collecting zarr\n",
            "\u001b[?25l  Downloading https://files.pythonhosted.org/packages/22/17/37cc7afabdec7b5759d68fab0bc5afd950799a4ce2189826caf5ee087414/zarr-2.5.0-py3-none-any.whl (131kB)\n",
            "\u001b[K     |████████████████████████████████| 133kB 2.8MB/s \n",
            "\u001b[?25hCollecting fasteners\n",
            "  Downloading https://files.pythonhosted.org/packages/18/bd/55eb2d6397b9c0e263af9d091ebdb756b15756029b3cededf6461481bc63/fasteners-0.15-py2.py3-none-any.whl\n",
            "Collecting asciitree\n",
            "  Downloading https://files.pythonhosted.org/packages/2d/6a/885bc91484e1aa8f618f6f0228d76d0e67000b0fdd6090673b777e311913/asciitree-0.3.3.tar.gz\n",
            "Collecting numcodecs>=0.6.4\n",
            "\u001b[?25l  Downloading https://files.pythonhosted.org/packages/94/dc/0b7ae820c6c5f3a8b79912ec43dd9a1305e33970a05d3c02a1e8203ead9c/numcodecs-0.7.2-cp36-cp36m-manylinux2010_x86_64.whl (5.8MB)\n",
            "\u001b[K     |████████████████████████████████| 5.8MB 6.9MB/s \n",
            "\u001b[?25hRequirement already satisfied: numpy>=1.7 in /usr/local/lib/python3.6/dist-packages (from zarr) (1.18.5)\n",
            "Requirement already satisfied: six in /usr/local/lib/python3.6/dist-packages (from fasteners->zarr) (1.15.0)\n",
            "Collecting monotonic>=0.1\n",
            "  Downloading https://files.pythonhosted.org/packages/ac/aa/063eca6a416f397bd99552c534c6d11d57f58f2e94c14780f3bbf818c4cf/monotonic-1.5-py2.py3-none-any.whl\n",
            "Building wheels for collected packages: asciitree\n",
            "  Building wheel for asciitree (setup.py) ... \u001b[?25l\u001b[?25hdone\n",
            "  Created wheel for asciitree: filename=asciitree-0.3.3-cp36-none-any.whl size=5037 sha256=b371ecb2d9529ff6838bfcfebfa939afacfa1ce1968869465e20b29a9f621cd5\n",
            "  Stored in directory: /root/.cache/pip/wheels/1d/d9/58/9808b306744df0208fccc640d3d9952a5bc7468502d42897d5\n",
            "Successfully built asciitree\n",
            "Installing collected packages: monotonic, fasteners, asciitree, numcodecs, zarr\n",
            "Successfully installed asciitree-0.3.3 fasteners-0.15 monotonic-1.5 numcodecs-0.7.2 zarr-2.5.0\n",
            "--2020-11-01 00:30:33--  https://mafft.cbrc.jp/alignment/software/mafft_7.471-1_amd64.deb\n",
            "Resolving mafft.cbrc.jp (mafft.cbrc.jp)... 133.1.49.95\n",
            "Connecting to mafft.cbrc.jp (mafft.cbrc.jp)|133.1.49.95|:443... connected.\n",
            "HTTP request sent, awaiting response... 200 OK\n",
            "Length: 3635234 (3.5M)\n",
            "Saving to: ‘mafft_7.471-1_amd64.deb’\n",
            "\n",
            "mafft_7.471-1_amd64 100%[===================>]   3.47M  2.60MB/s    in 1.3s    \n",
            "\n",
            "2020-11-01 00:30:36 (2.60 MB/s) - ‘mafft_7.471-1_amd64.deb’ saved [3635234/3635234]\n",
            "\n",
            "Selecting previously unselected package mafft.\n",
            "(Reading database ... 144628 files and directories currently installed.)\n",
            "Preparing to unpack mafft_7.471-1_amd64.deb ...\n",
            "Unpacking mafft (7.471-1) ...\n",
            "Setting up mafft (7.471-1) ...\n",
            "Processing triggers for man-db (2.8.3-2ubuntu0.1) ...\n"
          ],
          "name": "stdout"
        }
      ]
    },
    {
      "cell_type": "code",
      "metadata": {
        "cellView": "form",
        "id": "4_mQlXl4BnDA",
        "outputId": "478584ac-8e6c-4073-ee6b-f59ccd60cd02",
        "colab": {
          "base_uri": "https://localhost:8080/"
        }
      },
      "source": [
        "#@title Mount Google Drive (You don't need to run this if you are running notebooks on your laptop)\n",
        "\n",
        "from google.colab import drive\n",
        "\n",
        "# The following command will prompt a URL for you to click and obtain the\n",
        "# authorization code\n",
        "\n",
        "drive.mount(\"/content/drive\")\n"
      ],
      "execution_count": null,
      "outputs": [
        {
          "output_type": "stream",
          "text": [
            "Mounted at /content/drive\n"
          ],
          "name": "stdout"
        }
      ]
    },
    {
      "cell_type": "code",
      "metadata": {
        "id": "QQD4mkx-CCmA"
      },
      "source": [
        "# Set up data folder\n",
        "from pathlib import Path\n",
        "\n",
        "# Change this to where you put your project files\n",
        "DATA = Path(\"/content/drive/My Drive/Colab Notebooks/\")"
      ],
      "execution_count": null,
      "outputs": []
    },
    {
      "cell_type": "code",
      "metadata": {
        "id": "t9A4SL5klhK5",
        "outputId": "fc9d57ce-503b-4b27-b06a-9ba690e300d1",
        "colab": {
          "base_uri": "https://localhost:8080/",
          "height": 258
        }
      },
      "source": [
        "# change the filename parameter to where you download the vcf.gz file\n",
        "clinvar_file = \"clinvar_20190909.vcf.gz\"\n",
        "\n",
        "#==========================\n",
        "# Your code here\n",
        "# Load the clinvar vcf file\n",
        "#==========================\n",
        "import gzip\n",
        "import pandas as pd\n",
        "\n",
        "def get_vcfvep_header(filename):\n",
        "    with gzip.open(filename, \"rb\") as fi:\n",
        "        for l in fi:\n",
        "            l = l.decode(\"utf-8\")\n",
        "            if l.startswith(\"##\"):\n",
        "                continue\n",
        "            elif l.startswith(\"#\"):\n",
        "                return l[1:].strip().split(\"\\t\")\n",
        "            else:\n",
        "                raise ValueError(\"Something wrong in the VEP file!\")\n",
        "\n",
        "vcf_header = get_vcfvep_header(DATA / clinvar_file)\n",
        "clinvar = pd.read_csv(DATA / clinvar_file, comment=\"#\", sep=\"\\t\")\n",
        "# make sure the CHROM column is str instead of int\n",
        "clinvar.columns = vcf_header\n",
        "clinvar[\"CHROM\"] = clinvar.CHROM.astype(str)\n",
        "clinvar.head()"
      ],
      "execution_count": null,
      "outputs": [
        {
          "output_type": "stream",
          "text": [
            "/usr/local/lib/python3.6/dist-packages/IPython/core/interactiveshell.py:2718: DtypeWarning: Columns (0) have mixed types.Specify dtype option on import or set low_memory=False.\n",
            "  interactivity=interactivity, compiler=compiler, result=result)\n"
          ],
          "name": "stderr"
        },
        {
          "output_type": "execute_result",
          "data": {
            "text/html": [
              "<div>\n",
              "<style scoped>\n",
              "    .dataframe tbody tr th:only-of-type {\n",
              "        vertical-align: middle;\n",
              "    }\n",
              "\n",
              "    .dataframe tbody tr th {\n",
              "        vertical-align: top;\n",
              "    }\n",
              "\n",
              "    .dataframe thead th {\n",
              "        text-align: right;\n",
              "    }\n",
              "</style>\n",
              "<table border=\"1\" class=\"dataframe\">\n",
              "  <thead>\n",
              "    <tr style=\"text-align: right;\">\n",
              "      <th></th>\n",
              "      <th>CHROM</th>\n",
              "      <th>POS</th>\n",
              "      <th>ID</th>\n",
              "      <th>REF</th>\n",
              "      <th>ALT</th>\n",
              "      <th>QUAL</th>\n",
              "      <th>FILTER</th>\n",
              "      <th>INFO</th>\n",
              "    </tr>\n",
              "  </thead>\n",
              "  <tbody>\n",
              "    <tr>\n",
              "      <th>0</th>\n",
              "      <td>1</td>\n",
              "      <td>949422</td>\n",
              "      <td>475283</td>\n",
              "      <td>G</td>\n",
              "      <td>A</td>\n",
              "      <td>.</td>\n",
              "      <td>.</td>\n",
              "      <td>AF_ESP=0.00546;AF_EXAC=0.00165;AF_TGP=0.00619;...</td>\n",
              "    </tr>\n",
              "    <tr>\n",
              "      <th>1</th>\n",
              "      <td>1</td>\n",
              "      <td>949427</td>\n",
              "      <td>639487</td>\n",
              "      <td>A</td>\n",
              "      <td>G</td>\n",
              "      <td>.</td>\n",
              "      <td>.</td>\n",
              "      <td>ALLELEID=626469;CLNDISDB=MedGen:C4015293,OMIM:...</td>\n",
              "    </tr>\n",
              "    <tr>\n",
              "      <th>2</th>\n",
              "      <td>1</td>\n",
              "      <td>949491</td>\n",
              "      <td>659187</td>\n",
              "      <td>G</td>\n",
              "      <td>A</td>\n",
              "      <td>.</td>\n",
              "      <td>.</td>\n",
              "      <td>ALLELEID=626470;CLNDISDB=MedGen:C4015293,OMIM:...</td>\n",
              "    </tr>\n",
              "    <tr>\n",
              "      <th>3</th>\n",
              "      <td>1</td>\n",
              "      <td>949502</td>\n",
              "      <td>542074</td>\n",
              "      <td>C</td>\n",
              "      <td>T</td>\n",
              "      <td>.</td>\n",
              "      <td>.</td>\n",
              "      <td>AF_ESP=0.00015;AF_EXAC=0.00010;ALLELEID=514926...</td>\n",
              "    </tr>\n",
              "    <tr>\n",
              "      <th>4</th>\n",
              "      <td>1</td>\n",
              "      <td>949518</td>\n",
              "      <td>652606</td>\n",
              "      <td>C</td>\n",
              "      <td>T</td>\n",
              "      <td>.</td>\n",
              "      <td>.</td>\n",
              "      <td>ALLELEID=626471;CLNDISDB=MedGen:C4015293,OMIM:...</td>\n",
              "    </tr>\n",
              "  </tbody>\n",
              "</table>\n",
              "</div>"
            ],
            "text/plain": [
              "  CHROM     POS  ...  FILTER                                               INFO\n",
              "0     1  949422  ...       .  AF_ESP=0.00546;AF_EXAC=0.00165;AF_TGP=0.00619;...\n",
              "1     1  949427  ...       .  ALLELEID=626469;CLNDISDB=MedGen:C4015293,OMIM:...\n",
              "2     1  949491  ...       .  ALLELEID=626470;CLNDISDB=MedGen:C4015293,OMIM:...\n",
              "3     1  949502  ...       .  AF_ESP=0.00015;AF_EXAC=0.00010;ALLELEID=514926...\n",
              "4     1  949518  ...       .  ALLELEID=626471;CLNDISDB=MedGen:C4015293,OMIM:...\n",
              "\n",
              "[5 rows x 8 columns]"
            ]
          },
          "metadata": {
            "tags": []
          },
          "execution_count": 32
        }
      ]
    },
    {
      "cell_type": "code",
      "metadata": {
        "id": "1cVM-YEdx07_",
        "outputId": "9d8370b4-247d-4f66-b84e-cb939bd1d637",
        "colab": {
          "base_uri": "https://localhost:8080/"
        }
      },
      "source": [
        "pd.set_option('display.max_colwidth',1000)\n",
        "clinvar[\"INFO\"]"
      ],
      "execution_count": null,
      "outputs": [
        {
          "output_type": "execute_result",
          "data": {
            "text/plain": [
              "0          AF_ESP=0.00546;AF_EXAC=0.00165;AF_TGP=0.00619;ALLELEID=446939;CLNDISDB=MedGen:C4015293,OMIM:616126,Orphanet:ORPHA319563;CLNDN=Immunodeficiency_38_with_basal_ganglia_calcification;CLNHGVS=NC_000001.10:g.949422G>A;CLNREVSTAT=criteria_provided,_single_submitter;CLNSIG=Benign;CLNVC=single_nucleotide_variant;CLNVCSO=SO:0001483;GENEINFO=ISG15:9636;MC=SO:0001583|missense_variant;ORIGIN=1;RS=143888043\n",
              "1                                                     ALLELEID=626469;CLNDISDB=MedGen:C4015293,OMIM:616126,Orphanet:ORPHA319563;CLNDN=Immunodeficiency_38_with_basal_ganglia_calcification;CLNHGVS=NC_000001.10:g.949427A>G;CLNREVSTAT=criteria_provided,_single_submitter;CLNSIG=Uncertain_significance;CLNVC=single_nucleotide_variant;CLNVCSO=SO:0001483;GENEINFO=ISG15:9636;MC=SO:0001583|missense_variant;ORIGIN=1\n",
              "2                                                     ALLELEID=626470;CLNDISDB=MedGen:C4015293,OMIM:616126,Orphanet:ORPHA319563;CLNDN=Immunodeficiency_38_with_basal_ganglia_calcification;CLNHGVS=NC_000001.10:g.949491G>A;CLNREVSTAT=criteria_provided,_single_submitter;CLNSIG=Uncertain_significance;CLNVC=single_nucleotide_variant;CLNVCSO=SO:0001483;GENEINFO=ISG15:9636;MC=SO:0001583|missense_variant;ORIGIN=1\n",
              "3         AF_ESP=0.00015;AF_EXAC=0.00010;ALLELEID=514926;CLNDISDB=MedGen:C4015293,OMIM:616126,Orphanet:ORPHA319563;CLNDN=Immunodeficiency_38_with_basal_ganglia_calcification;CLNHGVS=NC_000001.10:g.949502C>T;CLNREVSTAT=criteria_provided,_single_submitter;CLNSIG=Uncertain_significance;CLNVC=single_nucleotide_variant;CLNVCSO=SO:0001483;GENEINFO=ISG15:9636;MC=SO:0001583|missense_variant;ORIGIN=1;RS=150861311\n",
              "4                                                     ALLELEID=626471;CLNDISDB=MedGen:C4015293,OMIM:616126,Orphanet:ORPHA319563;CLNDN=Immunodeficiency_38_with_basal_ganglia_calcification;CLNHGVS=NC_000001.10:g.949518C>T;CLNREVSTAT=criteria_provided,_single_submitter;CLNSIG=Uncertain_significance;CLNVC=single_nucleotide_variant;CLNVCSO=SO:0001483;GENEINFO=ISG15:9636;MC=SO:0001583|missense_variant;ORIGIN=1\n",
              "                                                                                                                                                                                                              ...                                                                                                                                                                                                      \n",
              "474835                                                                       ALLELEID=24790;CLNDISDB=MedGen:C2748896,OMIM:400044;CLNDN=46,XY_sex_reversal,_type_1;CLNHGVS=NC_000024.9:g.2655633A>T;CLNREVSTAT=no_assertion_criteria_provided;CLNSIG=Pathogenic;CLNVC=single_nucleotide_variant;CLNVCSO=SO:0001483;CLNVI=OMIM_Allelic_Variant:480000.0018;GENEINFO=SRY:6736;MC=SO:0001587|nonsense;ORIGIN=1;RS=104894975\n",
              "474836                                                                       ALLELEID=24792;CLNDISDB=MedGen:C2748896,OMIM:400044;CLNDN=46,XY_sex_reversal,_type_1;CLNHGVS=NC_000024.9:g.2655641G>A;CLNREVSTAT=no_assertion_criteria_provided;CLNSIG=Pathogenic;CLNVC=single_nucleotide_variant;CLNVCSO=SO:0001483;CLNVI=OMIM_Allelic_Variant:480000.0020;GENEINFO=SRY:6736;MC=SO:0001587|nonsense;ORIGIN=1;RS=104894977\n",
              "474837                                  AF_ESP=0.00123;AF_EXAC=0.00048;ALLELEID=613772;CLNDISDB=MedGen:CN258289,OMIM:400047;CLNDN=Deafness,_Y-linked_2;CLNHGVS=NC_000024.9:g.6931939A>T;CLNREVSTAT=no_assertion_criteria_provided;CLNSIG=Pathogenic;CLNVC=single_nucleotide_variant;CLNVCSO=SO:0001483;CLNVI=OMIM_Allelic_Variant:400033.0001;GENEINFO=TBL1Y:90665;MC=SO:0001583|missense_variant;ORIGIN=1;RS=199659121\n",
              "474838                                    ALLELEID=550288;CLNDISDB=MedGen:CN517202;CLNDN=not_provided;CLNHGVS=NC_000024.9:g.16734259G>A;CLNREVSTAT=criteria_provided,_single_submitter;CLNSIG=Uncertain_significance;CLNVC=single_nucleotide_variant;CLNVCSO=SO:0001483;GENEINFO=NLGN4Y:22829;MC=SO:0001583|missense_variant,SO:0001619|non-coding_transcript_variant,SO:0001627|intron_variant;ORIGIN=32;RS=1556057385\n",
              "474839                                                               ALLELEID=380134;CLNDISDB=MedGen:CN517202;CLNDN=not_provided;CLNHGVS=NC_000024.9:g.16942001C>A;CLNREVSTAT=criteria_provided,_single_submitter;CLNSIG=Uncertain_significance;CLNVC=single_nucleotide_variant;CLNVCSO=SO:0001483;GENEINFO=NLGN4Y:22829;MC=SO:0001583|missense_variant,SO:0001619|non-coding_transcript_variant;ORIGIN=1;RS=1057524272\n",
              "Name: INFO, Length: 474840, dtype: object"
            ]
          },
          "metadata": {
            "tags": []
          },
          "execution_count": 43
        }
      ]
    },
    {
      "cell_type": "markdown",
      "metadata": {
        "id": "Kcu4_YYYuumv"
      },
      "source": [
        "## 1.1 Find all variants that have been reported to be either pathogenic or likely pathogenic (you can find this in the CLNSIG field) to non-Hodgkin lymphoma (CLNDN field). How many variants do you find? (3 pts)"
      ]
    },
    {
      "cell_type": "code",
      "metadata": {
        "id": "ZloEVcguuWSe",
        "outputId": "d7dccae4-fab5-404d-9f77-0b8cea5e93c2",
        "colab": {
          "base_uri": "https://localhost:8080/"
        }
      },
      "source": [
        "# Filter the variants within clinvar that are pathogenic + likely pathogenic\n",
        "clinFilt = clinvar[((clinvar.INFO.str.contains(\"Pathogenic\")) | (clinvar.INFO.str.contains(\"Likely_pathogenic\"))) \n",
        "& (clinvar.INFO.str.contains(\"Non-Hodgkin_lymphoma\"))]\n",
        "len(clinFilt)"
      ],
      "execution_count": null,
      "outputs": [
        {
          "output_type": "execute_result",
          "data": {
            "text/plain": [
              "43"
            ]
          },
          "metadata": {
            "tags": []
          },
          "execution_count": 52
        }
      ]
    },
    {
      "cell_type": "markdown",
      "metadata": {
        "id": "GPO5kg2Iy88E"
      },
      "source": [
        "The total number of variants that are either pathogenic or likely pathogenic to non-Hodgkin lymphoma I found is 43. \n",
        "\n",
        "After taking into account that in clinvar, there are both pathogenic and likely-pathogenic comments that appear beyond the CLNSIG= field, I decided to search instead for just the text that appears. This is the same strategy that I applied to non-Hodgkin lymphoma. "
      ]
    },
    {
      "cell_type": "markdown",
      "metadata": {
        "id": "SrxYy1crzWYq"
      },
      "source": [
        "## 1.2. How many unique genes in total do these variants locate in (GENEINFO field)? (1 pt)"
      ]
    },
    {
      "cell_type": "code",
      "metadata": {
        "id": "DfUEONU7wfoN",
        "outputId": "bf2f0ebf-5c29-4dbc-b8d6-64668c0eea26",
        "colab": {
          "base_uri": "https://localhost:8080/"
        }
      },
      "source": [
        "# First see how many of the variants do NOT have gene info\n",
        "clinFilt_gene = clinFilt[((clinFilt.INFO.str.contains(\"GENEINFO\")))]\n",
        "len(clinFilt_gene)"
      ],
      "execution_count": null,
      "outputs": [
        {
          "output_type": "execute_result",
          "data": {
            "text/plain": [
              "34"
            ]
          },
          "metadata": {
            "tags": []
          },
          "execution_count": 55
        }
      ]
    },
    {
      "cell_type": "code",
      "metadata": {
        "id": "7fbV1NE80pmZ",
        "outputId": "95fddc3e-d0c7-4c28-c4d0-b6a8da04d25f",
        "colab": {
          "base_uri": "https://localhost:8080/",
          "height": 1000
        }
      },
      "source": [
        "# Unsure of how to do it, so I partitioned the remaining rows at GENEINFO and analyzed each row to see the unique genes that follow\n",
        "filtered = clinFilt_gene.INFO.str.partition(\"GENEINFO\")\n",
        "filtered"
      ],
      "execution_count": null,
      "outputs": [
        {
          "output_type": "execute_result",
          "data": {
            "text/html": [
              "<div>\n",
              "<style scoped>\n",
              "    .dataframe tbody tr th:only-of-type {\n",
              "        vertical-align: middle;\n",
              "    }\n",
              "\n",
              "    .dataframe tbody tr th {\n",
              "        vertical-align: top;\n",
              "    }\n",
              "\n",
              "    .dataframe thead th {\n",
              "        text-align: right;\n",
              "    }\n",
              "</style>\n",
              "<table border=\"1\" class=\"dataframe\">\n",
              "  <thead>\n",
              "    <tr style=\"text-align: right;\">\n",
              "      <th></th>\n",
              "      <th>0</th>\n",
              "      <th>1</th>\n",
              "      <th>2</th>\n",
              "    </tr>\n",
              "  </thead>\n",
              "  <tbody>\n",
              "    <tr>\n",
              "      <th>17199</th>\n",
              "      <td>ALLELEID=362755;CLNDISDB=Human_Phenotype_Ontology:HP:0002664,MeSH:D009369,MedGen:C0027651,SNOMED_CT:108369006|Human_Phenotype_Ontology:HP:0002885,MeSH:D008527,MedGen:C0025149,OMIM:155255,Orphanet:ORPHA616|Human_Phenotype_Ontology:HP:0004808,MeSH:D015470,MedGen:C0023467,OMIM:601626,Orphanet:ORPHA519,SNOMED_CT:17788007|Human_Phenotype_Ontology:HP:0006740,MedGen:C0279680|Human_Phenotype_Ontology:HP:0006775,MeSH:D009101,MedGen:C0026764,OMIM:254500,Orphanet:ORPHA29073,SNOMED_CT:109989006,SNOMED_CT:55921005|Human_Phenotype_Ontology:HP:0012056,MeSH:D008545,MedGen:C0025202|Human_Phenotype_Ontology:HP:0012539,MedGen:C4721532,OMIM:605027,SNOMED_CT:1929004|Human_Phenotype_Ontology:HP:0100834,MeSH:D015179,MedGen:C0009404,SNOMED_CT:126837005|MeSH:C562393,MedGen:C0151779,SNOMED_CT:93655004|MeSH:D009190,MedGen:C3463824,OMIM:614286,Orphanet:ORPHA52688|MedGen:C0278701;CLNDN=Neoplasm|Medulloblastoma|Acute_myeloid_leukemia|Transitional_cell_carcinoma_of_the_bladder|Multiple_myeloma|Cutaneous_melanoma...</td>\n",
              "      <td>GENEINFO</td>\n",
              "      <td>=NRAS:4893;MC=SO:0001583|missense_variant;ORIGIN=2;RS=121434596</td>\n",
              "    </tr>\n",
              "    <tr>\n",
              "      <th>76990</th>\n",
              "      <td>ALLELEID=22805;CLNDISDB=Human_Phenotype_Ontology:HP:0006753,MeSH:D013274,MedGen:C0038356,OMIM:613659,SNOMED_CT:126824007|Human_Phenotype_Ontology:HP:0012539,MedGen:C4721532,OMIM:605027,SNOMED_CT:1929004;CLNDN=Neoplasm_of_stomach|Non-Hodgkin_lymphoma;CLNHGVS=NC_000002.11:g.202070652C&gt;T;CLNREVSTAT=no_assertion_criteria_provided;CLNSIG=Pathogenic;CLNVC=single_nucleotide_variant;CLNVCSO=SO:0001483;CLNVI=OMIM_Allelic_Variant:601762.0004;</td>\n",
              "      <td>GENEINFO</td>\n",
              "      <td>=CASP10:843;MC=SO:0001587|nonsense,SO:0001627|intron_variant;ORIGIN=2;RS=121909775</td>\n",
              "    </tr>\n",
              "    <tr>\n",
              "      <th>77000</th>\n",
              "      <td>ALLELEID=22806;CLNDISDB=Human_Phenotype_Ontology:HP:0012539,MedGen:C4721532,OMIM:605027,SNOMED_CT:1929004;CLNDN=Non-Hodgkin_lymphoma;CLNHGVS=NC_000002.11:g.202073912_202073913insA;CLNREVSTAT=no_assertion_criteria_provided;CLNSIG=Pathogenic;CLNVC=Insertion;CLNVCSO=SO:0000667;CLNVI=OMIM_Allelic_Variant:601762.0005;</td>\n",
              "      <td>GENEINFO</td>\n",
              "      <td>=CASP10:843;MC=SO:0001589|frameshift_variant,SO:0001624|3_prime_UTR_variant;ORIGIN=2;RS=398122800</td>\n",
              "    </tr>\n",
              "    <tr>\n",
              "      <th>98500</th>\n",
              "      <td>ALLELEID=363403;CLNDISDB=Human_Phenotype_Ontology:HP:0012539,MedGen:C4721532,OMIM:605027,SNOMED_CT:1929004|MeSH:C535575,MedGen:C1168401,OMIM:275355,Orphanet:ORPHA67037|MedGen:C0278701;CLNDN=Non-Hodgkin_lymphoma|Squamous_cell_carcinoma_of_the_head_and_neck|Adenocarcinoma_of_stomach;CLNHGVS=NC_000003.11:g.49412898T&gt;A;CLNREVSTAT=no_assertion_criteria_provided;CLNSIG=Likely_pathogenic;CLNVC=single_nucleotide_variant;CLNVCSO=SO:0001483;</td>\n",
              "      <td>GENEINFO</td>\n",
              "      <td>=RHOA:387;MC=SO:0001583|missense_variant,SO:0001623|5_prime_UTR_variant;ORIGIN=2;RS=1057519954</td>\n",
              "    </tr>\n",
              "    <tr>\n",
              "      <th>98501</th>\n",
              "      <td>ALLELEID=363401;CLNDISDB=Human_Phenotype_Ontology:HP:0012539,MedGen:C4721532,OMIM:605027,SNOMED_CT:1929004|MeSH:C535575,MedGen:C1168401,OMIM:275355,Orphanet:ORPHA67037|MedGen:C0278701;CLNDN=Non-Hodgkin_lymphoma|Squamous_cell_carcinoma_of_the_head_and_neck|Adenocarcinoma_of_stomach;CLNHGVS=NC_000003.11:g.49412898T&gt;C;CLNREVSTAT=no_assertion_criteria_provided;CLNSIG=Likely_pathogenic;CLNVC=single_nucleotide_variant;CLNVCSO=SO:0001483;</td>\n",
              "      <td>GENEINFO</td>\n",
              "      <td>=RHOA:387;MC=SO:0001583|missense_variant,SO:0001623|5_prime_UTR_variant;ORIGIN=2;RS=1057519954</td>\n",
              "    </tr>\n",
              "    <tr>\n",
              "      <th>98502</th>\n",
              "      <td>ALLELEID=363402;CLNDISDB=Human_Phenotype_Ontology:HP:0012539,MedGen:C4721532,OMIM:605027,SNOMED_CT:1929004|MeSH:C535575,MedGen:C1168401,OMIM:275355,Orphanet:ORPHA67037|MedGen:C0278701;CLNDN=Non-Hodgkin_lymphoma|Squamous_cell_carcinoma_of_the_head_and_neck|Adenocarcinoma_of_stomach;CLNHGVS=NC_000003.11:g.49412898T&gt;G;CLNREVSTAT=no_assertion_criteria_provided;CLNSIG=Likely_pathogenic;CLNVC=single_nucleotide_variant;CLNVCSO=SO:0001483;</td>\n",
              "      <td>GENEINFO</td>\n",
              "      <td>=RHOA:387;MC=SO:0001583|missense_variant,SO:0001623|5_prime_UTR_variant;ORIGIN=2;RS=1057519954</td>\n",
              "    </tr>\n",
              "    <tr>\n",
              "      <th>98505</th>\n",
              "      <td>ALLELEID=363400;CLNDISDB=Human_Phenotype_Ontology:HP:0011459,MedGen:C0152018,Orphanet:ORPHA70482|Human_Phenotype_Ontology:HP:0012539,MedGen:C4721532,OMIM:605027,SNOMED_CT:1929004|Human_Phenotype_Ontology:HP:0100013,MeSH:D001943,MedGen:C1458155,Orphanet:ORPHA180250,SNOMED_CT:126926005|Human_Phenotype_Ontology:HP:0100834,MeSH:D015179,MedGen:C0009404,SNOMED_CT:126837005|MedGen:C0278701;CLNDN=Carcinoma_of_esophagus|Non-Hodgkin_lymphoma|Neoplasm_of_the_breast|Neoplasm_of_the_large_intestine|Adenocarcinoma_of_stomach;CLNHGVS=NC_000003.11:g.49413009C&gt;A;CLNREVSTAT=no_assertion_criteria_provided;CLNSIG=Likely_pathogenic;CLNVC=single_nucleotide_variant;CLNVCSO=SO:0001483;</td>\n",
              "      <td>GENEINFO</td>\n",
              "      <td>=RHOA:387;MC=SO:0001583|missense_variant,SO:0001627|intron_variant;ORIGIN=2;RS=1057519953</td>\n",
              "    </tr>\n",
              "    <tr>\n",
              "      <th>98506</th>\n",
              "      <td>ALLELEID=363399;CLNDISDB=Human_Phenotype_Ontology:HP:0011459,MedGen:C0152018,Orphanet:ORPHA70482|Human_Phenotype_Ontology:HP:0012539,MedGen:C4721532,OMIM:605027,SNOMED_CT:1929004|Human_Phenotype_Ontology:HP:0100013,MeSH:D001943,MedGen:C1458155,Orphanet:ORPHA180250,SNOMED_CT:126926005|Human_Phenotype_Ontology:HP:0100834,MeSH:D015179,MedGen:C0009404,SNOMED_CT:126837005|MedGen:C0278701;CLNDN=Carcinoma_of_esophagus|Non-Hodgkin_lymphoma|Neoplasm_of_the_breast|Neoplasm_of_the_large_intestine|Adenocarcinoma_of_stomach;CLNHGVS=NC_000003.11:g.49413009C&gt;T;CLNREVSTAT=no_assertion_criteria_provided;CLNSIG=Likely_pathogenic;CLNVC=single_nucleotide_variant;CLNVCSO=SO:0001483;</td>\n",
              "      <td>GENEINFO</td>\n",
              "      <td>=RHOA:387;MC=SO:0001583|missense_variant,SO:0001627|intron_variant;ORIGIN=2;RS=1057519953</td>\n",
              "    </tr>\n",
              "    <tr>\n",
              "      <th>98507</th>\n",
              "      <td>ALLELEID=363398;CLNDISDB=Human_Phenotype_Ontology:HP:0011459,MedGen:C0152018,Orphanet:ORPHA70482|Human_Phenotype_Ontology:HP:0012539,MedGen:C4721532,OMIM:605027,SNOMED_CT:1929004|Human_Phenotype_Ontology:HP:0100013,MeSH:D001943,MedGen:C1458155,Orphanet:ORPHA180250,SNOMED_CT:126926005|Human_Phenotype_Ontology:HP:0100834,MeSH:D015179,MedGen:C0009404,SNOMED_CT:126837005|MedGen:C0278701;CLNDN=Carcinoma_of_esophagus|Non-Hodgkin_lymphoma|Neoplasm_of_the_breast|Neoplasm_of_the_large_intestine|Adenocarcinoma_of_stomach;CLNHGVS=NC_000003.11:g.49413010G&gt;A;CLNREVSTAT=no_assertion_criteria_provided;CLNSIG=Likely_pathogenic;CLNVC=single_nucleotide_variant;CLNVCSO=SO:0001483;</td>\n",
              "      <td>GENEINFO</td>\n",
              "      <td>=RHOA:387;MC=SO:0001583|missense_variant,SO:0001627|intron_variant;ORIGIN=2;RS=1057519952</td>\n",
              "    </tr>\n",
              "    <tr>\n",
              "      <th>108575</th>\n",
              "      <td>ALLELEID=363377;CLNDISDB=Human_Phenotype_Ontology:HP:0012539,MedGen:C4721532,OMIM:605027,SNOMED_CT:1929004|Human_Phenotype_Ontology:HP:0100013,MeSH:D001943,MedGen:C1458155,Orphanet:ORPHA180250,SNOMED_CT:126926005|Human_Phenotype_Ontology:HP:0100834,MeSH:D015179,MedGen:C0009404,SNOMED_CT:126837005|MeSH:C535575,MedGen:C1168401,OMIM:275355,Orphanet:ORPHA67037|MeSH:C562393,MedGen:C0151779,SNOMED_CT:93655004|MeSH:D002583,MedGen:CN236667|MeSH:D005909,MedGen:C0017636,Orphanet:ORPHA360,SNOMED_CT:63634009|MedGen:C0018553,Orphanet:ORPHA201,SNOMED_CT:58037000|MedGen:C0153574,Orphanet:ORPHA213569|MedGen:C3554518,OMIM:615108|MedGen:CN517202;CLNDN=Non-Hodgkin_lymphoma|Neoplasm_of_the_breast|Neoplasm_of_the_large_intestine|Squamous_cell_carcinoma_of_the_head_and_neck|Malignant_melanoma_of_skin|Uterine_cervical_neoplasms|Glioblastoma|Cowden_syndrome|Malignant_neoplasm_of_body_of_uterus|Cowden_syndrome_5|not_provided;CLNHGVS=NC_000003.11:g.178921548G&gt;A;CLNREVSTAT=criteria_provided,_multiple_submitt...</td>\n",
              "      <td>GENEINFO</td>\n",
              "      <td>=PIK3CA:5290;MC=SO:0001583|missense_variant;ORIGIN=35;RS=1057519942</td>\n",
              "    </tr>\n",
              "    <tr>\n",
              "      <th>108576</th>\n",
              "      <td>ALLELEID=363378;CLNDISDB=Human_Phenotype_Ontology:HP:0012539,MedGen:C4721532,OMIM:605027,SNOMED_CT:1929004|Human_Phenotype_Ontology:HP:0100013,MeSH:D001943,MedGen:C1458155,Orphanet:ORPHA180250,SNOMED_CT:126926005|Human_Phenotype_Ontology:HP:0100834,MeSH:D015179,MedGen:C0009404,SNOMED_CT:126837005|MeSH:C535575,MedGen:C1168401,OMIM:275355,Orphanet:ORPHA67037|MeSH:C562393,MedGen:C0151779,SNOMED_CT:93655004|MeSH:D002583,MedGen:CN236667|MeSH:D005909,MedGen:C0017636,Orphanet:ORPHA360,SNOMED_CT:63634009|MedGen:C0153574,Orphanet:ORPHA213569;CLNDN=Non-Hodgkin_lymphoma|Neoplasm_of_the_breast|Neoplasm_of_the_large_intestine|Squamous_cell_carcinoma_of_the_head_and_neck|Malignant_melanoma_of_skin|Uterine_cervical_neoplasms|Glioblastoma|Malignant_neoplasm_of_body_of_uterus;CLNHGVS=NC_000003.11:g.178921549T&gt;C;CLNREVSTAT=no_assertion_criteria_provided;CLNSIG=Likely_pathogenic;CLNVC=single_nucleotide_variant;CLNVCSO=SO:0001483;</td>\n",
              "      <td>GENEINFO</td>\n",
              "      <td>=PIK3CA:5290;MC=SO:0001583|missense_variant;ORIGIN=2;RS=1057519941</td>\n",
              "    </tr>\n",
              "    <tr>\n",
              "      <th>108577</th>\n",
              "      <td>ALLELEID=363376;CLNDISDB=Human_Phenotype_Ontology:HP:0012539,MedGen:C4721532,OMIM:605027,SNOMED_CT:1929004|Human_Phenotype_Ontology:HP:0100013,MeSH:D001943,MedGen:C1458155,Orphanet:ORPHA180250,SNOMED_CT:126926005|Human_Phenotype_Ontology:HP:0100834,MeSH:D015179,MedGen:C0009404,SNOMED_CT:126837005|MeSH:C535575,MedGen:C1168401,OMIM:275355,Orphanet:ORPHA67037|MeSH:C562393,MedGen:C0151779,SNOMED_CT:93655004|MeSH:D002583,MedGen:CN236667|MeSH:D005909,MedGen:C0017636,Orphanet:ORPHA360,SNOMED_CT:63634009|MeSH:D010051,MedGen:CN236629|MedGen:C0153574,Orphanet:ORPHA213569;CLNDN=Non-Hodgkin_lymphoma|Neoplasm_of_the_breast|Neoplasm_of_the_large_intestine|Squamous_cell_carcinoma_of_the_head_and_neck|Malignant_melanoma_of_skin|Uterine_cervical_neoplasms|Glioblastoma|Ovarian_Neoplasms|Malignant_neoplasm_of_body_of_uterus;CLNHGVS=NC_000003.11:g.178921549T&gt;G;CLNREVSTAT=no_assertion_criteria_provided;CLNSIG=Likely_pathogenic;CLNVC=single_nucleotide_variant;CLNVCSO=SO:0001483;</td>\n",
              "      <td>GENEINFO</td>\n",
              "      <td>=PIK3CA:5290;MC=SO:0001583|missense_variant;ORIGIN=2;RS=1057519941</td>\n",
              "    </tr>\n",
              "    <tr>\n",
              "      <th>186417</th>\n",
              "      <td>ALLELEID=87659;CLNDISDB=Human_Phenotype_Ontology:HP:0002665,MeSH:D008223,MedGen:C0024299,Orphanet:ORPHA223735|Human_Phenotype_Ontology:HP:0012539,MedGen:C4721532,OMIM:605027,SNOMED_CT:1929004|MeSH:C562393,MedGen:C0151779,SNOMED_CT:93655004;CLNDN=Lymphoma|Non-Hodgkin_lymphoma|Malignant_melanoma_of_skin;CLNHGVS=NC_000007.13:g.148508727T&gt;A;CLNREVSTAT=no_assertion_criteria_provided;CLNSIG=Likely_pathogenic;CLNVC=single_nucleotide_variant;CLNVCSO=SO:0001483;</td>\n",
              "      <td>GENEINFO</td>\n",
              "      <td>=EZH2:2146;MC=SO:0001583|missense_variant;ORIGIN=2;RS=267601394</td>\n",
              "    </tr>\n",
              "    <tr>\n",
              "      <th>186418</th>\n",
              "      <td>ALLELEID=363097;CLNDISDB=Human_Phenotype_Ontology:HP:0002665,MeSH:D008223,MedGen:C0024299,Orphanet:ORPHA223735|Human_Phenotype_Ontology:HP:0012539,MedGen:C4721532,OMIM:605027,SNOMED_CT:1929004|MeSH:C562393,MedGen:C0151779,SNOMED_CT:93655004;CLNDN=Lymphoma|Non-Hodgkin_lymphoma|Malignant_melanoma_of_skin;CLNHGVS=NC_000007.13:g.148508727T&gt;G;CLNREVSTAT=no_assertion_criteria_provided;CLNSIG=Likely_pathogenic;CLNVC=single_nucleotide_variant;CLNVCSO=SO:0001483;</td>\n",
              "      <td>GENEINFO</td>\n",
              "      <td>=EZH2:2146;MC=SO:0001583|missense_variant;ORIGIN=2;RS=267601394</td>\n",
              "    </tr>\n",
              "    <tr>\n",
              "      <th>186419</th>\n",
              "      <td>ALLELEID=87660;CLNDISDB=Human_Phenotype_Ontology:HP:0002665,MeSH:D008223,MedGen:C0024299,Orphanet:ORPHA223735|Human_Phenotype_Ontology:HP:0012539,MedGen:C4721532,OMIM:605027,SNOMED_CT:1929004|MeSH:C562393,MedGen:C0151779,SNOMED_CT:93655004;CLNDN=Lymphoma|Non-Hodgkin_lymphoma|Malignant_melanoma_of_skin;CLNHGVS=NC_000007.13:g.148508728A&gt;G;CLNREVSTAT=no_assertion_criteria_provided;CLNSIG=Likely_pathogenic;CLNVC=single_nucleotide_variant;CLNVCSO=SO:0001483;</td>\n",
              "      <td>GENEINFO</td>\n",
              "      <td>=EZH2:2146;MC=SO:0001583|missense_variant;ORIGIN=2;RS=267601395</td>\n",
              "    </tr>\n",
              "    <tr>\n",
              "      <th>186420</th>\n",
              "      <td>ALLELEID=363096;CLNDISDB=Human_Phenotype_Ontology:HP:0002665,MeSH:D008223,MedGen:C0024299,Orphanet:ORPHA223735|Human_Phenotype_Ontology:HP:0012539,MedGen:C4721532,OMIM:605027,SNOMED_CT:1929004|MeSH:C562393,MedGen:C0151779,SNOMED_CT:93655004;CLNDN=Lymphoma|Non-Hodgkin_lymphoma|Malignant_melanoma_of_skin;CLNHGVS=NC_000007.13:g.148508728A&gt;T;CLNREVSTAT=no_assertion_criteria_provided;CLNSIG=Likely_pathogenic;CLNVC=single_nucleotide_variant;CLNVCSO=SO:0001483;</td>\n",
              "      <td>GENEINFO</td>\n",
              "      <td>=EZH2:2146;MC=SO:0001583|missense_variant;ORIGIN=2;RS=267601395</td>\n",
              "    </tr>\n",
              "    <tr>\n",
              "      <th>186421</th>\n",
              "      <td>ALLELEID=363291;CLNDISDB=Human_Phenotype_Ontology:HP:0012539,MedGen:C4721532,OMIM:605027,SNOMED_CT:1929004|MeSH:C562393,MedGen:C0151779,SNOMED_CT:93655004;CLNDN=Non-Hodgkin_lymphoma|Malignant_melanoma_of_skin;CLNHGVS=NC_000007.13:g.148508742T&gt;A;CLNREVSTAT=no_assertion_criteria_provided;CLNSIG=Likely_pathogenic;CLNVC=single_nucleotide_variant;CLNVCSO=SO:0001483;</td>\n",
              "      <td>GENEINFO</td>\n",
              "      <td>=EZH2:2146;MC=SO:0001583|missense_variant;ORIGIN=2;RS=1057519894</td>\n",
              "    </tr>\n",
              "    <tr>\n",
              "      <th>186422</th>\n",
              "      <td>ALLELEID=363292;CLNDISDB=Human_Phenotype_Ontology:HP:0012539,MedGen:C4721532,OMIM:605027,SNOMED_CT:1929004|MeSH:C562393,MedGen:C0151779,SNOMED_CT:93655004;CLNDN=Non-Hodgkin_lymphoma|Malignant_melanoma_of_skin;CLNHGVS=NC_000007.13:g.148508742T&gt;G;CLNREVSTAT=no_assertion_criteria_provided;CLNSIG=Likely_pathogenic;CLNVC=single_nucleotide_variant;CLNVCSO=SO:0001483;</td>\n",
              "      <td>GENEINFO</td>\n",
              "      <td>=EZH2:2146;MC=SO:0001583|missense_variant;ORIGIN=2;RS=1057519894</td>\n",
              "    </tr>\n",
              "    <tr>\n",
              "      <th>199859</th>\n",
              "      <td>ALLELEID=363338;CLNDISDB=Human_Phenotype_Ontology:HP:0003006,MeSH:D009447,MedGen:C2749484,OMIM:256700,Orphanet:ORPHA635|Human_Phenotype_Ontology:HP:0011459,MedGen:C0152018,Orphanet:ORPHA70482|Human_Phenotype_Ontology:HP:0012539,MedGen:C4721532,OMIM:605027,SNOMED_CT:1929004|Human_Phenotype_Ontology:HP:0030078,MeSH:C538231,MedGen:C0152013|MeSH:C562393,MedGen:C0151779,SNOMED_CT:93655004;CLNDN=Neuroblastoma|Carcinoma_of_esophagus|Non-Hodgkin_lymphoma|Lung_adenocarcinoma|Malignant_melanoma_of_skin;CLNHGVS=NC_000008.10:g.128750636C&gt;T;CLNREVSTAT=no_assertion_criteria_provided;CLNSIG=Likely_pathogenic;CLNVC=single_nucleotide_variant;CLNVCSO=SO:0001483;</td>\n",
              "      <td>GENEINFO</td>\n",
              "      <td>=MYC:4609;MC=SO:0001583|missense_variant;ORIGIN=2;RS=1057519918</td>\n",
              "    </tr>\n",
              "    <tr>\n",
              "      <th>199862</th>\n",
              "      <td>AF_EXAC=0.01371;ALLELEID=363337;CLNDISDB=Human_Phenotype_Ontology:HP:0003006,MeSH:D009447,MedGen:C2749484,OMIM:256700,Orphanet:ORPHA635|Human_Phenotype_Ontology:HP:0011459,MedGen:C0152018,Orphanet:ORPHA70482|Human_Phenotype_Ontology:HP:0012539,MedGen:C4721532,OMIM:605027,SNOMED_CT:1929004|Human_Phenotype_Ontology:HP:0030078,MeSH:C538231,MedGen:C0152013|MeSH:C562393,MedGen:C0151779,SNOMED_CT:93655004;CLNDN=Neuroblastoma|Carcinoma_of_esophagus|Non-Hodgkin_lymphoma|Lung_adenocarcinoma|Malignant_melanoma_of_skin;CLNHGVS=NC_000008.10:g.128750680A&gt;C;CLNREVSTAT=no_assertion_criteria_provided;CLNSIG=Likely_pathogenic;CLNVC=single_nucleotide_variant;CLNVCSO=SO:0001483;</td>\n",
              "      <td>GENEINFO</td>\n",
              "      <td>=MYC:4609;MC=SO:0001583|missense_variant;ORIGIN=2;RS=750664148</td>\n",
              "    </tr>\n",
              "    <tr>\n",
              "      <th>199863</th>\n",
              "      <td>ALLELEID=363179;CLNDISDB=Human_Phenotype_Ontology:HP:0002664,MeSH:D009369,MedGen:C0027651,SNOMED_CT:108369006|Human_Phenotype_Ontology:HP:0003006,MeSH:D009447,MedGen:C2749484,OMIM:256700,Orphanet:ORPHA635|Human_Phenotype_Ontology:HP:0011459,MedGen:C0152018,Orphanet:ORPHA70482|Human_Phenotype_Ontology:HP:0012539,MedGen:C4721532,OMIM:605027,SNOMED_CT:1929004|Human_Phenotype_Ontology:HP:0030078,MeSH:C538231,MedGen:C0152013|MeSH:C562393,MedGen:C0151779,SNOMED_CT:93655004;CLNDN=Neoplasm|Neuroblastoma|Carcinoma_of_esophagus|Non-Hodgkin_lymphoma|Lung_adenocarcinoma|Malignant_melanoma_of_skin;CLNHGVS=NC_000008.10:g.128750681C&gt;T;CLNREVSTAT=no_assertion_criteria_provided;CLNSIG=Likely_pathogenic;CLNVC=single_nucleotide_variant;CLNVCSO=SO:0001483;</td>\n",
              "      <td>GENEINFO</td>\n",
              "      <td>=MYC:4609;MC=SO:0001583|missense_variant;ORIGIN=2;RS=756091827</td>\n",
              "    </tr>\n",
              "    <tr>\n",
              "      <th>328483</th>\n",
              "      <td>ALLELEID=363248;CLNDISDB=Human_Phenotype_Ontology:HP:0006775,MeSH:D009101,MedGen:C0026764,OMIM:254500,Orphanet:ORPHA29073,SNOMED_CT:109989006,SNOMED_CT:55921005|Human_Phenotype_Ontology:HP:0012539,MedGen:C4721532,OMIM:605027,SNOMED_CT:1929004|Human_Phenotype_Ontology:HP:0030078,MeSH:C538231,MedGen:C0152013|Human_Phenotype_Ontology:HP:0030357,MeSH:D055752,MedGen:C0149925,OMIM:182280,Orphanet:ORPHA70573|Human_Phenotype_Ontology:HP:0030359,MedGen:C0149782|Human_Phenotype_Ontology:HP:0100834,MeSH:D015179,MedGen:C0009404,SNOMED_CT:126837005|MeSH:C535575,MedGen:C1168401,OMIM:275355,Orphanet:ORPHA67037|MeSH:C562393,MedGen:C0151779,SNOMED_CT:93655004|MedGen:C0278701|MedGen:C0279663;CLNDN=Multiple_myeloma|Non-Hodgkin_lymphoma|Lung_adenocarcinoma|Small_cell_lung_cancer|Squamous_cell_lung_carcinoma|Neoplasm_of_the_large_intestine|Squamous_cell_carcinoma_of_the_head_and_neck|Malignant_melanoma_of_skin|Adenocarcinoma_of_stomach|Ovarian_Serous_Cystadenocarcinoma;CLNHGVS=NC_000015.9:g.45003745A&gt;G...</td>\n",
              "      <td>GENEINFO</td>\n",
              "      <td>=B2M:567;MC=SO:0001582|initiatior_codon_variant,SO:0001583|missense_variant;ORIGIN=2;RS=1023835002</td>\n",
              "    </tr>\n",
              "    <tr>\n",
              "      <th>328484</th>\n",
              "      <td>ALLELEID=363249;CLNDISDB=Human_Phenotype_Ontology:HP:0006775,MeSH:D009101,MedGen:C0026764,OMIM:254500,Orphanet:ORPHA29073,SNOMED_CT:109989006,SNOMED_CT:55921005|Human_Phenotype_Ontology:HP:0012539,MedGen:C4721532,OMIM:605027,SNOMED_CT:1929004|Human_Phenotype_Ontology:HP:0030078,MeSH:C538231,MedGen:C0152013|Human_Phenotype_Ontology:HP:0030357,MeSH:D055752,MedGen:C0149925,OMIM:182280,Orphanet:ORPHA70573|Human_Phenotype_Ontology:HP:0030359,MedGen:C0149782|Human_Phenotype_Ontology:HP:0100834,MeSH:D015179,MedGen:C0009404,SNOMED_CT:126837005|MeSH:C535575,MedGen:C1168401,OMIM:275355,Orphanet:ORPHA67037|MeSH:C562393,MedGen:C0151779,SNOMED_CT:93655004|MedGen:C0278701|MedGen:C0279663;CLNDN=Multiple_myeloma|Non-Hodgkin_lymphoma|Lung_adenocarcinoma|Small_cell_lung_cancer|Squamous_cell_lung_carcinoma|Neoplasm_of_the_large_intestine|Squamous_cell_carcinoma_of_the_head_and_neck|Malignant_melanoma_of_skin|Adenocarcinoma_of_stomach|Ovarian_Serous_Cystadenocarcinoma;CLNHGVS=NC_000015.9:g.45003745A&gt;T...</td>\n",
              "      <td>GENEINFO</td>\n",
              "      <td>=B2M:567;MC=SO:0001582|initiatior_codon_variant,SO:0001583|missense_variant;ORIGIN=2;RS=1023835002</td>\n",
              "    </tr>\n",
              "    <tr>\n",
              "      <th>328485</th>\n",
              "      <td>ALLELEID=363250;CLNDISDB=Human_Phenotype_Ontology:HP:0006775,MeSH:D009101,MedGen:C0026764,OMIM:254500,Orphanet:ORPHA29073,SNOMED_CT:109989006,SNOMED_CT:55921005|Human_Phenotype_Ontology:HP:0012539,MedGen:C4721532,OMIM:605027,SNOMED_CT:1929004|Human_Phenotype_Ontology:HP:0030078,MeSH:C538231,MedGen:C0152013|Human_Phenotype_Ontology:HP:0030357,MeSH:D055752,MedGen:C0149925,OMIM:182280,Orphanet:ORPHA70573|Human_Phenotype_Ontology:HP:0030359,MedGen:C0149782|Human_Phenotype_Ontology:HP:0100834,MeSH:D015179,MedGen:C0009404,SNOMED_CT:126837005|MeSH:C535575,MedGen:C1168401,OMIM:275355,Orphanet:ORPHA67037|MeSH:C562393,MedGen:C0151779,SNOMED_CT:93655004|MedGen:C0278701|MedGen:C0279663;CLNDN=Multiple_myeloma|Non-Hodgkin_lymphoma|Lung_adenocarcinoma|Small_cell_lung_cancer|Squamous_cell_lung_carcinoma|Neoplasm_of_the_large_intestine|Squamous_cell_carcinoma_of_the_head_and_neck|Malignant_melanoma_of_skin|Adenocarcinoma_of_stomach|Ovarian_Serous_Cystadenocarcinoma;CLNHGVS=NC_000015.9:g.45003746T&gt;C...</td>\n",
              "      <td>GENEINFO</td>\n",
              "      <td>=B2M:567;MC=SO:0001582|initiatior_codon_variant,SO:0001583|missense_variant;ORIGIN=2;RS=1057519879</td>\n",
              "    </tr>\n",
              "    <tr>\n",
              "      <th>328486</th>\n",
              "      <td>ALLELEID=363251;CLNDISDB=Human_Phenotype_Ontology:HP:0006775,MeSH:D009101,MedGen:C0026764,OMIM:254500,Orphanet:ORPHA29073,SNOMED_CT:109989006,SNOMED_CT:55921005|Human_Phenotype_Ontology:HP:0012539,MedGen:C4721532,OMIM:605027,SNOMED_CT:1929004|Human_Phenotype_Ontology:HP:0030078,MeSH:C538231,MedGen:C0152013|Human_Phenotype_Ontology:HP:0030357,MeSH:D055752,MedGen:C0149925,OMIM:182280,Orphanet:ORPHA70573|Human_Phenotype_Ontology:HP:0030359,MedGen:C0149782|Human_Phenotype_Ontology:HP:0100834,MeSH:D015179,MedGen:C0009404,SNOMED_CT:126837005|MeSH:C535575,MedGen:C1168401,OMIM:275355,Orphanet:ORPHA67037|MeSH:C562393,MedGen:C0151779,SNOMED_CT:93655004|MedGen:C0278701|MedGen:C0279663;CLNDN=Multiple_myeloma|Non-Hodgkin_lymphoma|Lung_adenocarcinoma|Small_cell_lung_cancer|Squamous_cell_lung_carcinoma|Neoplasm_of_the_large_intestine|Squamous_cell_carcinoma_of_the_head_and_neck|Malignant_melanoma_of_skin|Adenocarcinoma_of_stomach|Ovarian_Serous_Cystadenocarcinoma;CLNHGVS=NC_000015.9:g.45003746T&gt;G...</td>\n",
              "      <td>GENEINFO</td>\n",
              "      <td>=B2M:567;MC=SO:0001582|initiatior_codon_variant,SO:0001583|missense_variant;ORIGIN=2;RS=1057519879</td>\n",
              "    </tr>\n",
              "    <tr>\n",
              "      <th>328487</th>\n",
              "      <td>ALLELEID=363247;CLNDISDB=Human_Phenotype_Ontology:HP:0006775,MeSH:D009101,MedGen:C0026764,OMIM:254500,Orphanet:ORPHA29073,SNOMED_CT:109989006,SNOMED_CT:55921005|Human_Phenotype_Ontology:HP:0012539,MedGen:C4721532,OMIM:605027,SNOMED_CT:1929004|Human_Phenotype_Ontology:HP:0030078,MeSH:C538231,MedGen:C0152013|Human_Phenotype_Ontology:HP:0030357,MeSH:D055752,MedGen:C0149925,OMIM:182280,Orphanet:ORPHA70573|Human_Phenotype_Ontology:HP:0030359,MedGen:C0149782|Human_Phenotype_Ontology:HP:0100834,MeSH:D015179,MedGen:C0009404,SNOMED_CT:126837005|MeSH:C535575,MedGen:C1168401,OMIM:275355,Orphanet:ORPHA67037|MeSH:C562393,MedGen:C0151779,SNOMED_CT:93655004|MedGen:C0278701|MedGen:C0279663;CLNDN=Multiple_myeloma|Non-Hodgkin_lymphoma|Lung_adenocarcinoma|Small_cell_lung_cancer|Squamous_cell_lung_carcinoma|Neoplasm_of_the_large_intestine|Squamous_cell_carcinoma_of_the_head_and_neck|Malignant_melanoma_of_skin|Adenocarcinoma_of_stomach|Ovarian_Serous_Cystadenocarcinoma;CLNHGVS=NC_000015.9:g.45003747G&gt;A...</td>\n",
              "      <td>GENEINFO</td>\n",
              "      <td>=B2M:567;MC=SO:0001582|initiatior_codon_variant,SO:0001583|missense_variant;ORIGIN=2;RS=1057519877</td>\n",
              "    </tr>\n",
              "    <tr>\n",
              "      <th>333283</th>\n",
              "      <td>ALLELEID=363327;CLNDISDB=Human_Phenotype_Ontology:HP:0012539,MedGen:C4721532,OMIM:605027,SNOMED_CT:1929004|Human_Phenotype_Ontology:HP:0030078,MeSH:C538231,MedGen:C0152013|MeSH:C535575,MedGen:C1168401,OMIM:275355,Orphanet:ORPHA67037|MeSH:C562393,MedGen:C0151779,SNOMED_CT:93655004|MedGen:C0007112|MedGen:C0278701;CLNDN=Non-Hodgkin_lymphoma|Lung_adenocarcinoma|Squamous_cell_carcinoma_of_the_head_and_neck|Malignant_melanoma_of_skin|Adenocarcinoma_of_prostate|Adenocarcinoma_of_stomach;CLNHGVS=NC_000015.9:g.66727454A&gt;C;CLNREVSTAT=no_assertion_criteria_provided;CLNSIG=Likely_pathogenic;CLNVC=single_nucleotide_variant;CLNVCSO=SO:0001483;</td>\n",
              "      <td>GENEINFO</td>\n",
              "      <td>=MAP2K1:5604;MC=SO:0001583|missense_variant;ORIGIN=2;RS=1057519909</td>\n",
              "    </tr>\n",
              "    <tr>\n",
              "      <th>333284</th>\n",
              "      <td>ALLELEID=363053;CLNDISDB=Human_Phenotype_Ontology:HP:0012056,MeSH:D008545,MedGen:C0025202|Human_Phenotype_Ontology:HP:0012539,MedGen:C4721532,OMIM:605027,SNOMED_CT:1929004|Human_Phenotype_Ontology:HP:0030078,MeSH:C538231,MedGen:C0152013|MeSH:C535575,MedGen:C1168401,OMIM:275355,Orphanet:ORPHA67037|MeSH:C562393,MedGen:C0151779,SNOMED_CT:93655004|MedGen:C0007112|MedGen:C0278701;CLNDN=Cutaneous_melanoma|Non-Hodgkin_lymphoma|Lung_adenocarcinoma|Squamous_cell_carcinoma_of_the_head_and_neck|Malignant_melanoma_of_skin|Adenocarcinoma_of_prostate|Adenocarcinoma_of_stomach;CLNHGVS=NC_000015.9:g.66727455G&gt;C;CLNREVSTAT=no_assertion_criteria_provided;CLNSIG=Likely_pathogenic;CLNVC=single_nucleotide_variant;CLNVCSO=SO:0001483;</td>\n",
              "      <td>GENEINFO</td>\n",
              "      <td>=MAP2K1:5604;MC=SO:0001583|missense_variant;ORIGIN=2;RS=869025608</td>\n",
              "    </tr>\n",
              "    <tr>\n",
              "      <th>369881</th>\n",
              "      <td>ALLELEID=363542;CLNDISDB=Human_Phenotype_Ontology:HP:0005584,MeSH:D002292,MedGen:C0007134,OMIM:605074,Orphanet:ORPHA217071,SNOMED_CT:41607009|Human_Phenotype_Ontology:HP:0006725,MedGen:C0281361|Human_Phenotype_Ontology:HP:0006739,MedGen:C0553723|Human_Phenotype_Ontology:HP:0006740,MedGen:C0279680|Human_Phenotype_Ontology:HP:0010796,MedGen:C0677865|Human_Phenotype_Ontology:HP:0011459,MedGen:C0152018,Orphanet:ORPHA70482|Human_Phenotype_Ontology:HP:0012539,MedGen:C4721532,OMIM:605027,SNOMED_CT:1929004|Human_Phenotype_Ontology:HP:0030078,MeSH:C538231,MedGen:C0152013|Human_Phenotype_Ontology:HP:0030692,MeSH:D001932,MedGen:C0006118,SNOMED_CT:126952004|Human_Phenotype_Ontology:HP:0100013,MeSH:D001943,MedGen:C1458155,Orphanet:ORPHA180250,SNOMED_CT:126926005|Human_Phenotype_Ontology:HP:0100834,MeSH:D015179,MedGen:C0009404,SNOMED_CT:126837005|MeSH:C535575,MedGen:C1168401,OMIM:275355,Orphanet:ORPHA67037|MeSH:C538614,MedGen:C1336078|MeSH:C562393,MedGen:C0151779,SNOMED_CT:93655004|MeSH:D005909,...</td>\n",
              "      <td>GENEINFO</td>\n",
              "      <td>=TP53:7157;MC=SO:0001583|missense_variant;ORIGIN=2;RS=28934573</td>\n",
              "    </tr>\n",
              "    <tr>\n",
              "      <th>369883</th>\n",
              "      <td>ALLELEID=363544;CLNDISDB=Human_Phenotype_Ontology:HP:0005584,MeSH:D002292,MedGen:C0007134,OMIM:605074,Orphanet:ORPHA217071,SNOMED_CT:41607009|Human_Phenotype_Ontology:HP:0006725,MedGen:C0281361|Human_Phenotype_Ontology:HP:0006739,MedGen:C0553723|Human_Phenotype_Ontology:HP:0006740,MedGen:C0279680|Human_Phenotype_Ontology:HP:0010796,MedGen:C0677865|Human_Phenotype_Ontology:HP:0011459,MedGen:C0152018,Orphanet:ORPHA70482|Human_Phenotype_Ontology:HP:0012539,MedGen:C4721532,OMIM:605027,SNOMED_CT:1929004|Human_Phenotype_Ontology:HP:0030078,MeSH:C538231,MedGen:C0152013|Human_Phenotype_Ontology:HP:0030692,MeSH:D001932,MedGen:C0006118,SNOMED_CT:126952004|Human_Phenotype_Ontology:HP:0100013,MeSH:D001943,MedGen:C1458155,Orphanet:ORPHA180250,SNOMED_CT:126926005|Human_Phenotype_Ontology:HP:0100834,MeSH:D015179,MedGen:C0009404,SNOMED_CT:126837005|MeSH:C535575,MedGen:C1168401,OMIM:275355,Orphanet:ORPHA67037|MeSH:C538614,MedGen:C1336078|MeSH:C562393,MedGen:C0151779,SNOMED_CT:93655004|MeSH:D005909,...</td>\n",
              "      <td>GENEINFO</td>\n",
              "      <td>=TP53:7157;MC=SO:0001583|missense_variant;ORIGIN=2;RS=1057520002</td>\n",
              "    </tr>\n",
              "    <tr>\n",
              "      <th>369884</th>\n",
              "      <td>ALLELEID=363543;CLNDISDB=Human_Phenotype_Ontology:HP:0005584,MeSH:D002292,MedGen:C0007134,OMIM:605074,Orphanet:ORPHA217071,SNOMED_CT:41607009|Human_Phenotype_Ontology:HP:0006725,MedGen:C0281361|Human_Phenotype_Ontology:HP:0006739,MedGen:C0553723|Human_Phenotype_Ontology:HP:0006740,MedGen:C0279680|Human_Phenotype_Ontology:HP:0010796,MedGen:C0677865|Human_Phenotype_Ontology:HP:0011459,MedGen:C0152018,Orphanet:ORPHA70482|Human_Phenotype_Ontology:HP:0012539,MedGen:C4721532,OMIM:605027,SNOMED_CT:1929004|Human_Phenotype_Ontology:HP:0030078,MeSH:C538231,MedGen:C0152013|Human_Phenotype_Ontology:HP:0030692,MeSH:D001932,MedGen:C0006118,SNOMED_CT:126952004|Human_Phenotype_Ontology:HP:0100013,MeSH:D001943,MedGen:C1458155,Orphanet:ORPHA180250,SNOMED_CT:126926005|Human_Phenotype_Ontology:HP:0100834,MeSH:D015179,MedGen:C0009404,SNOMED_CT:126837005|MeSH:C535575,MedGen:C1168401,OMIM:275355,Orphanet:ORPHA67037|MeSH:C538614,MedGen:C1336078|MeSH:C562393,MedGen:C0151779,SNOMED_CT:93655004|MeSH:D005909,...</td>\n",
              "      <td>GENEINFO</td>\n",
              "      <td>=TP53:7157;MC=SO:0001583|missense_variant;ORIGIN=2;RS=1057520002</td>\n",
              "    </tr>\n",
              "    <tr>\n",
              "      <th>370045</th>\n",
              "      <td>ALLELEID=363561;CLNDISDB=Human_Phenotype_Ontology:HP:0001402,MedGen:C2239176,OMIM:114550,Orphanet:ORPHA88673,SNOMED_CT:187769009,SNOMED_CT:25370001|Human_Phenotype_Ontology:HP:0005584,MeSH:D002292,MedGen:C0007134,OMIM:605074,Orphanet:ORPHA217071,SNOMED_CT:41607009|Human_Phenotype_Ontology:HP:0006725,MedGen:C0281361|Human_Phenotype_Ontology:HP:0006775,MeSH:D009101,MedGen:C0026764,OMIM:254500,Orphanet:ORPHA29073,SNOMED_CT:109989006,SNOMED_CT:55921005|Human_Phenotype_Ontology:HP:0011459,MedGen:C0152018,Orphanet:ORPHA70482|Human_Phenotype_Ontology:HP:0012539,MedGen:C4721532,OMIM:605027,SNOMED_CT:1929004|Human_Phenotype_Ontology:HP:0030078,MeSH:C538231,MedGen:C0152013|Human_Phenotype_Ontology:HP:0030359,MedGen:C0149782|Human_Phenotype_Ontology:HP:0030692,MeSH:D001932,MedGen:C0006118,SNOMED_CT:126952004|Human_Phenotype_Ontology:HP:0100013,MeSH:D001943,MedGen:C1458155,Orphanet:ORPHA180250,SNOMED_CT:126926005|Human_Phenotype_Ontology:HP:0100834,MeSH:D015179,MedGen:C0009404,SNOMED_CT:126837...</td>\n",
              "      <td>GENEINFO</td>\n",
              "      <td>=TP53:7157;MC=SO:0001583|missense_variant;ORIGIN=2;RS=1057520007</td>\n",
              "    </tr>\n",
              "    <tr>\n",
              "      <th>370046</th>\n",
              "      <td>ALLELEID=363560;CLNDISDB=Human_Phenotype_Ontology:HP:0001402,MedGen:C2239176,OMIM:114550,Orphanet:ORPHA88673,SNOMED_CT:187769009,SNOMED_CT:25370001|Human_Phenotype_Ontology:HP:0005584,MeSH:D002292,MedGen:C0007134,OMIM:605074,Orphanet:ORPHA217071,SNOMED_CT:41607009|Human_Phenotype_Ontology:HP:0006725,MedGen:C0281361|Human_Phenotype_Ontology:HP:0006775,MeSH:D009101,MedGen:C0026764,OMIM:254500,Orphanet:ORPHA29073,SNOMED_CT:109989006,SNOMED_CT:55921005|Human_Phenotype_Ontology:HP:0011459,MedGen:C0152018,Orphanet:ORPHA70482|Human_Phenotype_Ontology:HP:0012539,MedGen:C4721532,OMIM:605027,SNOMED_CT:1929004|Human_Phenotype_Ontology:HP:0030078,MeSH:C538231,MedGen:C0152013|Human_Phenotype_Ontology:HP:0030359,MedGen:C0149782|Human_Phenotype_Ontology:HP:0030692,MeSH:D001932,MedGen:C0006118,SNOMED_CT:126952004|Human_Phenotype_Ontology:HP:0100013,MeSH:D001943,MedGen:C1458155,Orphanet:ORPHA180250,SNOMED_CT:126926005|Human_Phenotype_Ontology:HP:0100834,MeSH:D015179,MedGen:C0009404,SNOMED_CT:126837...</td>\n",
              "      <td>GENEINFO</td>\n",
              "      <td>=TP53:7157;MC=SO:0001583|missense_variant;ORIGIN=3;RS=1057520007</td>\n",
              "    </tr>\n",
              "    <tr>\n",
              "      <th>370047</th>\n",
              "      <td>ALLELEID=363562;CLNDISDB=Human_Phenotype_Ontology:HP:0001402,MedGen:C2239176,OMIM:114550,Orphanet:ORPHA88673,SNOMED_CT:187769009,SNOMED_CT:25370001|Human_Phenotype_Ontology:HP:0005584,MeSH:D002292,MedGen:C0007134,OMIM:605074,Orphanet:ORPHA217071,SNOMED_CT:41607009|Human_Phenotype_Ontology:HP:0006725,MedGen:C0281361|Human_Phenotype_Ontology:HP:0006775,MeSH:D009101,MedGen:C0026764,OMIM:254500,Orphanet:ORPHA29073,SNOMED_CT:109989006,SNOMED_CT:55921005|Human_Phenotype_Ontology:HP:0011459,MedGen:C0152018,Orphanet:ORPHA70482|Human_Phenotype_Ontology:HP:0012539,MedGen:C4721532,OMIM:605027,SNOMED_CT:1929004|Human_Phenotype_Ontology:HP:0030078,MeSH:C538231,MedGen:C0152013|Human_Phenotype_Ontology:HP:0030359,MedGen:C0149782|Human_Phenotype_Ontology:HP:0030692,MeSH:D001932,MedGen:C0006118,SNOMED_CT:126952004|Human_Phenotype_Ontology:HP:0100013,MeSH:D001943,MedGen:C1458155,Orphanet:ORPHA180250,SNOMED_CT:126926005|Human_Phenotype_Ontology:HP:0100834,MeSH:D015179,MedGen:C0009404,SNOMED_CT:126837...</td>\n",
              "      <td>GENEINFO</td>\n",
              "      <td>=TP53:7157;MC=SO:0001583|missense_variant;ORIGIN=2;RS=1057520007</td>\n",
              "    </tr>\n",
              "  </tbody>\n",
              "</table>\n",
              "</div>"
            ],
            "text/plain": [
              "                                                                                                                                                                                                                                                                                                                                                                                                                                                                                                                                                                                                                                                                                                                                                                                                                                                                                                                                                                                                                                              0  ...                                                                                                   2\n",
              "17199   ALLELEID=362755;CLNDISDB=Human_Phenotype_Ontology:HP:0002664,MeSH:D009369,MedGen:C0027651,SNOMED_CT:108369006|Human_Phenotype_Ontology:HP:0002885,MeSH:D008527,MedGen:C0025149,OMIM:155255,Orphanet:ORPHA616|Human_Phenotype_Ontology:HP:0004808,MeSH:D015470,MedGen:C0023467,OMIM:601626,Orphanet:ORPHA519,SNOMED_CT:17788007|Human_Phenotype_Ontology:HP:0006740,MedGen:C0279680|Human_Phenotype_Ontology:HP:0006775,MeSH:D009101,MedGen:C0026764,OMIM:254500,Orphanet:ORPHA29073,SNOMED_CT:109989006,SNOMED_CT:55921005|Human_Phenotype_Ontology:HP:0012056,MeSH:D008545,MedGen:C0025202|Human_Phenotype_Ontology:HP:0012539,MedGen:C4721532,OMIM:605027,SNOMED_CT:1929004|Human_Phenotype_Ontology:HP:0100834,MeSH:D015179,MedGen:C0009404,SNOMED_CT:126837005|MeSH:C562393,MedGen:C0151779,SNOMED_CT:93655004|MeSH:D009190,MedGen:C3463824,OMIM:614286,Orphanet:ORPHA52688|MedGen:C0278701;CLNDN=Neoplasm|Medulloblastoma|Acute_myeloid_leukemia|Transitional_cell_carcinoma_of_the_bladder|Multiple_myeloma|Cutaneous_melanoma...  ...                                     =NRAS:4893;MC=SO:0001583|missense_variant;ORIGIN=2;RS=121434596\n",
              "76990                                                                                                                                                                                                                                                                                                                                                                                                                                                                                                                                                                                      ALLELEID=22805;CLNDISDB=Human_Phenotype_Ontology:HP:0006753,MeSH:D013274,MedGen:C0038356,OMIM:613659,SNOMED_CT:126824007|Human_Phenotype_Ontology:HP:0012539,MedGen:C4721532,OMIM:605027,SNOMED_CT:1929004;CLNDN=Neoplasm_of_stomach|Non-Hodgkin_lymphoma;CLNHGVS=NC_000002.11:g.202070652C>T;CLNREVSTAT=no_assertion_criteria_provided;CLNSIG=Pathogenic;CLNVC=single_nucleotide_variant;CLNVCSO=SO:0001483;CLNVI=OMIM_Allelic_Variant:601762.0004;  ...                  =CASP10:843;MC=SO:0001587|nonsense,SO:0001627|intron_variant;ORIGIN=2;RS=121909775\n",
              "77000                                                                                                                                                                                                                                                                                                                                                                                                                                                                                                                                                                                                                                                                                                                ALLELEID=22806;CLNDISDB=Human_Phenotype_Ontology:HP:0012539,MedGen:C4721532,OMIM:605027,SNOMED_CT:1929004;CLNDN=Non-Hodgkin_lymphoma;CLNHGVS=NC_000002.11:g.202073912_202073913insA;CLNREVSTAT=no_assertion_criteria_provided;CLNSIG=Pathogenic;CLNVC=Insertion;CLNVCSO=SO:0000667;CLNVI=OMIM_Allelic_Variant:601762.0005;  ...   =CASP10:843;MC=SO:0001589|frameshift_variant,SO:0001624|3_prime_UTR_variant;ORIGIN=2;RS=398122800\n",
              "98500                                                                                                                                                                                                                                                                                                                                                                                                                                                                                                                                                                                       ALLELEID=363403;CLNDISDB=Human_Phenotype_Ontology:HP:0012539,MedGen:C4721532,OMIM:605027,SNOMED_CT:1929004|MeSH:C535575,MedGen:C1168401,OMIM:275355,Orphanet:ORPHA67037|MedGen:C0278701;CLNDN=Non-Hodgkin_lymphoma|Squamous_cell_carcinoma_of_the_head_and_neck|Adenocarcinoma_of_stomach;CLNHGVS=NC_000003.11:g.49412898T>A;CLNREVSTAT=no_assertion_criteria_provided;CLNSIG=Likely_pathogenic;CLNVC=single_nucleotide_variant;CLNVCSO=SO:0001483;  ...      =RHOA:387;MC=SO:0001583|missense_variant,SO:0001623|5_prime_UTR_variant;ORIGIN=2;RS=1057519954\n",
              "98501                                                                                                                                                                                                                                                                                                                                                                                                                                                                                                                                                                                       ALLELEID=363401;CLNDISDB=Human_Phenotype_Ontology:HP:0012539,MedGen:C4721532,OMIM:605027,SNOMED_CT:1929004|MeSH:C535575,MedGen:C1168401,OMIM:275355,Orphanet:ORPHA67037|MedGen:C0278701;CLNDN=Non-Hodgkin_lymphoma|Squamous_cell_carcinoma_of_the_head_and_neck|Adenocarcinoma_of_stomach;CLNHGVS=NC_000003.11:g.49412898T>C;CLNREVSTAT=no_assertion_criteria_provided;CLNSIG=Likely_pathogenic;CLNVC=single_nucleotide_variant;CLNVCSO=SO:0001483;  ...      =RHOA:387;MC=SO:0001583|missense_variant,SO:0001623|5_prime_UTR_variant;ORIGIN=2;RS=1057519954\n",
              "98502                                                                                                                                                                                                                                                                                                                                                                                                                                                                                                                                                                                       ALLELEID=363402;CLNDISDB=Human_Phenotype_Ontology:HP:0012539,MedGen:C4721532,OMIM:605027,SNOMED_CT:1929004|MeSH:C535575,MedGen:C1168401,OMIM:275355,Orphanet:ORPHA67037|MedGen:C0278701;CLNDN=Non-Hodgkin_lymphoma|Squamous_cell_carcinoma_of_the_head_and_neck|Adenocarcinoma_of_stomach;CLNHGVS=NC_000003.11:g.49412898T>G;CLNREVSTAT=no_assertion_criteria_provided;CLNSIG=Likely_pathogenic;CLNVC=single_nucleotide_variant;CLNVCSO=SO:0001483;  ...      =RHOA:387;MC=SO:0001583|missense_variant,SO:0001623|5_prime_UTR_variant;ORIGIN=2;RS=1057519954\n",
              "98505                                                                                                                                                                                                                                                                                                                                            ALLELEID=363400;CLNDISDB=Human_Phenotype_Ontology:HP:0011459,MedGen:C0152018,Orphanet:ORPHA70482|Human_Phenotype_Ontology:HP:0012539,MedGen:C4721532,OMIM:605027,SNOMED_CT:1929004|Human_Phenotype_Ontology:HP:0100013,MeSH:D001943,MedGen:C1458155,Orphanet:ORPHA180250,SNOMED_CT:126926005|Human_Phenotype_Ontology:HP:0100834,MeSH:D015179,MedGen:C0009404,SNOMED_CT:126837005|MedGen:C0278701;CLNDN=Carcinoma_of_esophagus|Non-Hodgkin_lymphoma|Neoplasm_of_the_breast|Neoplasm_of_the_large_intestine|Adenocarcinoma_of_stomach;CLNHGVS=NC_000003.11:g.49413009C>A;CLNREVSTAT=no_assertion_criteria_provided;CLNSIG=Likely_pathogenic;CLNVC=single_nucleotide_variant;CLNVCSO=SO:0001483;  ...           =RHOA:387;MC=SO:0001583|missense_variant,SO:0001627|intron_variant;ORIGIN=2;RS=1057519953\n",
              "98506                                                                                                                                                                                                                                                                                                                                            ALLELEID=363399;CLNDISDB=Human_Phenotype_Ontology:HP:0011459,MedGen:C0152018,Orphanet:ORPHA70482|Human_Phenotype_Ontology:HP:0012539,MedGen:C4721532,OMIM:605027,SNOMED_CT:1929004|Human_Phenotype_Ontology:HP:0100013,MeSH:D001943,MedGen:C1458155,Orphanet:ORPHA180250,SNOMED_CT:126926005|Human_Phenotype_Ontology:HP:0100834,MeSH:D015179,MedGen:C0009404,SNOMED_CT:126837005|MedGen:C0278701;CLNDN=Carcinoma_of_esophagus|Non-Hodgkin_lymphoma|Neoplasm_of_the_breast|Neoplasm_of_the_large_intestine|Adenocarcinoma_of_stomach;CLNHGVS=NC_000003.11:g.49413009C>T;CLNREVSTAT=no_assertion_criteria_provided;CLNSIG=Likely_pathogenic;CLNVC=single_nucleotide_variant;CLNVCSO=SO:0001483;  ...           =RHOA:387;MC=SO:0001583|missense_variant,SO:0001627|intron_variant;ORIGIN=2;RS=1057519953\n",
              "98507                                                                                                                                                                                                                                                                                                                                            ALLELEID=363398;CLNDISDB=Human_Phenotype_Ontology:HP:0011459,MedGen:C0152018,Orphanet:ORPHA70482|Human_Phenotype_Ontology:HP:0012539,MedGen:C4721532,OMIM:605027,SNOMED_CT:1929004|Human_Phenotype_Ontology:HP:0100013,MeSH:D001943,MedGen:C1458155,Orphanet:ORPHA180250,SNOMED_CT:126926005|Human_Phenotype_Ontology:HP:0100834,MeSH:D015179,MedGen:C0009404,SNOMED_CT:126837005|MedGen:C0278701;CLNDN=Carcinoma_of_esophagus|Non-Hodgkin_lymphoma|Neoplasm_of_the_breast|Neoplasm_of_the_large_intestine|Adenocarcinoma_of_stomach;CLNHGVS=NC_000003.11:g.49413010G>A;CLNREVSTAT=no_assertion_criteria_provided;CLNSIG=Likely_pathogenic;CLNVC=single_nucleotide_variant;CLNVCSO=SO:0001483;  ...           =RHOA:387;MC=SO:0001583|missense_variant,SO:0001627|intron_variant;ORIGIN=2;RS=1057519952\n",
              "108575  ALLELEID=363377;CLNDISDB=Human_Phenotype_Ontology:HP:0012539,MedGen:C4721532,OMIM:605027,SNOMED_CT:1929004|Human_Phenotype_Ontology:HP:0100013,MeSH:D001943,MedGen:C1458155,Orphanet:ORPHA180250,SNOMED_CT:126926005|Human_Phenotype_Ontology:HP:0100834,MeSH:D015179,MedGen:C0009404,SNOMED_CT:126837005|MeSH:C535575,MedGen:C1168401,OMIM:275355,Orphanet:ORPHA67037|MeSH:C562393,MedGen:C0151779,SNOMED_CT:93655004|MeSH:D002583,MedGen:CN236667|MeSH:D005909,MedGen:C0017636,Orphanet:ORPHA360,SNOMED_CT:63634009|MedGen:C0018553,Orphanet:ORPHA201,SNOMED_CT:58037000|MedGen:C0153574,Orphanet:ORPHA213569|MedGen:C3554518,OMIM:615108|MedGen:CN517202;CLNDN=Non-Hodgkin_lymphoma|Neoplasm_of_the_breast|Neoplasm_of_the_large_intestine|Squamous_cell_carcinoma_of_the_head_and_neck|Malignant_melanoma_of_skin|Uterine_cervical_neoplasms|Glioblastoma|Cowden_syndrome|Malignant_neoplasm_of_body_of_uterus|Cowden_syndrome_5|not_provided;CLNHGVS=NC_000003.11:g.178921548G>A;CLNREVSTAT=criteria_provided,_multiple_submitt...  ...                                 =PIK3CA:5290;MC=SO:0001583|missense_variant;ORIGIN=35;RS=1057519942\n",
              "108576                                                                             ALLELEID=363378;CLNDISDB=Human_Phenotype_Ontology:HP:0012539,MedGen:C4721532,OMIM:605027,SNOMED_CT:1929004|Human_Phenotype_Ontology:HP:0100013,MeSH:D001943,MedGen:C1458155,Orphanet:ORPHA180250,SNOMED_CT:126926005|Human_Phenotype_Ontology:HP:0100834,MeSH:D015179,MedGen:C0009404,SNOMED_CT:126837005|MeSH:C535575,MedGen:C1168401,OMIM:275355,Orphanet:ORPHA67037|MeSH:C562393,MedGen:C0151779,SNOMED_CT:93655004|MeSH:D002583,MedGen:CN236667|MeSH:D005909,MedGen:C0017636,Orphanet:ORPHA360,SNOMED_CT:63634009|MedGen:C0153574,Orphanet:ORPHA213569;CLNDN=Non-Hodgkin_lymphoma|Neoplasm_of_the_breast|Neoplasm_of_the_large_intestine|Squamous_cell_carcinoma_of_the_head_and_neck|Malignant_melanoma_of_skin|Uterine_cervical_neoplasms|Glioblastoma|Malignant_neoplasm_of_body_of_uterus;CLNHGVS=NC_000003.11:g.178921549T>C;CLNREVSTAT=no_assertion_criteria_provided;CLNSIG=Likely_pathogenic;CLNVC=single_nucleotide_variant;CLNVCSO=SO:0001483;  ...                                  =PIK3CA:5290;MC=SO:0001583|missense_variant;ORIGIN=2;RS=1057519941\n",
              "108577                              ALLELEID=363376;CLNDISDB=Human_Phenotype_Ontology:HP:0012539,MedGen:C4721532,OMIM:605027,SNOMED_CT:1929004|Human_Phenotype_Ontology:HP:0100013,MeSH:D001943,MedGen:C1458155,Orphanet:ORPHA180250,SNOMED_CT:126926005|Human_Phenotype_Ontology:HP:0100834,MeSH:D015179,MedGen:C0009404,SNOMED_CT:126837005|MeSH:C535575,MedGen:C1168401,OMIM:275355,Orphanet:ORPHA67037|MeSH:C562393,MedGen:C0151779,SNOMED_CT:93655004|MeSH:D002583,MedGen:CN236667|MeSH:D005909,MedGen:C0017636,Orphanet:ORPHA360,SNOMED_CT:63634009|MeSH:D010051,MedGen:CN236629|MedGen:C0153574,Orphanet:ORPHA213569;CLNDN=Non-Hodgkin_lymphoma|Neoplasm_of_the_breast|Neoplasm_of_the_large_intestine|Squamous_cell_carcinoma_of_the_head_and_neck|Malignant_melanoma_of_skin|Uterine_cervical_neoplasms|Glioblastoma|Ovarian_Neoplasms|Malignant_neoplasm_of_body_of_uterus;CLNHGVS=NC_000003.11:g.178921549T>G;CLNREVSTAT=no_assertion_criteria_provided;CLNSIG=Likely_pathogenic;CLNVC=single_nucleotide_variant;CLNVCSO=SO:0001483;  ...                                  =PIK3CA:5290;MC=SO:0001583|missense_variant;ORIGIN=2;RS=1057519941\n",
              "186417                                                                                                                                                                                                                                                                                                                                                                                                                                                                                                                                                                ALLELEID=87659;CLNDISDB=Human_Phenotype_Ontology:HP:0002665,MeSH:D008223,MedGen:C0024299,Orphanet:ORPHA223735|Human_Phenotype_Ontology:HP:0012539,MedGen:C4721532,OMIM:605027,SNOMED_CT:1929004|MeSH:C562393,MedGen:C0151779,SNOMED_CT:93655004;CLNDN=Lymphoma|Non-Hodgkin_lymphoma|Malignant_melanoma_of_skin;CLNHGVS=NC_000007.13:g.148508727T>A;CLNREVSTAT=no_assertion_criteria_provided;CLNSIG=Likely_pathogenic;CLNVC=single_nucleotide_variant;CLNVCSO=SO:0001483;  ...                                     =EZH2:2146;MC=SO:0001583|missense_variant;ORIGIN=2;RS=267601394\n",
              "186418                                                                                                                                                                                                                                                                                                                                                                                                                                                                                                                                                               ALLELEID=363097;CLNDISDB=Human_Phenotype_Ontology:HP:0002665,MeSH:D008223,MedGen:C0024299,Orphanet:ORPHA223735|Human_Phenotype_Ontology:HP:0012539,MedGen:C4721532,OMIM:605027,SNOMED_CT:1929004|MeSH:C562393,MedGen:C0151779,SNOMED_CT:93655004;CLNDN=Lymphoma|Non-Hodgkin_lymphoma|Malignant_melanoma_of_skin;CLNHGVS=NC_000007.13:g.148508727T>G;CLNREVSTAT=no_assertion_criteria_provided;CLNSIG=Likely_pathogenic;CLNVC=single_nucleotide_variant;CLNVCSO=SO:0001483;  ...                                     =EZH2:2146;MC=SO:0001583|missense_variant;ORIGIN=2;RS=267601394\n",
              "186419                                                                                                                                                                                                                                                                                                                                                                                                                                                                                                                                                                ALLELEID=87660;CLNDISDB=Human_Phenotype_Ontology:HP:0002665,MeSH:D008223,MedGen:C0024299,Orphanet:ORPHA223735|Human_Phenotype_Ontology:HP:0012539,MedGen:C4721532,OMIM:605027,SNOMED_CT:1929004|MeSH:C562393,MedGen:C0151779,SNOMED_CT:93655004;CLNDN=Lymphoma|Non-Hodgkin_lymphoma|Malignant_melanoma_of_skin;CLNHGVS=NC_000007.13:g.148508728A>G;CLNREVSTAT=no_assertion_criteria_provided;CLNSIG=Likely_pathogenic;CLNVC=single_nucleotide_variant;CLNVCSO=SO:0001483;  ...                                     =EZH2:2146;MC=SO:0001583|missense_variant;ORIGIN=2;RS=267601395\n",
              "186420                                                                                                                                                                                                                                                                                                                                                                                                                                                                                                                                                               ALLELEID=363096;CLNDISDB=Human_Phenotype_Ontology:HP:0002665,MeSH:D008223,MedGen:C0024299,Orphanet:ORPHA223735|Human_Phenotype_Ontology:HP:0012539,MedGen:C4721532,OMIM:605027,SNOMED_CT:1929004|MeSH:C562393,MedGen:C0151779,SNOMED_CT:93655004;CLNDN=Lymphoma|Non-Hodgkin_lymphoma|Malignant_melanoma_of_skin;CLNHGVS=NC_000007.13:g.148508728A>T;CLNREVSTAT=no_assertion_criteria_provided;CLNSIG=Likely_pathogenic;CLNVC=single_nucleotide_variant;CLNVCSO=SO:0001483;  ...                                     =EZH2:2146;MC=SO:0001583|missense_variant;ORIGIN=2;RS=267601395\n",
              "186421                                                                                                                                                                                                                                                                                                                                                                                                                                                                                                                                                                                                                                                              ALLELEID=363291;CLNDISDB=Human_Phenotype_Ontology:HP:0012539,MedGen:C4721532,OMIM:605027,SNOMED_CT:1929004|MeSH:C562393,MedGen:C0151779,SNOMED_CT:93655004;CLNDN=Non-Hodgkin_lymphoma|Malignant_melanoma_of_skin;CLNHGVS=NC_000007.13:g.148508742T>A;CLNREVSTAT=no_assertion_criteria_provided;CLNSIG=Likely_pathogenic;CLNVC=single_nucleotide_variant;CLNVCSO=SO:0001483;  ...                                    =EZH2:2146;MC=SO:0001583|missense_variant;ORIGIN=2;RS=1057519894\n",
              "186422                                                                                                                                                                                                                                                                                                                                                                                                                                                                                                                                                                                                                                                              ALLELEID=363292;CLNDISDB=Human_Phenotype_Ontology:HP:0012539,MedGen:C4721532,OMIM:605027,SNOMED_CT:1929004|MeSH:C562393,MedGen:C0151779,SNOMED_CT:93655004;CLNDN=Non-Hodgkin_lymphoma|Malignant_melanoma_of_skin;CLNHGVS=NC_000007.13:g.148508742T>G;CLNREVSTAT=no_assertion_criteria_provided;CLNSIG=Likely_pathogenic;CLNVC=single_nucleotide_variant;CLNVCSO=SO:0001483;  ...                                    =EZH2:2146;MC=SO:0001583|missense_variant;ORIGIN=2;RS=1057519894\n",
              "199859                                                                                                                                                                                                                                                                                                                                                             ALLELEID=363338;CLNDISDB=Human_Phenotype_Ontology:HP:0003006,MeSH:D009447,MedGen:C2749484,OMIM:256700,Orphanet:ORPHA635|Human_Phenotype_Ontology:HP:0011459,MedGen:C0152018,Orphanet:ORPHA70482|Human_Phenotype_Ontology:HP:0012539,MedGen:C4721532,OMIM:605027,SNOMED_CT:1929004|Human_Phenotype_Ontology:HP:0030078,MeSH:C538231,MedGen:C0152013|MeSH:C562393,MedGen:C0151779,SNOMED_CT:93655004;CLNDN=Neuroblastoma|Carcinoma_of_esophagus|Non-Hodgkin_lymphoma|Lung_adenocarcinoma|Malignant_melanoma_of_skin;CLNHGVS=NC_000008.10:g.128750636C>T;CLNREVSTAT=no_assertion_criteria_provided;CLNSIG=Likely_pathogenic;CLNVC=single_nucleotide_variant;CLNVCSO=SO:0001483;  ...                                     =MYC:4609;MC=SO:0001583|missense_variant;ORIGIN=2;RS=1057519918\n",
              "199862                                                                                                                                                                                                                                                                                                                                             AF_EXAC=0.01371;ALLELEID=363337;CLNDISDB=Human_Phenotype_Ontology:HP:0003006,MeSH:D009447,MedGen:C2749484,OMIM:256700,Orphanet:ORPHA635|Human_Phenotype_Ontology:HP:0011459,MedGen:C0152018,Orphanet:ORPHA70482|Human_Phenotype_Ontology:HP:0012539,MedGen:C4721532,OMIM:605027,SNOMED_CT:1929004|Human_Phenotype_Ontology:HP:0030078,MeSH:C538231,MedGen:C0152013|MeSH:C562393,MedGen:C0151779,SNOMED_CT:93655004;CLNDN=Neuroblastoma|Carcinoma_of_esophagus|Non-Hodgkin_lymphoma|Lung_adenocarcinoma|Malignant_melanoma_of_skin;CLNHGVS=NC_000008.10:g.128750680A>C;CLNREVSTAT=no_assertion_criteria_provided;CLNSIG=Likely_pathogenic;CLNVC=single_nucleotide_variant;CLNVCSO=SO:0001483;  ...                                      =MYC:4609;MC=SO:0001583|missense_variant;ORIGIN=2;RS=750664148\n",
              "199863                                                                                                                                                                                                                                                               ALLELEID=363179;CLNDISDB=Human_Phenotype_Ontology:HP:0002664,MeSH:D009369,MedGen:C0027651,SNOMED_CT:108369006|Human_Phenotype_Ontology:HP:0003006,MeSH:D009447,MedGen:C2749484,OMIM:256700,Orphanet:ORPHA635|Human_Phenotype_Ontology:HP:0011459,MedGen:C0152018,Orphanet:ORPHA70482|Human_Phenotype_Ontology:HP:0012539,MedGen:C4721532,OMIM:605027,SNOMED_CT:1929004|Human_Phenotype_Ontology:HP:0030078,MeSH:C538231,MedGen:C0152013|MeSH:C562393,MedGen:C0151779,SNOMED_CT:93655004;CLNDN=Neoplasm|Neuroblastoma|Carcinoma_of_esophagus|Non-Hodgkin_lymphoma|Lung_adenocarcinoma|Malignant_melanoma_of_skin;CLNHGVS=NC_000008.10:g.128750681C>T;CLNREVSTAT=no_assertion_criteria_provided;CLNSIG=Likely_pathogenic;CLNVC=single_nucleotide_variant;CLNVCSO=SO:0001483;  ...                                      =MYC:4609;MC=SO:0001583|missense_variant;ORIGIN=2;RS=756091827\n",
              "328483  ALLELEID=363248;CLNDISDB=Human_Phenotype_Ontology:HP:0006775,MeSH:D009101,MedGen:C0026764,OMIM:254500,Orphanet:ORPHA29073,SNOMED_CT:109989006,SNOMED_CT:55921005|Human_Phenotype_Ontology:HP:0012539,MedGen:C4721532,OMIM:605027,SNOMED_CT:1929004|Human_Phenotype_Ontology:HP:0030078,MeSH:C538231,MedGen:C0152013|Human_Phenotype_Ontology:HP:0030357,MeSH:D055752,MedGen:C0149925,OMIM:182280,Orphanet:ORPHA70573|Human_Phenotype_Ontology:HP:0030359,MedGen:C0149782|Human_Phenotype_Ontology:HP:0100834,MeSH:D015179,MedGen:C0009404,SNOMED_CT:126837005|MeSH:C535575,MedGen:C1168401,OMIM:275355,Orphanet:ORPHA67037|MeSH:C562393,MedGen:C0151779,SNOMED_CT:93655004|MedGen:C0278701|MedGen:C0279663;CLNDN=Multiple_myeloma|Non-Hodgkin_lymphoma|Lung_adenocarcinoma|Small_cell_lung_cancer|Squamous_cell_lung_carcinoma|Neoplasm_of_the_large_intestine|Squamous_cell_carcinoma_of_the_head_and_neck|Malignant_melanoma_of_skin|Adenocarcinoma_of_stomach|Ovarian_Serous_Cystadenocarcinoma;CLNHGVS=NC_000015.9:g.45003745A>G...  ...  =B2M:567;MC=SO:0001582|initiatior_codon_variant,SO:0001583|missense_variant;ORIGIN=2;RS=1023835002\n",
              "328484  ALLELEID=363249;CLNDISDB=Human_Phenotype_Ontology:HP:0006775,MeSH:D009101,MedGen:C0026764,OMIM:254500,Orphanet:ORPHA29073,SNOMED_CT:109989006,SNOMED_CT:55921005|Human_Phenotype_Ontology:HP:0012539,MedGen:C4721532,OMIM:605027,SNOMED_CT:1929004|Human_Phenotype_Ontology:HP:0030078,MeSH:C538231,MedGen:C0152013|Human_Phenotype_Ontology:HP:0030357,MeSH:D055752,MedGen:C0149925,OMIM:182280,Orphanet:ORPHA70573|Human_Phenotype_Ontology:HP:0030359,MedGen:C0149782|Human_Phenotype_Ontology:HP:0100834,MeSH:D015179,MedGen:C0009404,SNOMED_CT:126837005|MeSH:C535575,MedGen:C1168401,OMIM:275355,Orphanet:ORPHA67037|MeSH:C562393,MedGen:C0151779,SNOMED_CT:93655004|MedGen:C0278701|MedGen:C0279663;CLNDN=Multiple_myeloma|Non-Hodgkin_lymphoma|Lung_adenocarcinoma|Small_cell_lung_cancer|Squamous_cell_lung_carcinoma|Neoplasm_of_the_large_intestine|Squamous_cell_carcinoma_of_the_head_and_neck|Malignant_melanoma_of_skin|Adenocarcinoma_of_stomach|Ovarian_Serous_Cystadenocarcinoma;CLNHGVS=NC_000015.9:g.45003745A>T...  ...  =B2M:567;MC=SO:0001582|initiatior_codon_variant,SO:0001583|missense_variant;ORIGIN=2;RS=1023835002\n",
              "328485  ALLELEID=363250;CLNDISDB=Human_Phenotype_Ontology:HP:0006775,MeSH:D009101,MedGen:C0026764,OMIM:254500,Orphanet:ORPHA29073,SNOMED_CT:109989006,SNOMED_CT:55921005|Human_Phenotype_Ontology:HP:0012539,MedGen:C4721532,OMIM:605027,SNOMED_CT:1929004|Human_Phenotype_Ontology:HP:0030078,MeSH:C538231,MedGen:C0152013|Human_Phenotype_Ontology:HP:0030357,MeSH:D055752,MedGen:C0149925,OMIM:182280,Orphanet:ORPHA70573|Human_Phenotype_Ontology:HP:0030359,MedGen:C0149782|Human_Phenotype_Ontology:HP:0100834,MeSH:D015179,MedGen:C0009404,SNOMED_CT:126837005|MeSH:C535575,MedGen:C1168401,OMIM:275355,Orphanet:ORPHA67037|MeSH:C562393,MedGen:C0151779,SNOMED_CT:93655004|MedGen:C0278701|MedGen:C0279663;CLNDN=Multiple_myeloma|Non-Hodgkin_lymphoma|Lung_adenocarcinoma|Small_cell_lung_cancer|Squamous_cell_lung_carcinoma|Neoplasm_of_the_large_intestine|Squamous_cell_carcinoma_of_the_head_and_neck|Malignant_melanoma_of_skin|Adenocarcinoma_of_stomach|Ovarian_Serous_Cystadenocarcinoma;CLNHGVS=NC_000015.9:g.45003746T>C...  ...  =B2M:567;MC=SO:0001582|initiatior_codon_variant,SO:0001583|missense_variant;ORIGIN=2;RS=1057519879\n",
              "328486  ALLELEID=363251;CLNDISDB=Human_Phenotype_Ontology:HP:0006775,MeSH:D009101,MedGen:C0026764,OMIM:254500,Orphanet:ORPHA29073,SNOMED_CT:109989006,SNOMED_CT:55921005|Human_Phenotype_Ontology:HP:0012539,MedGen:C4721532,OMIM:605027,SNOMED_CT:1929004|Human_Phenotype_Ontology:HP:0030078,MeSH:C538231,MedGen:C0152013|Human_Phenotype_Ontology:HP:0030357,MeSH:D055752,MedGen:C0149925,OMIM:182280,Orphanet:ORPHA70573|Human_Phenotype_Ontology:HP:0030359,MedGen:C0149782|Human_Phenotype_Ontology:HP:0100834,MeSH:D015179,MedGen:C0009404,SNOMED_CT:126837005|MeSH:C535575,MedGen:C1168401,OMIM:275355,Orphanet:ORPHA67037|MeSH:C562393,MedGen:C0151779,SNOMED_CT:93655004|MedGen:C0278701|MedGen:C0279663;CLNDN=Multiple_myeloma|Non-Hodgkin_lymphoma|Lung_adenocarcinoma|Small_cell_lung_cancer|Squamous_cell_lung_carcinoma|Neoplasm_of_the_large_intestine|Squamous_cell_carcinoma_of_the_head_and_neck|Malignant_melanoma_of_skin|Adenocarcinoma_of_stomach|Ovarian_Serous_Cystadenocarcinoma;CLNHGVS=NC_000015.9:g.45003746T>G...  ...  =B2M:567;MC=SO:0001582|initiatior_codon_variant,SO:0001583|missense_variant;ORIGIN=2;RS=1057519879\n",
              "328487  ALLELEID=363247;CLNDISDB=Human_Phenotype_Ontology:HP:0006775,MeSH:D009101,MedGen:C0026764,OMIM:254500,Orphanet:ORPHA29073,SNOMED_CT:109989006,SNOMED_CT:55921005|Human_Phenotype_Ontology:HP:0012539,MedGen:C4721532,OMIM:605027,SNOMED_CT:1929004|Human_Phenotype_Ontology:HP:0030078,MeSH:C538231,MedGen:C0152013|Human_Phenotype_Ontology:HP:0030357,MeSH:D055752,MedGen:C0149925,OMIM:182280,Orphanet:ORPHA70573|Human_Phenotype_Ontology:HP:0030359,MedGen:C0149782|Human_Phenotype_Ontology:HP:0100834,MeSH:D015179,MedGen:C0009404,SNOMED_CT:126837005|MeSH:C535575,MedGen:C1168401,OMIM:275355,Orphanet:ORPHA67037|MeSH:C562393,MedGen:C0151779,SNOMED_CT:93655004|MedGen:C0278701|MedGen:C0279663;CLNDN=Multiple_myeloma|Non-Hodgkin_lymphoma|Lung_adenocarcinoma|Small_cell_lung_cancer|Squamous_cell_lung_carcinoma|Neoplasm_of_the_large_intestine|Squamous_cell_carcinoma_of_the_head_and_neck|Malignant_melanoma_of_skin|Adenocarcinoma_of_stomach|Ovarian_Serous_Cystadenocarcinoma;CLNHGVS=NC_000015.9:g.45003747G>A...  ...  =B2M:567;MC=SO:0001582|initiatior_codon_variant,SO:0001583|missense_variant;ORIGIN=2;RS=1057519877\n",
              "333283                                                                                                                                                                                                                                                                                                                                                                            ALLELEID=363327;CLNDISDB=Human_Phenotype_Ontology:HP:0012539,MedGen:C4721532,OMIM:605027,SNOMED_CT:1929004|Human_Phenotype_Ontology:HP:0030078,MeSH:C538231,MedGen:C0152013|MeSH:C535575,MedGen:C1168401,OMIM:275355,Orphanet:ORPHA67037|MeSH:C562393,MedGen:C0151779,SNOMED_CT:93655004|MedGen:C0007112|MedGen:C0278701;CLNDN=Non-Hodgkin_lymphoma|Lung_adenocarcinoma|Squamous_cell_carcinoma_of_the_head_and_neck|Malignant_melanoma_of_skin|Adenocarcinoma_of_prostate|Adenocarcinoma_of_stomach;CLNHGVS=NC_000015.9:g.66727454A>C;CLNREVSTAT=no_assertion_criteria_provided;CLNSIG=Likely_pathogenic;CLNVC=single_nucleotide_variant;CLNVCSO=SO:0001483;  ...                                  =MAP2K1:5604;MC=SO:0001583|missense_variant;ORIGIN=2;RS=1057519909\n",
              "333284                                                                                                                                                                                                                                                                                        ALLELEID=363053;CLNDISDB=Human_Phenotype_Ontology:HP:0012056,MeSH:D008545,MedGen:C0025202|Human_Phenotype_Ontology:HP:0012539,MedGen:C4721532,OMIM:605027,SNOMED_CT:1929004|Human_Phenotype_Ontology:HP:0030078,MeSH:C538231,MedGen:C0152013|MeSH:C535575,MedGen:C1168401,OMIM:275355,Orphanet:ORPHA67037|MeSH:C562393,MedGen:C0151779,SNOMED_CT:93655004|MedGen:C0007112|MedGen:C0278701;CLNDN=Cutaneous_melanoma|Non-Hodgkin_lymphoma|Lung_adenocarcinoma|Squamous_cell_carcinoma_of_the_head_and_neck|Malignant_melanoma_of_skin|Adenocarcinoma_of_prostate|Adenocarcinoma_of_stomach;CLNHGVS=NC_000015.9:g.66727455G>C;CLNREVSTAT=no_assertion_criteria_provided;CLNSIG=Likely_pathogenic;CLNVC=single_nucleotide_variant;CLNVCSO=SO:0001483;  ...                                   =MAP2K1:5604;MC=SO:0001583|missense_variant;ORIGIN=2;RS=869025608\n",
              "369881  ALLELEID=363542;CLNDISDB=Human_Phenotype_Ontology:HP:0005584,MeSH:D002292,MedGen:C0007134,OMIM:605074,Orphanet:ORPHA217071,SNOMED_CT:41607009|Human_Phenotype_Ontology:HP:0006725,MedGen:C0281361|Human_Phenotype_Ontology:HP:0006739,MedGen:C0553723|Human_Phenotype_Ontology:HP:0006740,MedGen:C0279680|Human_Phenotype_Ontology:HP:0010796,MedGen:C0677865|Human_Phenotype_Ontology:HP:0011459,MedGen:C0152018,Orphanet:ORPHA70482|Human_Phenotype_Ontology:HP:0012539,MedGen:C4721532,OMIM:605027,SNOMED_CT:1929004|Human_Phenotype_Ontology:HP:0030078,MeSH:C538231,MedGen:C0152013|Human_Phenotype_Ontology:HP:0030692,MeSH:D001932,MedGen:C0006118,SNOMED_CT:126952004|Human_Phenotype_Ontology:HP:0100013,MeSH:D001943,MedGen:C1458155,Orphanet:ORPHA180250,SNOMED_CT:126926005|Human_Phenotype_Ontology:HP:0100834,MeSH:D015179,MedGen:C0009404,SNOMED_CT:126837005|MeSH:C535575,MedGen:C1168401,OMIM:275355,Orphanet:ORPHA67037|MeSH:C538614,MedGen:C1336078|MeSH:C562393,MedGen:C0151779,SNOMED_CT:93655004|MeSH:D005909,...  ...                                      =TP53:7157;MC=SO:0001583|missense_variant;ORIGIN=2;RS=28934573\n",
              "369883  ALLELEID=363544;CLNDISDB=Human_Phenotype_Ontology:HP:0005584,MeSH:D002292,MedGen:C0007134,OMIM:605074,Orphanet:ORPHA217071,SNOMED_CT:41607009|Human_Phenotype_Ontology:HP:0006725,MedGen:C0281361|Human_Phenotype_Ontology:HP:0006739,MedGen:C0553723|Human_Phenotype_Ontology:HP:0006740,MedGen:C0279680|Human_Phenotype_Ontology:HP:0010796,MedGen:C0677865|Human_Phenotype_Ontology:HP:0011459,MedGen:C0152018,Orphanet:ORPHA70482|Human_Phenotype_Ontology:HP:0012539,MedGen:C4721532,OMIM:605027,SNOMED_CT:1929004|Human_Phenotype_Ontology:HP:0030078,MeSH:C538231,MedGen:C0152013|Human_Phenotype_Ontology:HP:0030692,MeSH:D001932,MedGen:C0006118,SNOMED_CT:126952004|Human_Phenotype_Ontology:HP:0100013,MeSH:D001943,MedGen:C1458155,Orphanet:ORPHA180250,SNOMED_CT:126926005|Human_Phenotype_Ontology:HP:0100834,MeSH:D015179,MedGen:C0009404,SNOMED_CT:126837005|MeSH:C535575,MedGen:C1168401,OMIM:275355,Orphanet:ORPHA67037|MeSH:C538614,MedGen:C1336078|MeSH:C562393,MedGen:C0151779,SNOMED_CT:93655004|MeSH:D005909,...  ...                                    =TP53:7157;MC=SO:0001583|missense_variant;ORIGIN=2;RS=1057520002\n",
              "369884  ALLELEID=363543;CLNDISDB=Human_Phenotype_Ontology:HP:0005584,MeSH:D002292,MedGen:C0007134,OMIM:605074,Orphanet:ORPHA217071,SNOMED_CT:41607009|Human_Phenotype_Ontology:HP:0006725,MedGen:C0281361|Human_Phenotype_Ontology:HP:0006739,MedGen:C0553723|Human_Phenotype_Ontology:HP:0006740,MedGen:C0279680|Human_Phenotype_Ontology:HP:0010796,MedGen:C0677865|Human_Phenotype_Ontology:HP:0011459,MedGen:C0152018,Orphanet:ORPHA70482|Human_Phenotype_Ontology:HP:0012539,MedGen:C4721532,OMIM:605027,SNOMED_CT:1929004|Human_Phenotype_Ontology:HP:0030078,MeSH:C538231,MedGen:C0152013|Human_Phenotype_Ontology:HP:0030692,MeSH:D001932,MedGen:C0006118,SNOMED_CT:126952004|Human_Phenotype_Ontology:HP:0100013,MeSH:D001943,MedGen:C1458155,Orphanet:ORPHA180250,SNOMED_CT:126926005|Human_Phenotype_Ontology:HP:0100834,MeSH:D015179,MedGen:C0009404,SNOMED_CT:126837005|MeSH:C535575,MedGen:C1168401,OMIM:275355,Orphanet:ORPHA67037|MeSH:C538614,MedGen:C1336078|MeSH:C562393,MedGen:C0151779,SNOMED_CT:93655004|MeSH:D005909,...  ...                                    =TP53:7157;MC=SO:0001583|missense_variant;ORIGIN=2;RS=1057520002\n",
              "370045  ALLELEID=363561;CLNDISDB=Human_Phenotype_Ontology:HP:0001402,MedGen:C2239176,OMIM:114550,Orphanet:ORPHA88673,SNOMED_CT:187769009,SNOMED_CT:25370001|Human_Phenotype_Ontology:HP:0005584,MeSH:D002292,MedGen:C0007134,OMIM:605074,Orphanet:ORPHA217071,SNOMED_CT:41607009|Human_Phenotype_Ontology:HP:0006725,MedGen:C0281361|Human_Phenotype_Ontology:HP:0006775,MeSH:D009101,MedGen:C0026764,OMIM:254500,Orphanet:ORPHA29073,SNOMED_CT:109989006,SNOMED_CT:55921005|Human_Phenotype_Ontology:HP:0011459,MedGen:C0152018,Orphanet:ORPHA70482|Human_Phenotype_Ontology:HP:0012539,MedGen:C4721532,OMIM:605027,SNOMED_CT:1929004|Human_Phenotype_Ontology:HP:0030078,MeSH:C538231,MedGen:C0152013|Human_Phenotype_Ontology:HP:0030359,MedGen:C0149782|Human_Phenotype_Ontology:HP:0030692,MeSH:D001932,MedGen:C0006118,SNOMED_CT:126952004|Human_Phenotype_Ontology:HP:0100013,MeSH:D001943,MedGen:C1458155,Orphanet:ORPHA180250,SNOMED_CT:126926005|Human_Phenotype_Ontology:HP:0100834,MeSH:D015179,MedGen:C0009404,SNOMED_CT:126837...  ...                                    =TP53:7157;MC=SO:0001583|missense_variant;ORIGIN=2;RS=1057520007\n",
              "370046  ALLELEID=363560;CLNDISDB=Human_Phenotype_Ontology:HP:0001402,MedGen:C2239176,OMIM:114550,Orphanet:ORPHA88673,SNOMED_CT:187769009,SNOMED_CT:25370001|Human_Phenotype_Ontology:HP:0005584,MeSH:D002292,MedGen:C0007134,OMIM:605074,Orphanet:ORPHA217071,SNOMED_CT:41607009|Human_Phenotype_Ontology:HP:0006725,MedGen:C0281361|Human_Phenotype_Ontology:HP:0006775,MeSH:D009101,MedGen:C0026764,OMIM:254500,Orphanet:ORPHA29073,SNOMED_CT:109989006,SNOMED_CT:55921005|Human_Phenotype_Ontology:HP:0011459,MedGen:C0152018,Orphanet:ORPHA70482|Human_Phenotype_Ontology:HP:0012539,MedGen:C4721532,OMIM:605027,SNOMED_CT:1929004|Human_Phenotype_Ontology:HP:0030078,MeSH:C538231,MedGen:C0152013|Human_Phenotype_Ontology:HP:0030359,MedGen:C0149782|Human_Phenotype_Ontology:HP:0030692,MeSH:D001932,MedGen:C0006118,SNOMED_CT:126952004|Human_Phenotype_Ontology:HP:0100013,MeSH:D001943,MedGen:C1458155,Orphanet:ORPHA180250,SNOMED_CT:126926005|Human_Phenotype_Ontology:HP:0100834,MeSH:D015179,MedGen:C0009404,SNOMED_CT:126837...  ...                                    =TP53:7157;MC=SO:0001583|missense_variant;ORIGIN=3;RS=1057520007\n",
              "370047  ALLELEID=363562;CLNDISDB=Human_Phenotype_Ontology:HP:0001402,MedGen:C2239176,OMIM:114550,Orphanet:ORPHA88673,SNOMED_CT:187769009,SNOMED_CT:25370001|Human_Phenotype_Ontology:HP:0005584,MeSH:D002292,MedGen:C0007134,OMIM:605074,Orphanet:ORPHA217071,SNOMED_CT:41607009|Human_Phenotype_Ontology:HP:0006725,MedGen:C0281361|Human_Phenotype_Ontology:HP:0006775,MeSH:D009101,MedGen:C0026764,OMIM:254500,Orphanet:ORPHA29073,SNOMED_CT:109989006,SNOMED_CT:55921005|Human_Phenotype_Ontology:HP:0011459,MedGen:C0152018,Orphanet:ORPHA70482|Human_Phenotype_Ontology:HP:0012539,MedGen:C4721532,OMIM:605027,SNOMED_CT:1929004|Human_Phenotype_Ontology:HP:0030078,MeSH:C538231,MedGen:C0152013|Human_Phenotype_Ontology:HP:0030359,MedGen:C0149782|Human_Phenotype_Ontology:HP:0030692,MeSH:D001932,MedGen:C0006118,SNOMED_CT:126952004|Human_Phenotype_Ontology:HP:0100013,MeSH:D001943,MedGen:C1458155,Orphanet:ORPHA180250,SNOMED_CT:126926005|Human_Phenotype_Ontology:HP:0100834,MeSH:D015179,MedGen:C0009404,SNOMED_CT:126837...  ...                                    =TP53:7157;MC=SO:0001583|missense_variant;ORIGIN=2;RS=1057520007\n",
              "\n",
              "[34 rows x 3 columns]"
            ]
          },
          "metadata": {
            "tags": []
          },
          "execution_count": 61
        }
      ]
    },
    {
      "cell_type": "markdown",
      "metadata": {
        "id": "JvSc7n_z4lQs"
      },
      "source": [
        "The unique genes are:\n",
        "\n",
        "NRAS:4893\n",
        "\n",
        "CASP10:843\n",
        "\n",
        "RHOA:387\n",
        "\n",
        "PIK3CA\n",
        "\n",
        "EZH2:2146\n",
        "\n",
        "MYC:4609\n",
        "\n",
        "B2M:567\n",
        "\n",
        "MAP2K1:5604\n",
        "\n",
        "TP53:7157\n",
        "\n",
        "There are a total of 9 unique genes that have these variants."
      ]
    },
    {
      "cell_type": "markdown",
      "metadata": {
        "id": "pUBoZnMA5x29"
      },
      "source": [
        "## 1.3 How many unique pathogenic (and likely pathogenic) non-Hodgkin lymphoma variants do you find in TCGA DLBCL mutation data? (3 pts)"
      ]
    },
    {
      "cell_type": "code",
      "metadata": {
        "id": "ZjRWBQAt3O5x"
      },
      "source": [
        "mutations_file = DATA / \"dlbc_tcga_mutation.txt\""
      ],
      "execution_count": null,
      "outputs": []
    },
    {
      "cell_type": "code",
      "metadata": {
        "id": "PVLXYimqMmfH",
        "outputId": "eebc9e03-cc0e-4d52-8725-e11404efa4b2",
        "colab": {
          "base_uri": "https://localhost:8080/"
        }
      },
      "source": [
        "mutations = pd.read_csv(DATA / mutations_file, sep=\"\\t\", comment=\"#\")\n",
        "mutations.shape"
      ],
      "execution_count": null,
      "outputs": [
        {
          "output_type": "stream",
          "text": [
            "/usr/local/lib/python3.6/dist-packages/IPython/core/interactiveshell.py:2718: DtypeWarning: Columns (38,50,67,80,81,82,83,84,88,89,91,98,99,111,140,157,187) have mixed types.Specify dtype option on import or set low_memory=False.\n",
            "  interactivity=interactivity, compiler=compiler, result=result)\n"
          ],
          "name": "stderr"
        },
        {
          "output_type": "execute_result",
          "data": {
            "text/plain": [
              "(16918, 312)"
            ]
          },
          "metadata": {
            "tags": []
          },
          "execution_count": 67
        }
      ]
    },
    {
      "cell_type": "code",
      "metadata": {
        "id": "_y-0hG1AMt82",
        "outputId": "756e8458-7ce4-48c7-b9dd-66b1f910dbe5",
        "colab": {
          "base_uri": "https://localhost:8080/",
          "height": 355
        }
      },
      "source": [
        "mutations.head()"
      ],
      "execution_count": null,
      "outputs": [
        {
          "output_type": "execute_result",
          "data": {
            "text/html": [
              "<div>\n",
              "<style scoped>\n",
              "    .dataframe tbody tr th:only-of-type {\n",
              "        vertical-align: middle;\n",
              "    }\n",
              "\n",
              "    .dataframe tbody tr th {\n",
              "        vertical-align: top;\n",
              "    }\n",
              "\n",
              "    .dataframe thead th {\n",
              "        text-align: right;\n",
              "    }\n",
              "</style>\n",
              "<table border=\"1\" class=\"dataframe\">\n",
              "  <thead>\n",
              "    <tr style=\"text-align: right;\">\n",
              "      <th></th>\n",
              "      <th>gene</th>\n",
              "      <th>entrez_id</th>\n",
              "      <th>center</th>\n",
              "      <th>ncbi_build</th>\n",
              "      <th>chrom</th>\n",
              "      <th>start</th>\n",
              "      <th>end</th>\n",
              "      <th>strand</th>\n",
              "      <th>variant_classification</th>\n",
              "      <th>variant_type</th>\n",
              "      <th>ref</th>\n",
              "      <th>tumor_seq_allele1</th>\n",
              "      <th>tumor_seq_allele2</th>\n",
              "      <th>dbsnp_rs</th>\n",
              "      <th>dbsnp_val_status</th>\n",
              "      <th>tumor_sample_barcode</th>\n",
              "      <th>matched_norm_sample_barcode</th>\n",
              "      <th>match_norm_seq_allele1</th>\n",
              "      <th>match_norm_seq_allele2</th>\n",
              "      <th>tumor_validation_allele1</th>\n",
              "      <th>tumor_validation_allele2</th>\n",
              "      <th>match_norm_validation_allele1</th>\n",
              "      <th>match_norm_validation_allele2</th>\n",
              "      <th>verification_status</th>\n",
              "      <th>validation_status</th>\n",
              "      <th>mutation_status</th>\n",
              "      <th>sequencing_phase</th>\n",
              "      <th>sequence_source</th>\n",
              "      <th>validation_method</th>\n",
              "      <th>score</th>\n",
              "      <th>bam_file</th>\n",
              "      <th>sequencer</th>\n",
              "      <th>tumor_sample_uuid</th>\n",
              "      <th>matched_norm_sample_uuid</th>\n",
              "      <th>genome_change</th>\n",
              "      <th>annotation_transcript</th>\n",
              "      <th>transcript_strand</th>\n",
              "      <th>transcript_exon</th>\n",
              "      <th>transcript_position</th>\n",
              "      <th>cdna_change</th>\n",
              "      <th>...</th>\n",
              "      <th>i_dbnsfp_unisnp_ids</th>\n",
              "      <th>i_dbnsfp_uniprot_aapos</th>\n",
              "      <th>i_dbnsfp_uniprot_acc</th>\n",
              "      <th>i_dbnsfp_uniprot_id</th>\n",
              "      <th>i_dbnsfp_aaalt</th>\n",
              "      <th>i_dbnsfp_aapos</th>\n",
              "      <th>i_dbnsfp_aapos_fathmm</th>\n",
              "      <th>i_dbnsfp_aapos_sift</th>\n",
              "      <th>i_dbnsfp_aaref</th>\n",
              "      <th>i_dbnsfp_cds_strand</th>\n",
              "      <th>i_dbnsfp_codonpos</th>\n",
              "      <th>i_dbnsfp_fold-degenerate</th>\n",
              "      <th>i_dbnsfp_genename</th>\n",
              "      <th>i_dbnsfp_hg18_pos(1-coor)</th>\n",
              "      <th>i_dbnsfp_phastcons100way_vertebrate</th>\n",
              "      <th>i_dbnsfp_phastcons100way_vertebrate_rankscore</th>\n",
              "      <th>i_dbnsfp_phastcons46way_placental</th>\n",
              "      <th>i_dbnsfp_phastcons46way_placental_rankscore</th>\n",
              "      <th>i_dbnsfp_phastcons46way_primate</th>\n",
              "      <th>i_dbnsfp_phastcons46way_primate_rankscore</th>\n",
              "      <th>i_dbnsfp_phylop100way_vertebrate</th>\n",
              "      <th>i_dbnsfp_phylop100way_vertebrate_rankscore</th>\n",
              "      <th>i_dbnsfp_phylop46way_placental</th>\n",
              "      <th>i_dbnsfp_phylop46way_placental_rankscore</th>\n",
              "      <th>i_dbnsfp_phylop46way_primate</th>\n",
              "      <th>i_dbnsfp_phylop46way_primate_rankscore</th>\n",
              "      <th>i_dbnsfp_refcodon</th>\n",
              "      <th>i_dbsnp_af</th>\n",
              "      <th>i_dbsnp_popfreq</th>\n",
              "      <th>i_dbsnp_strength</th>\n",
              "      <th>i_entrez_gene_id.1</th>\n",
              "      <th>i_gc_content_full</th>\n",
              "      <th>i_gencode_transcript_name</th>\n",
              "      <th>i_gencode_transcript_status</th>\n",
              "      <th>i_gencode_transcript_tags</th>\n",
              "      <th>i_gencode_transcript_type</th>\n",
              "      <th>i_gene_type</th>\n",
              "      <th>i_havana_transcript</th>\n",
              "      <th>i_refseq_mrna_id</th>\n",
              "      <th>i_secondary_variant_classification</th>\n",
              "    </tr>\n",
              "  </thead>\n",
              "  <tbody>\n",
              "    <tr>\n",
              "      <th>0</th>\n",
              "      <td>ZNF343</td>\n",
              "      <td>79175</td>\n",
              "      <td>hgsc.bcm.edu</td>\n",
              "      <td>37</td>\n",
              "      <td>20</td>\n",
              "      <td>2473385</td>\n",
              "      <td>2473385</td>\n",
              "      <td>+</td>\n",
              "      <td>Frame_Shift_Del</td>\n",
              "      <td>DEL</td>\n",
              "      <td>T</td>\n",
              "      <td>T</td>\n",
              "      <td>-</td>\n",
              "      <td>NaN</td>\n",
              "      <td>NaN</td>\n",
              "      <td>TCGA-FF-8061-01A-11D-2210-10</td>\n",
              "      <td>TCGA-FF-8061-10A-01D-2210-10</td>\n",
              "      <td>T</td>\n",
              "      <td>T</td>\n",
              "      <td>.</td>\n",
              "      <td>.</td>\n",
              "      <td>.</td>\n",
              "      <td>.</td>\n",
              "      <td>Unknown</td>\n",
              "      <td>Untested</td>\n",
              "      <td>Somatic</td>\n",
              "      <td>Phase_I</td>\n",
              "      <td>WXS</td>\n",
              "      <td>none</td>\n",
              "      <td>.</td>\n",
              "      <td>NaN</td>\n",
              "      <td>Illumina HiSeq</td>\n",
              "      <td>a29278af-7ecf-403e-b6a9-623ea7879d05</td>\n",
              "      <td>08470796-8ff6-4e18-98d5-f9ee0d079517</td>\n",
              "      <td>g.chr20:2473385delT</td>\n",
              "      <td>ENST00000278772.4</td>\n",
              "      <td>-</td>\n",
              "      <td>5.0</td>\n",
              "      <td>751</td>\n",
              "      <td>c.264delA</td>\n",
              "      <td>...</td>\n",
              "      <td>NaN</td>\n",
              "      <td>NaN</td>\n",
              "      <td>NaN</td>\n",
              "      <td>NaN</td>\n",
              "      <td>NaN</td>\n",
              "      <td>NaN</td>\n",
              "      <td>NaN</td>\n",
              "      <td>NaN</td>\n",
              "      <td>NaN</td>\n",
              "      <td>NaN</td>\n",
              "      <td>NaN</td>\n",
              "      <td>NaN</td>\n",
              "      <td>NaN</td>\n",
              "      <td>NaN</td>\n",
              "      <td>NaN</td>\n",
              "      <td>NaN</td>\n",
              "      <td>NaN</td>\n",
              "      <td>NaN</td>\n",
              "      <td>NaN</td>\n",
              "      <td>NaN</td>\n",
              "      <td>NaN</td>\n",
              "      <td>NaN</td>\n",
              "      <td>NaN</td>\n",
              "      <td>NaN</td>\n",
              "      <td>NaN</td>\n",
              "      <td>NaN</td>\n",
              "      <td>NaN</td>\n",
              "      <td>.</td>\n",
              "      <td>.</td>\n",
              "      <td>none</td>\n",
              "      <td>NaN</td>\n",
              "      <td>0.408</td>\n",
              "      <td>ZNF343-002</td>\n",
              "      <td>KNOWN</td>\n",
              "      <td>basic|appris_principal|CCDS</td>\n",
              "      <td>protein_coding</td>\n",
              "      <td>protein_coding</td>\n",
              "      <td>OTTHUMT00000077617.1</td>\n",
              "      <td>NM_024325</td>\n",
              "      <td>NaN</td>\n",
              "    </tr>\n",
              "    <tr>\n",
              "      <th>1</th>\n",
              "      <td>ZNF223</td>\n",
              "      <td>7766</td>\n",
              "      <td>hgsc.bcm.edu</td>\n",
              "      <td>37</td>\n",
              "      <td>19</td>\n",
              "      <td>44570830</td>\n",
              "      <td>44570831</td>\n",
              "      <td>+</td>\n",
              "      <td>Frame_Shift_Del</td>\n",
              "      <td>DEL</td>\n",
              "      <td>AG</td>\n",
              "      <td>AG</td>\n",
              "      <td>-</td>\n",
              "      <td>rs568496344</td>\n",
              "      <td>byFrequency</td>\n",
              "      <td>TCGA-FF-8061-01A-11D-2210-10</td>\n",
              "      <td>TCGA-FF-8061-10A-01D-2210-10</td>\n",
              "      <td>AG</td>\n",
              "      <td>AG</td>\n",
              "      <td>.</td>\n",
              "      <td>.</td>\n",
              "      <td>.</td>\n",
              "      <td>.</td>\n",
              "      <td>Unknown</td>\n",
              "      <td>Untested</td>\n",
              "      <td>Somatic</td>\n",
              "      <td>Phase_I</td>\n",
              "      <td>WXS</td>\n",
              "      <td>none</td>\n",
              "      <td>.</td>\n",
              "      <td>NaN</td>\n",
              "      <td>Illumina HiSeq</td>\n",
              "      <td>a29278af-7ecf-403e-b6a9-623ea7879d05</td>\n",
              "      <td>08470796-8ff6-4e18-98d5-f9ee0d079517</td>\n",
              "      <td>g.chr19:44570830_44570831delAG</td>\n",
              "      <td>ENST00000434772.3</td>\n",
              "      <td>+</td>\n",
              "      <td>5.0</td>\n",
              "      <td>1104_1105</td>\n",
              "      <td>c.849_850delAG</td>\n",
              "      <td>...</td>\n",
              "      <td>NaN</td>\n",
              "      <td>NaN</td>\n",
              "      <td>NaN</td>\n",
              "      <td>NaN</td>\n",
              "      <td>NaN</td>\n",
              "      <td>NaN</td>\n",
              "      <td>NaN</td>\n",
              "      <td>NaN</td>\n",
              "      <td>NaN</td>\n",
              "      <td>NaN</td>\n",
              "      <td>NaN</td>\n",
              "      <td>NaN</td>\n",
              "      <td>NaN</td>\n",
              "      <td>NaN</td>\n",
              "      <td>NaN</td>\n",
              "      <td>NaN</td>\n",
              "      <td>NaN</td>\n",
              "      <td>NaN</td>\n",
              "      <td>NaN</td>\n",
              "      <td>NaN</td>\n",
              "      <td>NaN</td>\n",
              "      <td>NaN</td>\n",
              "      <td>NaN</td>\n",
              "      <td>NaN</td>\n",
              "      <td>NaN</td>\n",
              "      <td>NaN</td>\n",
              "      <td>NaN</td>\n",
              "      <td>.</td>\n",
              "      <td>.</td>\n",
              "      <td>none</td>\n",
              "      <td>NaN</td>\n",
              "      <td>0.421</td>\n",
              "      <td>ZNF223-001</td>\n",
              "      <td>KNOWN</td>\n",
              "      <td>basic|appris_principal|CCDS</td>\n",
              "      <td>protein_coding</td>\n",
              "      <td>protein_coding</td>\n",
              "      <td>OTTHUMT00000460469.2</td>\n",
              "      <td>NaN</td>\n",
              "      <td>NaN</td>\n",
              "    </tr>\n",
              "    <tr>\n",
              "      <th>2</th>\n",
              "      <td>GAST</td>\n",
              "      <td>2520</td>\n",
              "      <td>hgsc.bcm.edu</td>\n",
              "      <td>37</td>\n",
              "      <td>17</td>\n",
              "      <td>39872062</td>\n",
              "      <td>39872064</td>\n",
              "      <td>+</td>\n",
              "      <td>In_Frame_Del</td>\n",
              "      <td>DEL</td>\n",
              "      <td>GAA</td>\n",
              "      <td>GAA</td>\n",
              "      <td>-</td>\n",
              "      <td>NaN</td>\n",
              "      <td>NaN</td>\n",
              "      <td>TCGA-FF-8061-01A-11D-2210-10</td>\n",
              "      <td>TCGA-FF-8061-10A-01D-2210-10</td>\n",
              "      <td>GAA</td>\n",
              "      <td>GAA</td>\n",
              "      <td>.</td>\n",
              "      <td>.</td>\n",
              "      <td>.</td>\n",
              "      <td>.</td>\n",
              "      <td>Unknown</td>\n",
              "      <td>Untested</td>\n",
              "      <td>Somatic</td>\n",
              "      <td>Phase_I</td>\n",
              "      <td>WXS</td>\n",
              "      <td>none</td>\n",
              "      <td>.</td>\n",
              "      <td>NaN</td>\n",
              "      <td>Illumina HiSeq</td>\n",
              "      <td>a29278af-7ecf-403e-b6a9-623ea7879d05</td>\n",
              "      <td>08470796-8ff6-4e18-98d5-f9ee0d079517</td>\n",
              "      <td>g.chr17:39872062_39872064delGAA</td>\n",
              "      <td>ENST00000329402.3</td>\n",
              "      <td>+</td>\n",
              "      <td>3.0</td>\n",
              "      <td>311_313</td>\n",
              "      <td>c.244_246delGAA</td>\n",
              "      <td>...</td>\n",
              "      <td>NaN</td>\n",
              "      <td>NaN</td>\n",
              "      <td>NaN</td>\n",
              "      <td>NaN</td>\n",
              "      <td>NaN</td>\n",
              "      <td>NaN</td>\n",
              "      <td>NaN</td>\n",
              "      <td>NaN</td>\n",
              "      <td>NaN</td>\n",
              "      <td>NaN</td>\n",
              "      <td>NaN</td>\n",
              "      <td>NaN</td>\n",
              "      <td>NaN</td>\n",
              "      <td>NaN</td>\n",
              "      <td>NaN</td>\n",
              "      <td>NaN</td>\n",
              "      <td>NaN</td>\n",
              "      <td>NaN</td>\n",
              "      <td>NaN</td>\n",
              "      <td>NaN</td>\n",
              "      <td>NaN</td>\n",
              "      <td>NaN</td>\n",
              "      <td>NaN</td>\n",
              "      <td>NaN</td>\n",
              "      <td>NaN</td>\n",
              "      <td>NaN</td>\n",
              "      <td>NaN</td>\n",
              "      <td>.</td>\n",
              "      <td>.</td>\n",
              "      <td>none</td>\n",
              "      <td>NaN</td>\n",
              "      <td>0.562</td>\n",
              "      <td>GAST-001</td>\n",
              "      <td>KNOWN</td>\n",
              "      <td>basic|appris_principal|CCDS</td>\n",
              "      <td>protein_coding</td>\n",
              "      <td>protein_coding</td>\n",
              "      <td>OTTHUMT00000257409.1</td>\n",
              "      <td>NaN</td>\n",
              "      <td>NaN</td>\n",
              "    </tr>\n",
              "    <tr>\n",
              "      <th>3</th>\n",
              "      <td>ATAD5</td>\n",
              "      <td>79915</td>\n",
              "      <td>hgsc.bcm.edu</td>\n",
              "      <td>37</td>\n",
              "      <td>17</td>\n",
              "      <td>29221631</td>\n",
              "      <td>29221635</td>\n",
              "      <td>+</td>\n",
              "      <td>Frame_Shift_Del</td>\n",
              "      <td>DEL</td>\n",
              "      <td>TCTCT</td>\n",
              "      <td>TCTCT</td>\n",
              "      <td>-</td>\n",
              "      <td>NaN</td>\n",
              "      <td>NaN</td>\n",
              "      <td>TCGA-FF-8061-01A-11D-2210-10</td>\n",
              "      <td>TCGA-FF-8061-10A-01D-2210-10</td>\n",
              "      <td>TCTCT</td>\n",
              "      <td>TCTCT</td>\n",
              "      <td>.</td>\n",
              "      <td>.</td>\n",
              "      <td>.</td>\n",
              "      <td>.</td>\n",
              "      <td>Unknown</td>\n",
              "      <td>Untested</td>\n",
              "      <td>Somatic</td>\n",
              "      <td>Phase_I</td>\n",
              "      <td>WXS</td>\n",
              "      <td>none</td>\n",
              "      <td>.</td>\n",
              "      <td>NaN</td>\n",
              "      <td>Illumina HiSeq</td>\n",
              "      <td>a29278af-7ecf-403e-b6a9-623ea7879d05</td>\n",
              "      <td>08470796-8ff6-4e18-98d5-f9ee0d079517</td>\n",
              "      <td>g.chr17:29221631_29221635delTCTCT</td>\n",
              "      <td>ENST00000321990.4</td>\n",
              "      <td>+</td>\n",
              "      <td>22.0</td>\n",
              "      <td>5725_5729</td>\n",
              "      <td>c.5347_5351delTCTCT</td>\n",
              "      <td>...</td>\n",
              "      <td>NaN</td>\n",
              "      <td>NaN</td>\n",
              "      <td>NaN</td>\n",
              "      <td>NaN</td>\n",
              "      <td>NaN</td>\n",
              "      <td>NaN</td>\n",
              "      <td>NaN</td>\n",
              "      <td>NaN</td>\n",
              "      <td>NaN</td>\n",
              "      <td>NaN</td>\n",
              "      <td>NaN</td>\n",
              "      <td>NaN</td>\n",
              "      <td>NaN</td>\n",
              "      <td>NaN</td>\n",
              "      <td>NaN</td>\n",
              "      <td>NaN</td>\n",
              "      <td>NaN</td>\n",
              "      <td>NaN</td>\n",
              "      <td>NaN</td>\n",
              "      <td>NaN</td>\n",
              "      <td>NaN</td>\n",
              "      <td>NaN</td>\n",
              "      <td>NaN</td>\n",
              "      <td>NaN</td>\n",
              "      <td>NaN</td>\n",
              "      <td>NaN</td>\n",
              "      <td>NaN</td>\n",
              "      <td>.</td>\n",
              "      <td>.</td>\n",
              "      <td>none</td>\n",
              "      <td>NaN</td>\n",
              "      <td>0.341</td>\n",
              "      <td>ATAD5-001</td>\n",
              "      <td>KNOWN</td>\n",
              "      <td>basic|appris_principal|CCDS</td>\n",
              "      <td>protein_coding</td>\n",
              "      <td>protein_coding</td>\n",
              "      <td>OTTHUMT00000256206.2</td>\n",
              "      <td>NM_024857</td>\n",
              "      <td>NaN</td>\n",
              "    </tr>\n",
              "    <tr>\n",
              "      <th>4</th>\n",
              "      <td>P2RY10</td>\n",
              "      <td>27334</td>\n",
              "      <td>hgsc.bcm.edu</td>\n",
              "      <td>37</td>\n",
              "      <td>X</td>\n",
              "      <td>78216808</td>\n",
              "      <td>78216808</td>\n",
              "      <td>+</td>\n",
              "      <td>Frame_Shift_Del</td>\n",
              "      <td>DEL</td>\n",
              "      <td>T</td>\n",
              "      <td>T</td>\n",
              "      <td>-</td>\n",
              "      <td>NaN</td>\n",
              "      <td>NaN</td>\n",
              "      <td>TCGA-FF-8061-01A-11D-2210-10</td>\n",
              "      <td>TCGA-FF-8061-10A-01D-2210-10</td>\n",
              "      <td>T</td>\n",
              "      <td>T</td>\n",
              "      <td>.</td>\n",
              "      <td>.</td>\n",
              "      <td>.</td>\n",
              "      <td>.</td>\n",
              "      <td>Unknown</td>\n",
              "      <td>Untested</td>\n",
              "      <td>Somatic</td>\n",
              "      <td>Phase_I</td>\n",
              "      <td>WXS</td>\n",
              "      <td>none</td>\n",
              "      <td>.</td>\n",
              "      <td>NaN</td>\n",
              "      <td>Illumina HiSeq</td>\n",
              "      <td>a29278af-7ecf-403e-b6a9-623ea7879d05</td>\n",
              "      <td>08470796-8ff6-4e18-98d5-f9ee0d079517</td>\n",
              "      <td>g.chrX:78216808delT</td>\n",
              "      <td>ENST00000171757.2</td>\n",
              "      <td>+</td>\n",
              "      <td>4.0</td>\n",
              "      <td>1071</td>\n",
              "      <td>c.791delT</td>\n",
              "      <td>...</td>\n",
              "      <td>NaN</td>\n",
              "      <td>NaN</td>\n",
              "      <td>NaN</td>\n",
              "      <td>NaN</td>\n",
              "      <td>NaN</td>\n",
              "      <td>NaN</td>\n",
              "      <td>NaN</td>\n",
              "      <td>NaN</td>\n",
              "      <td>NaN</td>\n",
              "      <td>NaN</td>\n",
              "      <td>NaN</td>\n",
              "      <td>NaN</td>\n",
              "      <td>NaN</td>\n",
              "      <td>NaN</td>\n",
              "      <td>NaN</td>\n",
              "      <td>NaN</td>\n",
              "      <td>NaN</td>\n",
              "      <td>NaN</td>\n",
              "      <td>NaN</td>\n",
              "      <td>NaN</td>\n",
              "      <td>NaN</td>\n",
              "      <td>NaN</td>\n",
              "      <td>NaN</td>\n",
              "      <td>NaN</td>\n",
              "      <td>NaN</td>\n",
              "      <td>NaN</td>\n",
              "      <td>NaN</td>\n",
              "      <td>.</td>\n",
              "      <td>.</td>\n",
              "      <td>none</td>\n",
              "      <td>NaN</td>\n",
              "      <td>0.458</td>\n",
              "      <td>P2RY10-001</td>\n",
              "      <td>KNOWN</td>\n",
              "      <td>basic|appris_principal|CCDS</td>\n",
              "      <td>protein_coding</td>\n",
              "      <td>protein_coding</td>\n",
              "      <td>OTTHUMT00000057323.1</td>\n",
              "      <td>NaN</td>\n",
              "      <td>NaN</td>\n",
              "    </tr>\n",
              "  </tbody>\n",
              "</table>\n",
              "<p>5 rows × 312 columns</p>\n",
              "</div>"
            ],
            "text/plain": [
              "     gene  entrez_id  ... i_refseq_mrna_id  i_secondary_variant_classification\n",
              "0  ZNF343      79175  ...        NM_024325                                 NaN\n",
              "1  ZNF223       7766  ...              NaN                                 NaN\n",
              "2    GAST       2520  ...              NaN                                 NaN\n",
              "3   ATAD5      79915  ...        NM_024857                                 NaN\n",
              "4  P2RY10      27334  ...              NaN                                 NaN\n",
              "\n",
              "[5 rows x 312 columns]"
            ]
          },
          "metadata": {
            "tags": []
          },
          "execution_count": 64
        }
      ]
    },
    {
      "cell_type": "code",
      "metadata": {
        "id": "5wF-g2V5PnGc",
        "outputId": "7ec8d34b-5914-4523-b6c0-3c6a5d94f533",
        "colab": {
          "base_uri": "https://localhost:8080/",
          "height": 224
        }
      },
      "source": [
        "clinFilt.head()"
      ],
      "execution_count": null,
      "outputs": [
        {
          "output_type": "execute_result",
          "data": {
            "text/html": [
              "<div>\n",
              "<style scoped>\n",
              "    .dataframe tbody tr th:only-of-type {\n",
              "        vertical-align: middle;\n",
              "    }\n",
              "\n",
              "    .dataframe tbody tr th {\n",
              "        vertical-align: top;\n",
              "    }\n",
              "\n",
              "    .dataframe thead th {\n",
              "        text-align: right;\n",
              "    }\n",
              "</style>\n",
              "<table border=\"1\" class=\"dataframe\">\n",
              "  <thead>\n",
              "    <tr style=\"text-align: right;\">\n",
              "      <th></th>\n",
              "      <th>CHROM</th>\n",
              "      <th>POS</th>\n",
              "      <th>ID</th>\n",
              "      <th>REF</th>\n",
              "      <th>ALT</th>\n",
              "      <th>QUAL</th>\n",
              "      <th>FILTER</th>\n",
              "      <th>INFO</th>\n",
              "    </tr>\n",
              "  </thead>\n",
              "  <tbody>\n",
              "    <tr>\n",
              "      <th>11448</th>\n",
              "      <td>1</td>\n",
              "      <td>46738430</td>\n",
              "      <td>6192</td>\n",
              "      <td>T</td>\n",
              "      <td>A</td>\n",
              "      <td>.</td>\n",
              "      <td>.</td>\n",
              "      <td>ALLELEID=21231;CLNDISDB=Human_Phenotype_Ontology:HP:0012539,MedGen:C4721532,OMIM:605027,SNOMED_CT:1929004;CLNDN=Non-Hodgkin_lymphoma;CLNHGVS=NC_000001.10:g.46738430T&gt;A;CLNREVSTAT=no_assertion_criteria_provided;CLNSIG=Pathogenic;CLNVC=single_nucleotide_variant;CLNVCSO=SO:0001483;CLNVI=OMIM_Allelic_Variant:603615.0002|UniProtKB_(protein):Q92698</td>\n",
              "    </tr>\n",
              "    <tr>\n",
              "      <th>17199</th>\n",
              "      <td>1</td>\n",
              "      <td>115258744</td>\n",
              "      <td>375876</td>\n",
              "      <td>C</td>\n",
              "      <td>A</td>\n",
              "      <td>.</td>\n",
              "      <td>.</td>\n",
              "      <td>ALLELEID=362755;CLNDISDB=Human_Phenotype_Ontology:HP:0002664,MeSH:D009369,MedGen:C0027651,SNOMED_CT:108369006|Human_Phenotype_Ontology:HP:0002885,MeSH:D008527,MedGen:C0025149,OMIM:155255,Orphanet:ORPHA616|Human_Phenotype_Ontology:HP:0004808,MeSH:D015470,MedGen:C0023467,OMIM:601626,Orphanet:ORPHA519,SNOMED_CT:17788007|Human_Phenotype_Ontology:HP:0006740,MedGen:C0279680|Human_Phenotype_Ontology:HP:0006775,MeSH:D009101,MedGen:C0026764,OMIM:254500,Orphanet:ORPHA29073,SNOMED_CT:109989006,SNOMED_CT:55921005|Human_Phenotype_Ontology:HP:0012056,MeSH:D008545,MedGen:C0025202|Human_Phenotype_Ontology:HP:0012539,MedGen:C4721532,OMIM:605027,SNOMED_CT:1929004|Human_Phenotype_Ontology:HP:0100834,MeSH:D015179,MedGen:C0009404,SNOMED_CT:126837005|MeSH:C562393,MedGen:C0151779,SNOMED_CT:93655004|MeSH:D009190,MedGen:C3463824,OMIM:614286,Orphanet:ORPHA52688|MedGen:C0278701;CLNDN=Neoplasm|Medulloblastoma|Acute_myeloid_leukemia|Transitional_cell_carcinoma_of_the_bladder|Multiple_myeloma|Cutaneous_melanoma...</td>\n",
              "    </tr>\n",
              "    <tr>\n",
              "      <th>17201</th>\n",
              "      <td>1</td>\n",
              "      <td>115258744</td>\n",
              "      <td>13901</td>\n",
              "      <td>C</td>\n",
              "      <td>T</td>\n",
              "      <td>.</td>\n",
              "      <td>.</td>\n",
              "      <td>AF_EXAC=0.00001;ALLELEID=28940;CLNDISDB=Human_Phenotype_Ontology:HP:0002885,MeSH:D008527,MedGen:C0025149,OMIM:155255,Orphanet:ORPHA616|Human_Phenotype_Ontology:HP:0004808,MeSH:D015470,MedGen:C0023467,OMIM:601626,Orphanet:ORPHA519,SNOMED_CT:17788007|Human_Phenotype_Ontology:HP:0006740,MedGen:C0279680|Human_Phenotype_Ontology:HP:0006775,MeSH:D009101,MedGen:C0026764,OMIM:254500,Orphanet:ORPHA29073,SNOMED_CT:109989006,SNOMED_CT:55921005|Human_Phenotype_Ontology:HP:0012056,MeSH:D008545,MedGen:C0025202|Human_Phenotype_Ontology:HP:0012209,MedGen:C0349639,OMIM:607785,Orphanet:ORPHA86834|Human_Phenotype_Ontology:HP:0012539,MedGen:C4721532,OMIM:605027,SNOMED_CT:1929004|Human_Phenotype_Ontology:HP:0100834,MeSH:D015179,MedGen:C0009404,SNOMED_CT:126837005|MeSH:C562393,MedGen:C0151779,SNOMED_CT:93655004|MeSH:D009190,MedGen:C3463824,OMIM:614286,Orphanet:ORPHA52688|MedGen:C0278701|MedGen:C2674723,OMIM:614470,Orphanet:ORPHA268114|MedGen:C2750732,OMIM:613224|MedGen:CN517202;CLNDN=Medulloblastoma|Acu...</td>\n",
              "    </tr>\n",
              "    <tr>\n",
              "      <th>17203</th>\n",
              "      <td>1</td>\n",
              "      <td>115258745</td>\n",
              "      <td>13899</td>\n",
              "      <td>C</td>\n",
              "      <td>G</td>\n",
              "      <td>.</td>\n",
              "      <td>.</td>\n",
              "      <td>ALLELEID=28938;CLNDISDB=Human_Phenotype_Ontology:HP:0002885,MeSH:D008527,MedGen:C0025149,OMIM:155255,Orphanet:ORPHA616|Human_Phenotype_Ontology:HP:0004808,MeSH:D015470,MedGen:C0023467,OMIM:601626,Orphanet:ORPHA519,SNOMED_CT:17788007|Human_Phenotype_Ontology:HP:0005600,MedGen:C1842036,OMIM:137550|Human_Phenotype_Ontology:HP:0006740,MedGen:C0279680|Human_Phenotype_Ontology:HP:0006775,MeSH:D009101,MedGen:C0026764,OMIM:254500,Orphanet:ORPHA29073,SNOMED_CT:109989006,SNOMED_CT:55921005|Human_Phenotype_Ontology:HP:0012056,MeSH:D008545,MedGen:C0025202|Human_Phenotype_Ontology:HP:0012539,MedGen:C4721532,OMIM:605027,SNOMED_CT:1929004|Human_Phenotype_Ontology:HP:0100834,MeSH:D015179,MedGen:C0009404,SNOMED_CT:126837005|MeSH:C562393,MedGen:C0151779,SNOMED_CT:93655004|MeSH:D009190,MedGen:C3463824,OMIM:614286,Orphanet:ORPHA52688|MedGen:C0278701|MedGen:C0699790,OMIM:114500,SNOMED_CT:269533000;CLNDN=Medulloblastoma|Acute_myeloid_leukemia|Congenital_giant_melanocytic_nevus|Transitional_cell_carcinom...</td>\n",
              "    </tr>\n",
              "    <tr>\n",
              "      <th>76990</th>\n",
              "      <td>2</td>\n",
              "      <td>202070652</td>\n",
              "      <td>7766</td>\n",
              "      <td>C</td>\n",
              "      <td>T</td>\n",
              "      <td>.</td>\n",
              "      <td>.</td>\n",
              "      <td>ALLELEID=22805;CLNDISDB=Human_Phenotype_Ontology:HP:0006753,MeSH:D013274,MedGen:C0038356,OMIM:613659,SNOMED_CT:126824007|Human_Phenotype_Ontology:HP:0012539,MedGen:C4721532,OMIM:605027,SNOMED_CT:1929004;CLNDN=Neoplasm_of_stomach|Non-Hodgkin_lymphoma;CLNHGVS=NC_000002.11:g.202070652C&gt;T;CLNREVSTAT=no_assertion_criteria_provided;CLNSIG=Pathogenic;CLNVC=single_nucleotide_variant;CLNVCSO=SO:0001483;CLNVI=OMIM_Allelic_Variant:601762.0004;GENEINFO=CASP10:843;MC=SO:0001587|nonsense,SO:0001627|intron_variant;ORIGIN=2;RS=121909775</td>\n",
              "    </tr>\n",
              "  </tbody>\n",
              "</table>\n",
              "</div>"
            ],
            "text/plain": [
              "      CHROM  ...                                                                                                                                                                                                                                                                                                                                                                                                                                                                                                                                                                                                                                                                                                                                                                                                                                                                                                                                                                                                                                     INFO\n",
              "11448     1  ...                                                                                                                                                                                                                                                                                                                                                                                                                                                                                                                                                                                                                                                                                 ALLELEID=21231;CLNDISDB=Human_Phenotype_Ontology:HP:0012539,MedGen:C4721532,OMIM:605027,SNOMED_CT:1929004;CLNDN=Non-Hodgkin_lymphoma;CLNHGVS=NC_000001.10:g.46738430T>A;CLNREVSTAT=no_assertion_criteria_provided;CLNSIG=Pathogenic;CLNVC=single_nucleotide_variant;CLNVCSO=SO:0001483;CLNVI=OMIM_Allelic_Variant:603615.0002|UniProtKB_(protein):Q92698\n",
              "17199     1  ...  ALLELEID=362755;CLNDISDB=Human_Phenotype_Ontology:HP:0002664,MeSH:D009369,MedGen:C0027651,SNOMED_CT:108369006|Human_Phenotype_Ontology:HP:0002885,MeSH:D008527,MedGen:C0025149,OMIM:155255,Orphanet:ORPHA616|Human_Phenotype_Ontology:HP:0004808,MeSH:D015470,MedGen:C0023467,OMIM:601626,Orphanet:ORPHA519,SNOMED_CT:17788007|Human_Phenotype_Ontology:HP:0006740,MedGen:C0279680|Human_Phenotype_Ontology:HP:0006775,MeSH:D009101,MedGen:C0026764,OMIM:254500,Orphanet:ORPHA29073,SNOMED_CT:109989006,SNOMED_CT:55921005|Human_Phenotype_Ontology:HP:0012056,MeSH:D008545,MedGen:C0025202|Human_Phenotype_Ontology:HP:0012539,MedGen:C4721532,OMIM:605027,SNOMED_CT:1929004|Human_Phenotype_Ontology:HP:0100834,MeSH:D015179,MedGen:C0009404,SNOMED_CT:126837005|MeSH:C562393,MedGen:C0151779,SNOMED_CT:93655004|MeSH:D009190,MedGen:C3463824,OMIM:614286,Orphanet:ORPHA52688|MedGen:C0278701;CLNDN=Neoplasm|Medulloblastoma|Acute_myeloid_leukemia|Transitional_cell_carcinoma_of_the_bladder|Multiple_myeloma|Cutaneous_melanoma...\n",
              "17201     1  ...  AF_EXAC=0.00001;ALLELEID=28940;CLNDISDB=Human_Phenotype_Ontology:HP:0002885,MeSH:D008527,MedGen:C0025149,OMIM:155255,Orphanet:ORPHA616|Human_Phenotype_Ontology:HP:0004808,MeSH:D015470,MedGen:C0023467,OMIM:601626,Orphanet:ORPHA519,SNOMED_CT:17788007|Human_Phenotype_Ontology:HP:0006740,MedGen:C0279680|Human_Phenotype_Ontology:HP:0006775,MeSH:D009101,MedGen:C0026764,OMIM:254500,Orphanet:ORPHA29073,SNOMED_CT:109989006,SNOMED_CT:55921005|Human_Phenotype_Ontology:HP:0012056,MeSH:D008545,MedGen:C0025202|Human_Phenotype_Ontology:HP:0012209,MedGen:C0349639,OMIM:607785,Orphanet:ORPHA86834|Human_Phenotype_Ontology:HP:0012539,MedGen:C4721532,OMIM:605027,SNOMED_CT:1929004|Human_Phenotype_Ontology:HP:0100834,MeSH:D015179,MedGen:C0009404,SNOMED_CT:126837005|MeSH:C562393,MedGen:C0151779,SNOMED_CT:93655004|MeSH:D009190,MedGen:C3463824,OMIM:614286,Orphanet:ORPHA52688|MedGen:C0278701|MedGen:C2674723,OMIM:614470,Orphanet:ORPHA268114|MedGen:C2750732,OMIM:613224|MedGen:CN517202;CLNDN=Medulloblastoma|Acu...\n",
              "17203     1  ...  ALLELEID=28938;CLNDISDB=Human_Phenotype_Ontology:HP:0002885,MeSH:D008527,MedGen:C0025149,OMIM:155255,Orphanet:ORPHA616|Human_Phenotype_Ontology:HP:0004808,MeSH:D015470,MedGen:C0023467,OMIM:601626,Orphanet:ORPHA519,SNOMED_CT:17788007|Human_Phenotype_Ontology:HP:0005600,MedGen:C1842036,OMIM:137550|Human_Phenotype_Ontology:HP:0006740,MedGen:C0279680|Human_Phenotype_Ontology:HP:0006775,MeSH:D009101,MedGen:C0026764,OMIM:254500,Orphanet:ORPHA29073,SNOMED_CT:109989006,SNOMED_CT:55921005|Human_Phenotype_Ontology:HP:0012056,MeSH:D008545,MedGen:C0025202|Human_Phenotype_Ontology:HP:0012539,MedGen:C4721532,OMIM:605027,SNOMED_CT:1929004|Human_Phenotype_Ontology:HP:0100834,MeSH:D015179,MedGen:C0009404,SNOMED_CT:126837005|MeSH:C562393,MedGen:C0151779,SNOMED_CT:93655004|MeSH:D009190,MedGen:C3463824,OMIM:614286,Orphanet:ORPHA52688|MedGen:C0278701|MedGen:C0699790,OMIM:114500,SNOMED_CT:269533000;CLNDN=Medulloblastoma|Acute_myeloid_leukemia|Congenital_giant_melanocytic_nevus|Transitional_cell_carcinom...\n",
              "76990     2  ...                                                                                                                                                                                                                                                                                                                                                                                                                                                                                           ALLELEID=22805;CLNDISDB=Human_Phenotype_Ontology:HP:0006753,MeSH:D013274,MedGen:C0038356,OMIM:613659,SNOMED_CT:126824007|Human_Phenotype_Ontology:HP:0012539,MedGen:C4721532,OMIM:605027,SNOMED_CT:1929004;CLNDN=Neoplasm_of_stomach|Non-Hodgkin_lymphoma;CLNHGVS=NC_000002.11:g.202070652C>T;CLNREVSTAT=no_assertion_criteria_provided;CLNSIG=Pathogenic;CLNVC=single_nucleotide_variant;CLNVCSO=SO:0001483;CLNVI=OMIM_Allelic_Variant:601762.0004;GENEINFO=CASP10:843;MC=SO:0001587|nonsense,SO:0001627|intron_variant;ORIGIN=2;RS=121909775\n",
              "\n",
              "[5 rows x 8 columns]"
            ]
          },
          "metadata": {
            "tags": []
          },
          "execution_count": 81
        }
      ]
    },
    {
      "cell_type": "code",
      "metadata": {
        "id": "E7Ff6QejQ5Fe",
        "outputId": "9dcb8149-dfa7-430a-8543-2049f676d847",
        "colab": {
          "base_uri": "https://localhost:8080/"
        }
      },
      "source": [
        "merged = pd.merge(clinFilt_gene, mutations, how='inner', left_on=[\"CHROM\", \"POS\", \"ALT\"], right_on=[\"chrom\", \"start\", \"tumor_seq_allele2\"])\n",
        "merged.shape"
      ],
      "execution_count": null,
      "outputs": [
        {
          "output_type": "execute_result",
          "data": {
            "text/plain": [
              "(7, 320)"
            ]
          },
          "metadata": {
            "tags": []
          },
          "execution_count": 160
        }
      ]
    },
    {
      "cell_type": "markdown",
      "metadata": {
        "id": "cTDJVMMJXh60"
      },
      "source": [
        "In order to check how many of the variants from the previous filtered clinvar appear in TCGA DLBCL mutation data, I cross-checked chromosome number, the alternate allele, and the positions of the variants. \n",
        "\n",
        "The final number of variants that appear in the mutation data is 7."
      ]
    },
    {
      "cell_type": "markdown",
      "metadata": {
        "id": "7ke7kDSoX8bA"
      },
      "source": [
        "## 1.4. Categorize the 48 DLBCL samples into three tiers as described above. How many samples do you have in each category? (1 pts)"
      ]
    },
    {
      "cell_type": "code",
      "metadata": {
        "id": "Pin3vlq3buK4",
        "outputId": "e97b6a37-fd0f-432b-c8b4-f454957e63ee",
        "colab": {
          "base_uri": "https://localhost:8080/"
        }
      },
      "source": [
        "mutations[\"tumor_sample_barcode\"].nunique()"
      ],
      "execution_count": null,
      "outputs": [
        {
          "output_type": "execute_result",
          "data": {
            "text/plain": [
              "48"
            ]
          },
          "metadata": {
            "tags": []
          },
          "execution_count": 98
        }
      ]
    },
    {
      "cell_type": "code",
      "metadata": {
        "id": "CfI5mRGCf3Y5",
        "outputId": "bd19b941-efd4-478c-92b2-0461861885c0",
        "colab": {
          "base_uri": "https://localhost:8080/"
        }
      },
      "source": [
        "mutations.shape"
      ],
      "execution_count": null,
      "outputs": [
        {
          "output_type": "execute_result",
          "data": {
            "text/plain": [
              "(16918, 312)"
            ]
          },
          "metadata": {
            "tags": []
          },
          "execution_count": 164
        }
      ]
    },
    {
      "cell_type": "code",
      "metadata": {
        "id": "Kcr0fyameeI9",
        "outputId": "07a5361e-45e8-4198-fa4b-61a3b86251bc",
        "colab": {
          "base_uri": "https://localhost:8080/"
        }
      },
      "source": [
        "Tier_1 = merged.groupby(\"tumor_sample_barcode\", as_index=False).count()\n",
        "Tier_1[\"tumor_sample_barcode\"]"
      ],
      "execution_count": null,
      "outputs": [
        {
          "output_type": "execute_result",
          "data": {
            "text/plain": [
              "0    TCGA-FA-8693-01A-11D-2397-10\n",
              "1    TCGA-FA-A7Q1-01A-11D-A382-10\n",
              "2    TCGA-FM-8000-01A-11D-2210-10\n",
              "3    TCGA-G8-6907-01A-11D-2210-10\n",
              "4    TCGA-GR-7353-01A-11D-2210-10\n",
              "5    TCGA-GS-A9TY-01A-11D-A38X-10\n",
              "Name: tumor_sample_barcode, dtype: object"
            ]
          },
          "metadata": {
            "tags": []
          },
          "execution_count": 135
        }
      ]
    },
    {
      "cell_type": "code",
      "metadata": {
        "id": "3M-2udDNex6P"
      },
      "source": [
        "# Thus Tier 1 has 6 samples in it that are from unique DLBCL samples with exact pathogenic variants."
      ],
      "execution_count": null,
      "outputs": []
    },
    {
      "cell_type": "code",
      "metadata": {
        "id": "i7GNaojXg39T",
        "outputId": "a605b3c5-ab67-43c6-b63a-75d76f1847ed",
        "colab": {
          "base_uri": "https://localhost:8080/"
        }
      },
      "source": [
        "# Filter out the pathogenic + likely-pathogenic samples for the rest - Tier2\n",
        "clinRest = clinvar[~clinvar.isin(clinFilt)].dropna()\n",
        "clinRest.shape"
      ],
      "execution_count": null,
      "outputs": [
        {
          "output_type": "execute_result",
          "data": {
            "text/plain": [
              "(474797, 8)"
            ]
          },
          "metadata": {
            "tags": []
          },
          "execution_count": 161
        }
      ]
    },
    {
      "cell_type": "code",
      "metadata": {
        "id": "2uFfBSSsi2cP",
        "outputId": "29c8fb00-4d70-4e3f-bc0b-c9901266ae3f",
        "colab": {
          "base_uri": "https://localhost:8080/"
        }
      },
      "source": [
        "clinRest = mutations[~mutations[\"tumor_sample_barcode\"].isin(Tier_1[\"tumor_sample_barcode\"])]\n",
        "clinRest.shape"
      ],
      "execution_count": null,
      "outputs": [
        {
          "output_type": "execute_result",
          "data": {
            "text/plain": [
              "(14753, 312)"
            ]
          },
          "metadata": {
            "tags": []
          },
          "execution_count": 163
        }
      ]
    },
    {
      "cell_type": "code",
      "metadata": {
        "id": "--tyT3QVk8We"
      },
      "source": [
        "unique_genes = [\"NRAS\", \"CASP10\", \"RHOA\", \"PIK3CA\", \"EZH2\", \"MYC\", \"B2M\", \"MAP2K1\", \"TP53\"]"
      ],
      "execution_count": null,
      "outputs": []
    },
    {
      "cell_type": "code",
      "metadata": {
        "id": "vWVJZtV_l0dA",
        "outputId": "a695a046-8f29-4652-f1ba-5bbd99fd8192",
        "colab": {
          "base_uri": "https://localhost:8080/"
        }
      },
      "source": [
        "Tier_2_genes = clinRest[clinRest[\"gene\"].isin(unique_genes)]\n",
        "Tier_2 = Tier_2_genes.groupby(\"tumor_sample_barcode\", as_index=False).count()\n",
        "Tier_2[\"tumor_sample_barcode\"]"
      ],
      "execution_count": null,
      "outputs": [
        {
          "output_type": "execute_result",
          "data": {
            "text/plain": [
              "0     TCGA-FA-A4XK-01A-11D-A31X-10\n",
              "1     TCGA-FA-A6HN-01A-11D-A31X-10\n",
              "2     TCGA-FA-A82F-01A-11D-A382-10\n",
              "3     TCGA-FF-8041-01A-11D-2210-10\n",
              "4     TCGA-FF-8043-01A-11D-2210-10\n",
              "5     TCGA-FF-8046-01A-11D-2210-10\n",
              "6     TCGA-FF-8047-01A-11D-2210-10\n",
              "7     TCGA-FF-8061-01A-11D-2210-10\n",
              "8     TCGA-FF-8062-01A-11D-2210-10\n",
              "9     TCGA-G8-6324-01A-11D-2210-10\n",
              "10    TCGA-G8-6325-01A-11D-2210-10\n",
              "11    TCGA-G8-6914-01A-11D-2210-10\n",
              "12    TCGA-GR-7351-01A-11D-2210-10\n",
              "13    TCGA-GR-A4D4-01A-11D-A31X-10\n",
              "14    TCGA-GR-A4D9-01B-11D-A31X-10\n",
              "15    TCGA-GS-A9TV-01A-11D-A382-10\n",
              "16    TCGA-GS-A9TW-01A-11D-A382-10\n",
              "17    TCGA-RQ-A6JB-01A-11D-A31X-10\n",
              "18    TCGA-RQ-AAAT-01A-11D-A38X-10\n",
              "Name: tumor_sample_barcode, dtype: object"
            ]
          },
          "metadata": {
            "tags": []
          },
          "execution_count": 170
        }
      ]
    },
    {
      "cell_type": "code",
      "metadata": {
        "id": "5E7-WUe4l_-A"
      },
      "source": [
        "# As Tier_2 has 19 rows, then Tier 2 consists of 19 DLBCL samples."
      ],
      "execution_count": null,
      "outputs": []
    },
    {
      "cell_type": "code",
      "metadata": {
        "id": "bmAK5tEfoRzV",
        "outputId": "78da7dc3-a3e8-49e5-e087-e03965a4cef5",
        "colab": {
          "base_uri": "https://localhost:8080/"
        }
      },
      "source": [
        "Tier_3_samples = mutations[((~mutations[\"tumor_sample_barcode\"].isin(Tier_1[\"tumor_sample_barcode\"])) \n",
        "                  & (~mutations[\"tumor_sample_barcode\"].isin(Tier_2[\"tumor_sample_barcode\"])))]\n",
        "\n",
        "Tier_3 = Tier_3_samples.groupby(\"tumor_sample_barcode\", as_index=False).count()\n",
        "Tier_3[\"tumor_sample_barcode\"]"
      ],
      "execution_count": null,
      "outputs": [
        {
          "output_type": "execute_result",
          "data": {
            "text/plain": [
              "0     TCGA-FA-A4BB-01A-11D-A31X-10\n",
              "1     TCGA-FA-A6HO-01A-11D-A31X-10\n",
              "2     TCGA-FA-A7DS-01A-11D-A382-10\n",
              "3     TCGA-FA-A86F-01A-11D-A382-10\n",
              "4     TCGA-FF-8042-01A-11D-2210-10\n",
              "5     TCGA-FF-A7CQ-01A-11D-A382-10\n",
              "6     TCGA-FF-A7CR-01A-11D-A382-10\n",
              "7     TCGA-FF-A7CW-01A-11D-A382-10\n",
              "8     TCGA-FF-A7CX-01A-12D-A382-10\n",
              "9     TCGA-G8-6326-01A-11D-2210-10\n",
              "10    TCGA-G8-6906-01A-11D-2210-10\n",
              "11    TCGA-G8-6909-01A-11D-2210-10\n",
              "12    TCGA-GR-A4D5-01A-11D-A31X-10\n",
              "13    TCGA-GR-A4D6-01A-11D-A31X-10\n",
              "14    TCGA-GS-A9TQ-01A-11D-A382-10\n",
              "15    TCGA-GS-A9TT-01A-11D-A382-10\n",
              "16    TCGA-GS-A9TU-01A-11D-A382-10\n",
              "17    TCGA-GS-A9TX-01A-11D-A382-10\n",
              "18    TCGA-GS-A9TZ-01A-11D-A38X-10\n",
              "19    TCGA-GS-A9U3-01A-11D-A38X-10\n",
              "20    TCGA-GS-A9U4-01A-11D-A38X-10\n",
              "21    TCGA-RQ-A68N-01A-11D-A31X-10\n",
              "22    TCGA-VB-A8QN-01A-11D-A382-10\n",
              "Name: tumor_sample_barcode, dtype: object"
            ]
          },
          "metadata": {
            "tags": []
          },
          "execution_count": 175
        }
      ]
    },
    {
      "cell_type": "code",
      "metadata": {
        "id": "zracpfgrow9_"
      },
      "source": [
        "# Tier 3 contains the rest of the samples, which are 23 and are the barcodes listed above."
      ],
      "execution_count": null,
      "outputs": []
    },
    {
      "cell_type": "markdown",
      "metadata": {
        "id": "swmQFO6fIofg"
      },
      "source": [
        "Based on the above, we can see that:\n",
        "\n",
        "Tier 1 has 6 samples\n",
        "\n",
        "Tier 2 has 19 samples\n",
        "\n",
        "Tier 3 has 23 samples."
      ]
    }
  ]
}